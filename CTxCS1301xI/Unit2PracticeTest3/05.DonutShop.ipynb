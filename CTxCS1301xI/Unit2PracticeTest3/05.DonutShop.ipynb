{
 "cells": [
  {
   "cell_type": "code",
   "execution_count": 4,
   "metadata": {},
   "outputs": [
    {
     "name": "stdout",
     "output_type": "stream",
     "text": [
      "Packs of 60: 1\n",
      "Packs of 12: 4\n",
      "Packs of 3: 3\n",
      "Packs of 1: 2\n"
     ]
    }
   ],
   "source": [
    "donuts = 119\n",
    "\n",
    "#You may modify the lines of code above, but don't move them!\n",
    "#When you Submit your code, we'll change these lines to\n",
    "#assign different values to the variables.\n",
    "\n",
    "#A donut shop sells donuts in four sizes: packs of 60 donuts,\n",
    "#packs of 12 donuts, packs of 3 donuts, and individual donuts.\n",
    "#\n",
    "#To divide donuts into packs, they start by making as many of\n",
    "#the largest pack as they can. Then, they make as many of the\n",
    "#next largest pack, then the next pack, then finally they sell\n",
    "#the remaining donuts individually. For example, if they baked\n",
    "#119 donuts, then they would divide those donuts into one\n",
    "#pack of 60, four packs of 12, three packs of 3, and 2\n",
    "#individual donuts.\n",
    "#\n",
    "#Based on the variable donuts above, calculate how many of\n",
    "#each size they will make. Print the results according to\n",
    "#this template:\n",
    "#\n",
    "#Packs of 60: 1\n",
    "#Packs of 12: 4\n",
    "#Packs of 3: 3\n",
    "#Packs of 1: 2\n",
    "\n",
    "\n",
    "#Add your code here!\n",
    "for pack in [60, 12, 3, 1]:\n",
    "    packs, donuts = divmod(donuts, pack)\n",
    "    print(f\"Packs of {pack}: {packs}\")"
   ]
  }
 ],
 "metadata": {
  "kernelspec": {
   "display_name": ".venv",
   "language": "python",
   "name": "python3"
  },
  "language_info": {
   "codemirror_mode": {
    "name": "ipython",
    "version": 3
   },
   "file_extension": ".py",
   "mimetype": "text/x-python",
   "name": "python",
   "nbconvert_exporter": "python",
   "pygments_lexer": "ipython3",
   "version": "3.11.1"
  },
  "orig_nbformat": 4,
  "vscode": {
   "interpreter": {
    "hash": "b8ed45f46ae93313bdeaf6b364e024d47ad211eeeeeeec96ed3b577ee8c481c6"
   }
  }
 },
 "nbformat": 4,
 "nbformat_minor": 2
}
