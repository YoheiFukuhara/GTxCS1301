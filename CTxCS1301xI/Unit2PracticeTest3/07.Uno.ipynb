{
 "cells": [
  {
   "cell_type": "code",
   "execution_count": 1,
   "metadata": {},
   "outputs": [
    {
     "name": "stdout",
     "output_type": "stream",
     "text": [
      "True\n"
     ]
    }
   ],
   "source": [
    "previous_color = \"Red\"\n",
    "previous_value = \"9\"\n",
    "current_color = \"Red\"\n",
    "current_value = \"7\"\n",
    "\n",
    "#You may modify the lines of code above, but don't move them!\n",
    "#When you Submit your code, we'll change these lines to\n",
    "#assign different values to the variables.\n",
    "\n",
    "#In the card game Uno, players take turns playing cards on\n",
    "#top a growing pile of cards facing up. On your turn, the\n",
    "#card you put down must meet one of two conditions:\n",
    "#\n",
    "# - It must either have the same color _or_ the same value\n",
    "#   as the previous card, or\n",
    "# - It must be black. Black cards (Wild and Wild Draw 4) may\n",
    "#   be played at any time, no matter the value of the previous\n",
    "#   card.\n",
    "#\n",
    "#Write some code that prints True if the card represented by\n",
    "#current_color and current_value may be played on top of the\n",
    "#card represented by previous_color and previous_value. Print\n",
    "#False if it may not be played.\n",
    "#\n",
    "#You may assume that previous_color will never be Black.\n",
    "\n",
    "\n",
    "#Add your code here!\n",
    "print(current_color==\"Black\" or previous_color==current_color or previous_value==current_value)"
   ]
  }
 ],
 "metadata": {
  "kernelspec": {
   "display_name": ".venv",
   "language": "python",
   "name": "python3"
  },
  "language_info": {
   "codemirror_mode": {
    "name": "ipython",
    "version": 3
   },
   "file_extension": ".py",
   "mimetype": "text/x-python",
   "name": "python",
   "nbconvert_exporter": "python",
   "pygments_lexer": "ipython3",
   "version": "3.11.1"
  },
  "orig_nbformat": 4,
  "vscode": {
   "interpreter": {
    "hash": "b8ed45f46ae93313bdeaf6b364e024d47ad211eeeeeeec96ed3b577ee8c481c6"
   }
  }
 },
 "nbformat": 4,
 "nbformat_minor": 2
}
