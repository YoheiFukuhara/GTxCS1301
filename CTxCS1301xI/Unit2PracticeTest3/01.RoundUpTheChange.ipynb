{
 "cells": [
  {
   "cell_type": "code",
   "execution_count": 1,
   "metadata": {},
   "outputs": [
    {
     "name": "stdout",
     "output_type": "stream",
     "text": [
      "Your total is $6 and you donated $0.55\n"
     ]
    }
   ],
   "source": [
    "original_total = \"5.45\"\n",
    "donation = \"0.55\"\n",
    "\n",
    "#You may modify the lines of code above, but don't move them!\n",
    "#When you Submit your code, we'll change these lines to\n",
    "#assign different values to the variables.\n",
    "\n",
    "#Imagine you're writing code for the cash register of a\n",
    "#fast casual restaurant. For this restaurant, customers have\n",
    "#the option to round up their total and donate the extra to\n",
    "#charity. For example, if a customer's total was $5.45, they\n",
    "#could round up to $6.00, and donate the extra $0.55 to\n",
    "#charity.\n",
    "#\n",
    "#The variables original_total and donation represent these\n",
    "#values; you may assume they will always add to a whole integer.\n",
    "#Due to an error by another programmer, though, they are initially\n",
    "#given to you as strings rather than floats.\n",
    "#\n",
    "#Write some code that will print the customer's total and\n",
    "#how much they donated. This sentence should read as follows:\n",
    "#\n",
    "# Your total is $6 and you donated $0.55\n",
    "#\n",
    "#Note that because we always round up to a full dollar,\n",
    "#the total should be printed as an integer. Make sure the\n",
    "#dollar signs are in the right place, with no spaces following\n",
    "#the dollar signs.\n",
    "\n",
    "\n",
    "#Add your code here!\n",
    "total = int(float(original_total)+float(donation))\n",
    "print(f\"Your total is ${total} and you donated ${donation}\")"
   ]
  }
 ],
 "metadata": {
  "kernelspec": {
   "display_name": ".venv",
   "language": "python",
   "name": "python3"
  },
  "language_info": {
   "codemirror_mode": {
    "name": "ipython",
    "version": 3
   },
   "file_extension": ".py",
   "mimetype": "text/x-python",
   "name": "python",
   "nbconvert_exporter": "python",
   "pygments_lexer": "ipython3",
   "version": "3.11.1"
  },
  "orig_nbformat": 4,
  "vscode": {
   "interpreter": {
    "hash": "b8ed45f46ae93313bdeaf6b364e024d47ad211eeeeeeec96ed3b577ee8c481c6"
   }
  }
 },
 "nbformat": 4,
 "nbformat_minor": 2
}
