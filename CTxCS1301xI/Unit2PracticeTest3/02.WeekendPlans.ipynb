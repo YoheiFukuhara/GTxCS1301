{
 "cells": [
  {
   "cell_type": "code",
   "execution_count": 2,
   "metadata": {},
   "outputs": [
    {
     "name": "stdout",
     "output_type": "stream",
     "text": [
      "Beach: False\n",
      "Lake: True\n",
      "Park: True\n",
      "Home: False\n"
     ]
    }
   ],
   "source": [
    "is_weekend = True\n",
    "is_holiday = False\n",
    "is_rainy = False\n",
    "\n",
    "#You may modify the lines of code above, but don't move them!\n",
    "#When you Submit your code, we'll change these lines to\n",
    "#assign different values to the variables.\n",
    "\n",
    "#Write a program that will determine what kind of plans you\n",
    "#could make based on what kind of day it is and what the\n",
    "#weather is like.\n",
    "#\n",
    "#You have three variables to use in these decisions:\n",
    "#\n",
    "# - is_weekend, whether it's a weekend day\n",
    "# - is_holiday, whether it's a holiday\n",
    "# - is_rainy, whether it's going to be raining\n",
    "#\n",
    "#Your four options are:\n",
    "#\n",
    "# - Beach, if it's both a holiday and a weekend as long as\n",
    "#   it's _not_ raining. If it's raining, the beach is not\n",
    "#   an option.\n",
    "# - Lake, if it's a weekend and not raining. It doesn't\n",
    "#   matter if it's a holiday or not.\n",
    "# - Park, if it's not raining. It doesn't matter whether\n",
    "#   it's a weekend or holiday.\n",
    "# - Home, if it's raining, or if it's neither a weekend\n",
    "#   nor a holiday.\n",
    "#\n",
    "#In other words: the Beach is an option on holiday weekends\n",
    "#when the weather is good. The Lake is an option on regular\n",
    "#weekends when the weather is good. The Park is an option\n",
    "#any time the weather is good. Home is an option if it's\n",
    "#raining, or if it's not a weekday that isn't a holiday.\n",
    "\n",
    "#\n",
    "#Print your results like this, based on whether each is\n",
    "#an option according to the logic above:\n",
    "#\n",
    "# - Beach: False\n",
    "# - Lake: True\n",
    "# - Park: True\n",
    "# - Home: False\n",
    "\n",
    "\n",
    "#Add your code here!\n",
    "print(\"Beach:\", is_holiday and is_weekend and not is_rainy)\n",
    "print(\"Lake:\", is_weekend and not is_rainy)\n",
    "print(\"Park:\", not is_rainy)\n",
    "print(\"Home:\", is_rainy or not (is_weekend or is_holiday))"
   ]
  }
 ],
 "metadata": {
  "kernelspec": {
   "display_name": ".venv",
   "language": "python",
   "name": "python3"
  },
  "language_info": {
   "codemirror_mode": {
    "name": "ipython",
    "version": 3
   },
   "file_extension": ".py",
   "mimetype": "text/x-python",
   "name": "python",
   "nbconvert_exporter": "python",
   "pygments_lexer": "ipython3",
   "version": "3.11.1"
  },
  "orig_nbformat": 4,
  "vscode": {
   "interpreter": {
    "hash": "b8ed45f46ae93313bdeaf6b364e024d47ad211eeeeeeec96ed3b577ee8c481c6"
   }
  }
 },
 "nbformat": 4,
 "nbformat_minor": 2
}
