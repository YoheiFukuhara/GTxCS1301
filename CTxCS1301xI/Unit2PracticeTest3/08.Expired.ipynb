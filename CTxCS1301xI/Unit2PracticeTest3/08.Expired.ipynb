{
 "cells": [
  {
   "cell_type": "code",
   "execution_count": 1,
   "metadata": {},
   "outputs": [
    {
     "name": "stdout",
     "output_type": "stream",
     "text": [
      "False\n"
     ]
    }
   ],
   "source": [
    "current_day = 12\n",
    "current_month = 9\n",
    "current_year = 2019\n",
    "exp_day = 13\n",
    "exp_month = 9\n",
    "exp_year = 2019\n",
    "\n",
    "#You may modify the lines of code above, but don't move them!\n",
    "#When you Submit your code, we'll change these lines to\n",
    "#assign different values to the variables.\n",
    "\n",
    "#Given the current date and expiration date held by the\n",
    "#variables above, determine whether a food with the listed\n",
    "#expiration date has expired. Print True if it has expired,\n",
    "#False is it has not. A food is defined as expired if the\n",
    "#current date is _after_ the expiration date, not equal to\n",
    "#it.\n",
    "\n",
    "\n",
    "#Add your code here!\n",
    "current = current_day + current_month * 100 + current_year * 10000\n",
    "exp = exp_day + exp_month * 100 + exp_year * 10000\n",
    "print(current > exp)"
   ]
  }
 ],
 "metadata": {
  "kernelspec": {
   "display_name": ".venv",
   "language": "python",
   "name": "python3"
  },
  "language_info": {
   "codemirror_mode": {
    "name": "ipython",
    "version": 3
   },
   "file_extension": ".py",
   "mimetype": "text/x-python",
   "name": "python",
   "nbconvert_exporter": "python",
   "pygments_lexer": "ipython3",
   "version": "3.11.1"
  },
  "orig_nbformat": 4,
  "vscode": {
   "interpreter": {
    "hash": "b8ed45f46ae93313bdeaf6b364e024d47ad211eeeeeeec96ed3b577ee8c481c6"
   }
  }
 },
 "nbformat": 4,
 "nbformat_minor": 2
}
