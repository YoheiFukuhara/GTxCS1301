{
 "cells": [
  {
   "cell_type": "code",
   "execution_count": 1,
   "metadata": {},
   "outputs": [
    {
     "name": "stdout",
     "output_type": "stream",
     "text": [
      "You should submit Assignment 1 by Friday, September 13 at 5PM.\n"
     ]
    }
   ],
   "source": [
    "assignment_num = 1\n",
    "day = \"Friday\"\n",
    "month = \"September\"\n",
    "date = 13\n",
    "time = \"5PM\"\n",
    "\n",
    "#You may modify the lines of code above, but don't move them!\n",
    "#When you Submit your code, we'll change these lines to\n",
    "#assign different values to the variables.\n",
    "\n",
    "#At the beginning of each week, we try to post an announcement\n",
    "#outlining everything you need to do during the week. Let's\n",
    "#see if we could parameterize that.\n",
    "#\n",
    "#The variables above -- assignment_num, day, month, date, and\n",
    "#time -- give various values about when an assignment is due.\n",
    "#Using these values you should print a sentence like this:\n",
    "#\n",
    "# You should submit Assignment 1 by Friday, September 13 at 5PM.\n",
    "#\n",
    "#The general form would be:\n",
    "# You should submit Assignment [assignment_num] by [day], [month] [date] at [time].\n",
    "#\n",
    "#Make sure the punctuation and spaces are all exactly as written.\n",
    "#There should be spaces before and after the assignment number,\n",
    "#a comma and space after the day of the week, and a period\n",
    "#after the time.\n",
    "\n",
    "\n",
    "#Add your code here!\n",
    "print(f\"You should submit Assignment {assignment_num} by {day}, {month} {date} at {time}.\")"
   ]
  }
 ],
 "metadata": {
  "kernelspec": {
   "display_name": ".venv",
   "language": "python",
   "name": "python3"
  },
  "language_info": {
   "codemirror_mode": {
    "name": "ipython",
    "version": 3
   },
   "file_extension": ".py",
   "mimetype": "text/x-python",
   "name": "python",
   "nbconvert_exporter": "python",
   "pygments_lexer": "ipython3",
   "version": "3.11.1"
  },
  "orig_nbformat": 4,
  "vscode": {
   "interpreter": {
    "hash": "b8ed45f46ae93313bdeaf6b364e024d47ad211eeeeeeec96ed3b577ee8c481c6"
   }
  }
 },
 "nbformat": 4,
 "nbformat_minor": 2
}
