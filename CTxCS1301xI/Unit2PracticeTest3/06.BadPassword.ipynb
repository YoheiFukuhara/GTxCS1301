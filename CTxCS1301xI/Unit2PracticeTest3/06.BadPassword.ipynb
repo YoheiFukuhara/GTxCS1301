{
 "cells": [
  {
   "cell_type": "code",
   "execution_count": 2,
   "metadata": {},
   "outputs": [
    {
     "name": "stdout",
     "output_type": "stream",
     "text": [
      "112223333444445112223333444445112223333444445\n"
     ]
    }
   ],
   "source": [
    "num_a = 1\n",
    "num_b = 2\n",
    "num_c = 3\n",
    "num_d = 4\n",
    "num_e = 5\n",
    "num_z = 3\n",
    "\n",
    "#You may modify the lines of code above, but don't move them!\n",
    "#When you Submit your code, we'll change these lines to\n",
    "#assign different values to the variables.\n",
    "\n",
    "#It's been said that the most confusing WiFi password you can\n",
    "#have is: 2444666668888888, because you can read it as: one 2,\n",
    "#three 4s, five 6s, seven 8s. Whisper the 's' and the listener\n",
    "#will think it's just 12345678.\n",
    "#\n",
    "#Write a program that will generate a bad password according to\n",
    "#a similar formula. Specifically, the variables above -- num_a,\n",
    "#num_b, num_c, num_d, and num_e -- give you 5 integers. Your\n",
    "#password should be: num_a num_b times, num_b num_c times,\n",
    "#num_c num_d times, num_d num_e times, and num_e num_a times, in\n",
    "#that order. Then, the entire password should repeat num_z times.\n",
    "#\n",
    "#So, for the initial values of num_a through num_e, this would\n",
    "#be:\n",
    "#\n",
    "# 112223333444445112223333444445112223333444445\n",
    "#\n",
    "#That is, 1 two times, 2 three times, 3 four times, 4 five times,\n",
    "#and 5 one time, all then repeated 3 times.\n",
    "#\n",
    "#You may assume all numbers will be between 0 and 9. Note, though,\n",
    "#that if a number is 0, that means the preceding number will\n",
    "#not actually appear. Moreover, if num_z is 0, the result string\n",
    "#should be empty.\n",
    "\n",
    "\n",
    "#Add your code below!\n",
    "def times_string(string, number):\n",
    "    return str(string)*number\n",
    "print((times_string(num_a, num_b)\n",
    "+times_string(num_b, num_c)\n",
    "+times_string(num_c, num_d)\n",
    "+times_string(num_d, num_e)\n",
    "+times_string(num_e, num_a))*num_z)"
   ]
  }
 ],
 "metadata": {
  "kernelspec": {
   "display_name": ".venv",
   "language": "python",
   "name": "python3"
  },
  "language_info": {
   "codemirror_mode": {
    "name": "ipython",
    "version": 3
   },
   "file_extension": ".py",
   "mimetype": "text/x-python",
   "name": "python",
   "nbconvert_exporter": "python",
   "pygments_lexer": "ipython3",
   "version": "3.11.1"
  },
  "orig_nbformat": 4,
  "vscode": {
   "interpreter": {
    "hash": "b8ed45f46ae93313bdeaf6b364e024d47ad211eeeeeeec96ed3b577ee8c481c6"
   }
  }
 },
 "nbformat": 4,
 "nbformat_minor": 2
}
