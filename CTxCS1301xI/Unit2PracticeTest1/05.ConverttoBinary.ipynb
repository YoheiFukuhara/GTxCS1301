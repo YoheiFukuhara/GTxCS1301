{
 "cells": [
  {
   "cell_type": "code",
   "execution_count": 17,
   "metadata": {},
   "outputs": [
    {
     "name": "stdout",
     "output_type": "stream",
     "text": [
      "11010111"
     ]
    }
   ],
   "source": [
    "number = 215\n",
    "\n",
    "#You may modify the lines of code above, but don't move them!\n",
    "#When you Submit your code, we'll change these lines to\n",
    "#assign different values to the variables.\n",
    "#\n",
    "#The number above is given in base 10. Let's convert it to\n",
    "#base 2 and print it in binary. For example, 215 can be written\n",
    "#in binary as 11010111.\n",
    "#\n",
    "#Each digit of that string corresponds to a power of 2. The far\n",
    "#left digit represents 128, then 64, then 32, then 16, then 8,\n",
    "#then 4, then 2, and then finally 1 at the far right.\n",
    "#\n",
    "#To convert the number to binary, first check to see if it is\n",
    "#greater than or equal to 128. If it is, your first digit is 1.\n",
    "#If not, your first digit is 0. If the number was greater than\n",
    "#128, subtract 128 (because the 128 is captured by the first\n",
    "#digit of the string).\n",
    "#\n",
    "#Then, repeat that process for 64, 32, 16, 8, 4, 2, and 1.\n",
    "#\n",
    "#For example:\n",
    "#\n",
    "#215 is >= 128: 1\n",
    "#87 is >= 64: 11\n",
    "#23 is not >= 32: 110\n",
    "#23 is >= 16: 1101\n",
    "#7 is not >= 8: 11010\n",
    "#7 is >= 4: 110101\n",
    "#3 is >= 2: 1101011\n",
    "#1 is >= 1: 11010111\n",
    "#\n",
    "#Note that although we use 'if' a lot to describe this problem,\n",
    "#this can be done entirely with floor division and modulus.\n",
    "#Remember, if you convert a boolean to an integer, True becomes\n",
    "#1 and False becomes 0.\n",
    "#\n",
    "#Note that we always work with binary in 8-bit chunks: the\n",
    "#number 7 would be 00000111, not just 111. That's because inside\n",
    "#the computer, 8 1s and 0s make a byte, which is the smallest\n",
    "#practical unit of storage (rarely are bits used outside 8-bit\n",
    "#bytes).\n",
    "#\n",
    "#Print the string that results from this conversion.\n",
    "\n",
    "\n",
    "#Add your code here!\n",
    "for i in range(7, -1, -1):\n",
    "    print(int(number>=2**i), end='')\n",
    "    number = number - 2**i*int(number>=2**i) "
   ]
  }
 ],
 "metadata": {
  "kernelspec": {
   "display_name": ".venv",
   "language": "python",
   "name": "python3"
  },
  "language_info": {
   "codemirror_mode": {
    "name": "ipython",
    "version": 3
   },
   "file_extension": ".py",
   "mimetype": "text/x-python",
   "name": "python",
   "nbconvert_exporter": "python",
   "pygments_lexer": "ipython3",
   "version": "3.11.1 (main, Dec 25 2022, 14:08:23) [Clang 14.0.0 (clang-1400.0.29.202)]"
  },
  "orig_nbformat": 4,
  "vscode": {
   "interpreter": {
    "hash": "b8ed45f46ae93313bdeaf6b364e024d47ad211eeeeeeec96ed3b577ee8c481c6"
   }
  }
 },
 "nbformat": 4,
 "nbformat_minor": 2
}
