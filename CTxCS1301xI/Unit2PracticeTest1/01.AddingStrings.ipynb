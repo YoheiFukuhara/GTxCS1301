{
 "cells": [
  {
   "cell_type": "code",
   "execution_count": 1,
   "metadata": {},
   "outputs": [
    {
     "name": "stdout",
     "output_type": "stream",
     "text": [
      "The sum of the two strings is 26\n"
     ]
    }
   ],
   "source": [
    "mystery_string_1 = \"17\"\n",
    "mystery_string_2 = \"9\"\n",
    "\n",
    "#You may modify the lines of code above, but don't move them!\n",
    "#When you Submit your code, we'll change these lines to\n",
    "#assign different values to the variables.\n",
    "\n",
    "#mystery_string_1 and mystery_string_2 are each strings\n",
    "#representing numbers. Write some code below that will find\n",
    "#the numeric sum of the numbers represented by these strings.\n",
    "#For example, if the strings were \"17\" and \"9\", your answer\n",
    "#would be 26.\n",
    "#\n",
    "#Then, print out the result as part of a sentence of this\n",
    "#form: \"The sum of the two strings is 26\". (Do not include\n",
    "#quotes in your output, only print the message inside the\n",
    "#quotes.)\n",
    "#\n",
    "#You may assume that both strings will hold integers.\n",
    "\n",
    "\n",
    "#Add your code here!\n",
    "print(\"The sum of the two strings is\",  int(mystery_string_1)+int(mystery_string_2))"
   ]
  },
  {
   "cell_type": "code",
   "execution_count": null,
   "metadata": {},
   "outputs": [],
   "source": []
  }
 ],
 "metadata": {
  "kernelspec": {
   "display_name": ".venv",
   "language": "python",
   "name": "python3"
  },
  "language_info": {
   "codemirror_mode": {
    "name": "ipython",
    "version": 3
   },
   "file_extension": ".py",
   "mimetype": "text/x-python",
   "name": "python",
   "nbconvert_exporter": "python",
   "pygments_lexer": "ipython3",
   "version": "3.11.1"
  },
  "orig_nbformat": 4,
  "vscode": {
   "interpreter": {
    "hash": "b8ed45f46ae93313bdeaf6b364e024d47ad211eeeeeeec96ed3b577ee8c481c6"
   }
  }
 },
 "nbformat": 4,
 "nbformat_minor": 2
}
