{
 "cells": [
  {
   "cell_type": "code",
   "execution_count": 1,
   "metadata": {},
   "outputs": [
    {
     "name": "stdout",
     "output_type": "stream",
     "text": [
      "False\n"
     ]
    }
   ],
   "source": [
    "current_hour = 12\n",
    "current_minute = 37\n",
    "current_section = \"PM\"\n",
    "due_hour = 9\n",
    "due_minute = 0\n",
    "due_section = \"AM\"\n",
    "\n",
    "#You may modify the lines of code above, but don't move them!\n",
    "#When you Submit your code, we'll change these lines to\n",
    "#assign different values to the variables.\n",
    "\n",
    "#Given the current time and deadline time represented by the\n",
    "#variables above, determine if an assignment is still eligible\n",
    "#for submission. An assignment is eligible if the time\n",
    "#represented by current_hour, current_minute, and\n",
    "#current_section is before the time represented by due_hour,\n",
    "#due_minute, and due_section.\n",
    "\n",
    "\n",
    "#Add your code here!\n",
    "# AM12時= 00:00, PM12時=12:00であることに注意\n",
    "from time import strptime\n",
    "current = strptime(f'{current_hour:02}{current_minute:02}{current_section}', '%I%M%p')\n",
    "due = strptime(f'{due_hour:02}{due_minute:02}{due_section}', '%I%M%p')\n",
    "print(current < due)"
   ]
  }
 ],
 "metadata": {
  "kernelspec": {
   "display_name": ".venv",
   "language": "python",
   "name": "python3"
  },
  "language_info": {
   "codemirror_mode": {
    "name": "ipython",
    "version": 3
   },
   "file_extension": ".py",
   "mimetype": "text/x-python",
   "name": "python",
   "nbconvert_exporter": "python",
   "pygments_lexer": "ipython3",
   "version": "3.11.1 (main, Dec 25 2022, 14:08:23) [Clang 14.0.0 (clang-1400.0.29.202)]"
  },
  "orig_nbformat": 4,
  "vscode": {
   "interpreter": {
    "hash": "b8ed45f46ae93313bdeaf6b364e024d47ad211eeeeeeec96ed3b577ee8c481c6"
   }
  }
 },
 "nbformat": 4,
 "nbformat_minor": 2
}
