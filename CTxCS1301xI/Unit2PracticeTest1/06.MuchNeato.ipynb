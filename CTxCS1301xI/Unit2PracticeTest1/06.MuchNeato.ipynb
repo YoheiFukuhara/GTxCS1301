{
 "cells": [
  {
   "cell_type": "code",
   "execution_count": 1,
   "metadata": {},
   "outputs": [
    {
     "name": "stdout",
     "output_type": "stream",
     "text": [
      "!!!lol!!!lol!!!lol!\n"
     ]
    }
   ],
   "source": [
    "message = \"lol\"\n",
    "punct = \"!\"\n",
    "num = 3\n",
    "\n",
    "#You may modify the lines of code above, but don't move them!\n",
    "#When you Submit your code, we'll change these lines to\n",
    "#assign different values to the variables.\n",
    "\n",
    "#Using the values of message, punct, and num, print\n",
    "#a string that looks like the one below if message = \"lol\",\n",
    "#punct = \"!\", and num = 3:\n",
    "#\n",
    "# !!!lol!!!lol!!!lol!!!\n",
    "#\n",
    "#Specifically, it should start by printing punct num\n",
    "#times, then print message, repeat that entire process\n",
    "#num times, and then print punct num times again.\n",
    "#\n",
    "#Here are a couple other examples:\n",
    "#\n",
    "# message = \"bbl\", punct = \":\", num = 1 -> :bbl:\n",
    "# message = \"bbq\", punct = \"?\", num = 2 -> ??bbq??bbq??\n",
    "# message = \"brb\", punct = \".\", num = 4 -> ....brb....brb....brb....brb....\n",
    "\n",
    "\n",
    "#Add your code below!\n",
    "print((punct*num+message)*num+punct*num)"
   ]
  }
 ],
 "metadata": {
  "kernelspec": {
   "display_name": ".venv",
   "language": "python",
   "name": "python3"
  },
  "language_info": {
   "codemirror_mode": {
    "name": "ipython",
    "version": 3
   },
   "file_extension": ".py",
   "mimetype": "text/x-python",
   "name": "python",
   "nbconvert_exporter": "python",
   "pygments_lexer": "ipython3",
   "version": "3.11.1 (main, Dec 25 2022, 14:08:23) [Clang 14.0.0 (clang-1400.0.29.202)]"
  },
  "orig_nbformat": 4,
  "vscode": {
   "interpreter": {
    "hash": "b8ed45f46ae93313bdeaf6b364e024d47ad211eeeeeeec96ed3b577ee8c481c6"
   }
  }
 },
 "nbformat": 4,
 "nbformat_minor": 2
}
