{
 "cells": [
  {
   "cell_type": "code",
   "execution_count": 2,
   "metadata": {},
   "outputs": [
    {
     "name": "stdout",
     "output_type": "stream",
     "text": [
      "The current time is 5PM: Cuckoo!Cuckoo!Cuckoo!Cuckoo!Cuckoo!\n"
     ]
    }
   ],
   "source": [
    "current_hour = 5\n",
    "time_of_day = \"PM\"\n",
    "\n",
    "#You may modify the lines of code above, but don't move them!\n",
    "#When you Submit your code, we'll change these lines to\n",
    "#assign different values to the variables.\n",
    "#\n",
    "#Write some code that will print the following message based\n",
    "#on the values of current_hour and time_of_day:\n",
    "#\n",
    "#The current time is 5PM: Cuckoo!Cuckoo!Cuckoo!Cuckoo!Cuckoo!\n",
    "#\n",
    "#The values of current_hour and time_of_day should replace\n",
    "#\"5PM\", and \"Cuckcoo!\" should be printed current_hour times.\n",
    "#\n",
    "#For example, if current_hour was 2 and time_of_day was \"AM\",\n",
    "#this would print:\n",
    "#\n",
    "#The current time is 2AM: Cuckoo!Cuckoo!\n",
    "\n",
    "\n",
    "#Add your code here!\n",
    "print(f'The current time is {current_hour}{time_of_day}: {\"Cuckoo!\"*current_hour}')"
   ]
  }
 ],
 "metadata": {
  "kernelspec": {
   "display_name": ".venv",
   "language": "python",
   "name": "python3"
  },
  "language_info": {
   "codemirror_mode": {
    "name": "ipython",
    "version": 3
   },
   "file_extension": ".py",
   "mimetype": "text/x-python",
   "name": "python",
   "nbconvert_exporter": "python",
   "pygments_lexer": "ipython3",
   "version": "3.11.1"
  },
  "orig_nbformat": 4,
  "vscode": {
   "interpreter": {
    "hash": "b8ed45f46ae93313bdeaf6b364e024d47ad211eeeeeeec96ed3b577ee8c481c6"
   }
  }
 },
 "nbformat": 4,
 "nbformat_minor": 2
}
