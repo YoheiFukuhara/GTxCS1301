{
 "cells": [
  {
   "cell_type": "code",
   "execution_count": 5,
   "metadata": {},
   "outputs": [
    {
     "name": "stdout",
     "output_type": "stream",
     "text": [
      "The total cost of the house will be $201751.36\n"
     ]
    }
   ],
   "source": [
    "cost = 150000\n",
    "rate = 0.0415\n",
    "years = 15\n",
    "\n",
    "#You may modify the lines of code above, but don't move them!\n",
    "#When you Submit your code, we'll change these lines to\n",
    "#assign different values to the variables.\n",
    "\n",
    "#When taking out a mortgage (a type of loan) for a house, the\n",
    "#mortgage is defined by three variables: the total cost of the\n",
    "#house, the interest rate at which you will pay back the\n",
    "#mortgage, and how many months you have to pay back the\n",
    "#mortgage.\n",
    "#\n",
    "#The formula to find the total amount of money that will be\n",
    "#paid over that time is:\n",
    "#\n",
    "#  Cost * Number of Months * Monthly Rate /\n",
    "#  (1 - ((1 + Monthly Rate) ^ -Number of Months))\n",
    "#\n",
    "#Note that both time and rate are based on months: to find the\n",
    "#monhtly rate, divide the annual rate by 12. To find the number\n",
    "#of months, multiply the number of years by 12.\n",
    "#\n",
    "#Write some code that prints out a sentence like the following\n",
    "#based on the original cost, interest rate, and number of years\n",
    "#given above:\n",
    "#\n",
    "# The total cost of the house will be $201751.36\n",
    "#\n",
    "#You should round the total cost to two decimal places. You can\n",
    "#do this with this line, assuming the actual value of the\n",
    "#mortgage is stored in final_cost: final_cost = round(final_cost, 2)\n",
    "\n",
    "\n",
    "#Add your code here!\n",
    "rate_month = rate / 12\n",
    "months = years * 12\n",
    "final_cost = cost * months * rate_month / (1 - ((1 + rate_month)**(-months)))\n",
    "print(f\"The total cost of the house will be ${round(final_cost, 2)}\")"
   ]
  }
 ],
 "metadata": {
  "kernelspec": {
   "display_name": ".venv",
   "language": "python",
   "name": "python3"
  },
  "language_info": {
   "codemirror_mode": {
    "name": "ipython",
    "version": 3
   },
   "file_extension": ".py",
   "mimetype": "text/x-python",
   "name": "python",
   "nbconvert_exporter": "python",
   "pygments_lexer": "ipython3",
   "version": "3.11.1"
  },
  "orig_nbformat": 4,
  "vscode": {
   "interpreter": {
    "hash": "b8ed45f46ae93313bdeaf6b364e024d47ad211eeeeeeec96ed3b577ee8c481c6"
   }
  }
 },
 "nbformat": 4,
 "nbformat_minor": 2
}
