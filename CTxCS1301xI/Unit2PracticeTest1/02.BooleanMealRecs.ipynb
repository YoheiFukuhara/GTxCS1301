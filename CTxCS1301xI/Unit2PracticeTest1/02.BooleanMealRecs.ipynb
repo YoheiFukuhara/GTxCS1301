{
 "cells": [
  {
   "cell_type": "code",
   "execution_count": 1,
   "metadata": {},
   "outputs": [
    {
     "name": "stdout",
     "output_type": "stream",
     "text": [
      "Soup: False\n",
      "Biscuit: False\n",
      "Cereal: True\n",
      "Pizza: False\n"
     ]
    }
   ],
   "source": [
    "hot = True\n",
    "cold = False\n",
    "morning = True\n",
    "evening = False\n",
    "night = False\n",
    "\n",
    "#You may modify the lines of code above, but don't move them!\n",
    "#When you Submit your code, we'll change these lines to\n",
    "#assign different values to the variables.\n",
    "\n",
    "#Write a program that will recommend a meal based on the\n",
    "#current weather and time of day. Specifically, the program\n",
    "#should recommend:\n",
    "#\n",
    "# - soup if it's cold and either evening or night\n",
    "# - a biscuit if it's morning and cold\n",
    "# - cereal if it's morning and hot, or whenever the time is\n",
    "#   night\n",
    "# - pizza whenever it's either evening or night\n",
    "#\n",
    "#Write some code below that will print four lines, one for\n",
    "#each of the four meals. The lines should look like this:\n",
    "#\n",
    "#Soup: False\n",
    "#Biscuit: False\n",
    "#Cereal: True\n",
    "#Pizza: False\n",
    "#\n",
    "#The values (True and False) will differ based on the\n",
    "#values assigned to hot, cold, morning, evening, and night\n",
    "#at the start of the program.\n",
    "\n",
    "\n",
    "#Add your code here!\n",
    "print('Soup:', cold and (evening or night))\n",
    "print('Biscuit:', morning and cold)\n",
    "print('Cereal:', (morning and hot) or night)\n",
    "print('Pizza:', evening or night)"
   ]
  }
 ],
 "metadata": {
  "kernelspec": {
   "display_name": ".venv",
   "language": "python",
   "name": "python3"
  },
  "language_info": {
   "codemirror_mode": {
    "name": "ipython",
    "version": 3
   },
   "file_extension": ".py",
   "mimetype": "text/x-python",
   "name": "python",
   "nbconvert_exporter": "python",
   "pygments_lexer": "ipython3",
   "version": "3.11.1"
  },
  "orig_nbformat": 4,
  "vscode": {
   "interpreter": {
    "hash": "b8ed45f46ae93313bdeaf6b364e024d47ad211eeeeeeec96ed3b577ee8c481c6"
   }
  }
 },
 "nbformat": 4,
 "nbformat_minor": 2
}
