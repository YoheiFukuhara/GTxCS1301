{
 "cells": [
  {
   "cell_type": "code",
   "execution_count": 1,
   "metadata": {},
   "outputs": [
    {
     "name": "stdout",
     "output_type": "stream",
     "text": [
      "Fifties: 0\n",
      "Twenties: 0\n",
      "Tens: 1\n",
      "Fives: 1\n",
      "Ones: 2\n"
     ]
    }
   ],
   "source": [
    "amount = 17\n",
    "\n",
    "#You may modify the lines of code above, but don't move them!\n",
    "#When you Submit your code, we'll change these lines to\n",
    "#assign different values to the variables.\n",
    "#\n",
    "#The variable above describes an amount of money measured in\n",
    "#dollars. Imagine you want to select the bills (1-dollar bills,\n",
    "#5-dollar bills, 10-dollar bills, etc.) that make up that\n",
    "#amount of money. For example, 17 dollars is one $10, one $5,\n",
    "#and two $1s.\n",
    "#\n",
    "#Write a program that will print out the bills needed to\n",
    "#arrive at the amount shown above. Assume that we always want\n",
    "#the maximum number of large bills: for example, for 17 dollars,\n",
    "#we want one $10, one $5, and two $1s, not three $5s and two $1s.\n",
    "#You may assume that the largest bill you have on hand is a\n",
    "#$50-dollar bill.\n",
    "#\n",
    "#Your code should print the following (with the correct numbers\n",
    "#based on the value of amount):\n",
    "#\n",
    "#Fifties: 0\n",
    "#Twenties: 0\n",
    "#Tens: 1\n",
    "#Fives: 1\n",
    "#Ones: 2\n",
    "\n",
    "\n",
    "#Add your code here!\n",
    "amount, remainder = divmod(amount, 50)\n",
    "print(\"Fifties:\", amount)\n",
    "amount, remainder = divmod(remainder, 20)\n",
    "print(\"Twenties:\", amount)\n",
    "amount, remainder = divmod(remainder, 10)\n",
    "print(\"Tens:\", amount)\n",
    "amount, remainder = divmod(remainder, 5)\n",
    "print(\"Fives:\", amount)\n",
    "amount, remainder = divmod(remainder, 1)\n",
    "print(\"Ones:\", amount)"
   ]
  },
  {
   "cell_type": "code",
   "execution_count": null,
   "metadata": {},
   "outputs": [],
   "source": []
  }
 ],
 "metadata": {
  "kernelspec": {
   "display_name": ".venv",
   "language": "python",
   "name": "python3"
  },
  "language_info": {
   "name": "python",
   "version": "3.11.1 (main, Dec 25 2022, 14:08:23) [Clang 14.0.0 (clang-1400.0.29.202)]"
  },
  "orig_nbformat": 4,
  "vscode": {
   "interpreter": {
    "hash": "b8ed45f46ae93313bdeaf6b364e024d47ad211eeeeeeec96ed3b577ee8c481c6"
   }
  }
 },
 "nbformat": 4,
 "nbformat_minor": 2
}
