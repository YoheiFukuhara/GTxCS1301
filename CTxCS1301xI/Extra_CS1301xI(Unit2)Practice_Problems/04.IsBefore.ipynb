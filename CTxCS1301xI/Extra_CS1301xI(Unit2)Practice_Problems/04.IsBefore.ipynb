{
 "cells": [
  {
   "cell_type": "code",
   "execution_count": 3,
   "metadata": {},
   "outputs": [
    {
     "name": "stdout",
     "output_type": "stream",
     "text": [
      "True\n"
     ]
    }
   ],
   "source": [
    "import datetime\n",
    "start_date = datetime.date(2017, 2, 16)\n",
    "end_date = datetime.date(2017, 2, 16)\n",
    "start_time = datetime.time(4, 30, 0)\n",
    "end_time = datetime.time(4, 30, 17)\n",
    "\n",
    "#You may modify the lines of code above, but don't move them!\n",
    "#When you Submit your code, we'll change these lines to\n",
    "#assign different values to the variables.\n",
    "\n",
    "#Above, there are four variables: start_date, end_date,\n",
    "#start_time, and end_time. start_date and start_time together\n",
    "#represent a certain time on a certain date, and end_date and\n",
    "#end_time represent a different time on a different date.\n",
    "#\n",
    "#Add some code below that will print True if the end time\n",
    "#occurs after the start time. Print False if the end time\n",
    "#occurs before the start time. For example, 11:15:00 on\n",
    "#01/01/2017 would be before 09:00:00 on 01/05/2017, which\n",
    "#would be before 11:25:00 on 01/05/2017.\n",
    "#\n",
    "#Note that you may use dot notation to access the individual\n",
    "#parts of the dates and times. You can access the hour,\n",
    "#minute, and seconds from start_time with start_time.hour,\n",
    "#start_time.minute, and start_time.second. You can access\n",
    "#the year, month, and day of start_date with\n",
    "#start_date.year, start_date.month, and start_date.day. You\n",
    "#can use the same syntax to access the parts of end_date.\n",
    "#Note that Python uses 24-hour time.\n",
    "#\n",
    "#Hint: You may use conditionals to solve this if you want,\n",
    "#but you don't need to.\n",
    "#\n",
    "#Hint 2: You can use relational operators with both dates\n",
    "#and times. start_time < end_time is True if start_time is\n",
    "#before end_time. start_date >= end_date is True if\n",
    "#start_date is later than end_date, or the same date. With\n",
    "#this, you can avoid using dot notation altogether if\n",
    "#you'd like.\n",
    "\n",
    "\n",
    "#Add your code here!\n",
    "if start_date == end_date:\n",
    "    print(start_time < end_time)\n",
    "else: \n",
    "    print(start_date < end_date)"
   ]
  },
  {
   "cell_type": "code",
   "execution_count": null,
   "metadata": {},
   "outputs": [],
   "source": []
  }
 ],
 "metadata": {
  "kernelspec": {
   "display_name": "Python 3",
   "language": "python",
   "name": "python3"
  },
  "language_info": {
   "codemirror_mode": {
    "name": "ipython",
    "version": 3
   },
   "file_extension": ".py",
   "mimetype": "text/x-python",
   "name": "python",
   "nbconvert_exporter": "python",
   "pygments_lexer": "ipython3",
   "version": "3.11.1 (main, Dec 25 2022, 14:08:23) [Clang 14.0.0 (clang-1400.0.29.202)]"
  },
  "orig_nbformat": 4,
  "vscode": {
   "interpreter": {
    "hash": "f8e172ca5fd10d29c29a185796f7ab10566dcc335ec641ec1b9f62eb933bef6d"
   }
  }
 },
 "nbformat": 4,
 "nbformat_minor": 2
}
