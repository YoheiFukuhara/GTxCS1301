{
 "cells": [
  {
   "cell_type": "code",
   "execution_count": 9,
   "metadata": {},
   "outputs": [
    {
     "name": "stdout",
     "output_type": "stream",
     "text": [
      "38940.04\n"
     ]
    }
   ],
   "source": [
    "goal = 50000\n",
    "rate = 0.05\n",
    "years = 5\n",
    "\n",
    "#You may modify the lines of code above, but don't move them!\n",
    "#When you Submit your code, we'll change these lines to\n",
    "#assign different values to the variables.\n",
    "\n",
    "#Earlier, we created a program that would calculate the\n",
    "#value of an investment account after a certain period of\n",
    "#time using the formula Amount = Principal * e^(Rate * Time).\n",
    "#\n",
    "#Let's revisit that, but let's flip the question around.\n",
    "#Instead of asking, \"What will the value of this account\n",
    "#be?\", let's instead ask, \"How much do I need to invest to\n",
    "#have a certain amount by a certain year?\" For example,\n",
    "#\"How much do I need to invest to have $50,000 in 5 years\n",
    "#at 5% (0.05) interest?\"\n",
    "#\n",
    "#Mathematically, the formula for this is:\n",
    "#\n",
    "#  goal / e ^ (rate * number of years) = principal\n",
    "#\n",
    "#Add some code below that will print the amount of principal\n",
    "#needed to reach the given savings goal within the number of\n",
    "#years and interest rate specified.\n",
    "#\n",
    "#In printing your response, you should round the answer to\n",
    "#two decimal places. Remember, you can do this with this\n",
    "#code (assuming that your principal is stored in a variable\n",
    "#called 'principal'): rounded_principal = round(principal, 2)\n",
    "#\n",
    "#Remember, you can access e using math.e as long as you don't\n",
    "#change the next line.\n",
    "import math\n",
    "\n",
    "#Add your code here!\n",
    "principal = goal / math.e**(rate*years)\n",
    "print(round(principal, 2))"
   ]
  },
  {
   "cell_type": "code",
   "execution_count": null,
   "metadata": {},
   "outputs": [],
   "source": []
  }
 ],
 "metadata": {
  "kernelspec": {
   "display_name": ".venv",
   "language": "python",
   "name": "python3"
  },
  "language_info": {
   "codemirror_mode": {
    "name": "ipython",
    "version": 3
   },
   "file_extension": ".py",
   "mimetype": "text/x-python",
   "name": "python",
   "nbconvert_exporter": "python",
   "pygments_lexer": "ipython3",
   "version": "3.11.1"
  },
  "orig_nbformat": 4,
  "vscode": {
   "interpreter": {
    "hash": "b8ed45f46ae93313bdeaf6b364e024d47ad211eeeeeeec96ed3b577ee8c481c6"
   }
  }
 },
 "nbformat": 4,
 "nbformat_minor": 2
}
