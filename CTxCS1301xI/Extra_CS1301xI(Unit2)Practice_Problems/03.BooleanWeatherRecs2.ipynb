{
 "cells": [
  {
   "cell_type": "code",
   "execution_count": 1,
   "metadata": {},
   "outputs": [
    {
     "name": "stdout",
     "output_type": "stream",
     "text": [
      "Hat: False\n",
      "Gloves: False\n",
      "Umbrella: True\n",
      "Scarf: False\n"
     ]
    }
   ],
   "source": [
    "hot = True\n",
    "cold = False\n",
    "rainy = True\n",
    "windy = False\n",
    "snowy = False\n",
    "\n",
    "#You may modify the lines of code above, but don't move them!\n",
    "#When you Submit your code, we'll change these lines to\n",
    "#assign different values to the variables.\n",
    "\n",
    "#Earlier, you wrote a program that made clothing\n",
    "#recommendations based on the weather. Your program could\n",
    "#specifically recommend a jacket, boots, flip-flips, or a\n",
    "#tshirt based on whether it was hot, cold, rainy, windy, or\n",
    "#snowy.\n",
    "#\n",
    "#Let's add some accessories to that program: a hat, gloves,\n",
    "#umbrella, and a scarf.\n",
    "#\n",
    "#Specifically, the program should recommend:\n",
    "#\n",
    "# - a hat if it's cold, or if it's hot but not rainy (cold\n",
    "#   and rainy still means a hat, though).\n",
    "# - gloves if it's cold and either snowy or rainy.\n",
    "# - an umbrella if it's hot, snowy, or rainy.\n",
    "# - a scarf if it's cold and windy or cold and snowy\n",
    "#   unless it's rainy. Rain means no scarf regardless of\n",
    "#   whether it's cold, windy, or snowy.\n",
    "#\n",
    "#Write some code below that will print four lines, one for\n",
    "#each of the four types of clothing. The lines should look\n",
    "#like this:\n",
    "#\n",
    "#Hat: True\n",
    "#Gloves: True\n",
    "#Umbrella: False\n",
    "#Scarf: False\n",
    "#\n",
    "#The values (True and False) will differ based on the\n",
    "#values assigned to hot, cold, windy, snowy, and rainy\n",
    "#at the start of the program.\n",
    "\n",
    "\n",
    "#Add your code here!\n",
    "print('Hat:', cold or (hot and not rainy))\n",
    "print('Gloves:', cold and (snowy or rainy))\n",
    "print('Umbrella:', hot or snowy or rainy)\n",
    "print('Scarf:', cold and (windy or snowy) and not rainy)"
   ]
  },
  {
   "cell_type": "code",
   "execution_count": null,
   "metadata": {},
   "outputs": [],
   "source": []
  }
 ],
 "metadata": {
  "kernelspec": {
   "display_name": ".venv",
   "language": "python",
   "name": "python3"
  },
  "language_info": {
   "name": "python",
   "version": "3.11.1 (main, Dec 25 2022, 14:08:23) [Clang 14.0.0 (clang-1400.0.29.202)]"
  },
  "orig_nbformat": 4,
  "vscode": {
   "interpreter": {
    "hash": "b8ed45f46ae93313bdeaf6b364e024d47ad211eeeeeeec96ed3b577ee8c481c6"
   }
  }
 },
 "nbformat": 4,
 "nbformat_minor": 2
}
