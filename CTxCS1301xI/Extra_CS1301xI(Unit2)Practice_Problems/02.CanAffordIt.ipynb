{
 "cells": [
  {
   "cell_type": "code",
   "execution_count": 2,
   "metadata": {},
   "outputs": [
    {
     "name": "stdout",
     "output_type": "stream",
     "text": [
      "True\n"
     ]
    }
   ],
   "source": [
    "balance = 500\n",
    "income = 200\n",
    "price = 1000\n",
    "months = 6\n",
    "\n",
    "#You may modify the lines of code above, but don't move them!\n",
    "#When you Submit your code, we'll change these lines to\n",
    "#assign different values to the variables.\n",
    "\n",
    "#You're thinking of buying a new computer. The variables\n",
    "#above represent the balance of your bank account, your\n",
    "#monthly disposable income, the total price of the computer,\n",
    "#and the number of months that the retailer will give you to\n",
    "#pay off the computer.\n",
    "#\n",
    "#You can buy the computer if either (a) you can afford to\n",
    "#buy the computer in cash right now (balance is greater than\n",
    "#price), or (b) you can afford the monthly payments (income\n",
    "#is greater than price divided by months).\n",
    "#\n",
    "#In other words, if a computer cost $1200 and you spread it\n",
    "#out over 12 months, you would need your monthly available\n",
    "#income to be at least $100 to buy the computer, or you\n",
    "#would need your current bank balance to be at least $1200.\n",
    "#\n",
    "#Add some code below that will print True if you're able to\n",
    "#afford the computer given the values above, and False if you\n",
    "#are not.\n",
    "\n",
    "\n",
    "#Add your code below!\n",
    "print(balance >= price or income >= price/months)"
   ]
  },
  {
   "cell_type": "code",
   "execution_count": null,
   "metadata": {},
   "outputs": [],
   "source": []
  }
 ],
 "metadata": {
  "kernelspec": {
   "display_name": ".venv",
   "language": "python",
   "name": "python3"
  },
  "language_info": {
   "codemirror_mode": {
    "name": "ipython",
    "version": 3
   },
   "file_extension": ".py",
   "mimetype": "text/x-python",
   "name": "python",
   "nbconvert_exporter": "python",
   "pygments_lexer": "ipython3",
   "version": "3.11.1"
  },
  "orig_nbformat": 4,
  "vscode": {
   "interpreter": {
    "hash": "b8ed45f46ae93313bdeaf6b364e024d47ad211eeeeeeec96ed3b577ee8c481c6"
   }
  }
 },
 "nbformat": 4,
 "nbformat_minor": 2
}
