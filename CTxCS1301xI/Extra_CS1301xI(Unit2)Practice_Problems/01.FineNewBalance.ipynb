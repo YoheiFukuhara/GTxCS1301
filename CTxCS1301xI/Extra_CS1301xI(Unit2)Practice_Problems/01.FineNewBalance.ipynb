{
 "cells": [
  {
   "cell_type": "code",
   "execution_count": 2,
   "metadata": {},
   "outputs": [
    {
     "name": "stdout",
     "output_type": "stream",
     "text": [
      "The new balance is: 510.45\n"
     ]
    }
   ],
   "source": [
    "old_balance = \"500.45\"\n",
    "deposit = \"10\"\n",
    "\n",
    "#You may modify the lines of code above, but don't move them!\n",
    "#When you Submit your code, we'll change these lines to\n",
    "#assign different values to the variables.\n",
    "\n",
    "#Imagine you're writing code for an ATM that accepts cash\n",
    "#deposits. You need to update the customer's balance based\n",
    "#on a deposit amount. However, both the old balance and the\n",
    "#deposit are given as strings.\n",
    "#\n",
    "#Write code below that will print the new balance after the\n",
    "#deposit is processed. This should be printed along with\n",
    "#the following text labeling the amount:\n",
    "#\n",
    "#The new balance is: 510.45\n",
    "#\n",
    "#Note that the old balance will always include change, but\n",
    "#the deposit will never include change because the ATM has\n",
    "#no coin slot, only a slot for paper money.\n",
    "#\n",
    "#With the initial values of the variables shown above, your\n",
    "#code should print the text shown on line 17.\n",
    "\n",
    "\n",
    "#Add your code here!\n",
    "print('The new balance is:', float(old_balance)+int(deposit))"
   ]
  },
  {
   "cell_type": "code",
   "execution_count": null,
   "metadata": {},
   "outputs": [],
   "source": []
  }
 ],
 "metadata": {
  "kernelspec": {
   "display_name": ".venv",
   "language": "python",
   "name": "python3"
  },
  "language_info": {
   "codemirror_mode": {
    "name": "ipython",
    "version": 3
   },
   "file_extension": ".py",
   "mimetype": "text/x-python",
   "name": "python",
   "nbconvert_exporter": "python",
   "pygments_lexer": "ipython3",
   "version": "3.11.1 (main, Dec 25 2022, 14:08:23) [Clang 14.0.0 (clang-1400.0.29.202)]"
  },
  "orig_nbformat": 4,
  "vscode": {
   "interpreter": {
    "hash": "b8ed45f46ae93313bdeaf6b364e024d47ad211eeeeeeec96ed3b577ee8c481c6"
   }
  }
 },
 "nbformat": 4,
 "nbformat_minor": 2
}
