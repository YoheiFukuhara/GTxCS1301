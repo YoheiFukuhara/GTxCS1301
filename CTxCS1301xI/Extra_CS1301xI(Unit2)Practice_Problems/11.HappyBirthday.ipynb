{
 "cells": [
  {
   "cell_type": "code",
   "execution_count": 15,
   "metadata": {},
   "outputs": [
    {
     "name": "stdout",
     "output_type": "stream",
     "text": [
      "27\n"
     ]
    }
   ],
   "source": [
    "current_day = 31\n",
    "current_month = 5\n",
    "current_year = 2018\n",
    "birth_day = 19\n",
    "birth_month = 12\n",
    "birth_year = 1990\n",
    "\n",
    "#You may modify the lines of code above, but don't move them!\n",
    "#When you Submit your code, we'll change these lines to\n",
    "#assign different values to the variables.\n",
    "\n",
    "#Given the current date and birth date held by the variables\n",
    "#above, calculate and print this person's current age. Note\n",
    "#that if their birth date has not yet passed this year, your\n",
    "#result would be one less than if it has.\n",
    "#\n",
    "#For example, with the variables given above, the person\n",
    "#would turn 28 on December 12th, 2018. So, as of May 31st,\n",
    "#2018, they are 27.\n",
    "\n",
    "\n",
    "#Add your code here!\n",
    "current = current_year+current_month/100+current_day/10_000\n",
    "birth = birth_year+birth_month/100+birth_day/10_000\n",
    "print(int(current-birth))"
   ]
  }
 ],
 "metadata": {
  "kernelspec": {
   "display_name": ".venv",
   "language": "python",
   "name": "python3"
  },
  "language_info": {
   "codemirror_mode": {
    "name": "ipython",
    "version": 3
   },
   "file_extension": ".py",
   "mimetype": "text/x-python",
   "name": "python",
   "nbconvert_exporter": "python",
   "pygments_lexer": "ipython3",
   "version": "3.11.1 (main, Dec 25 2022, 14:08:23) [Clang 14.0.0 (clang-1400.0.29.202)]"
  },
  "orig_nbformat": 4,
  "vscode": {
   "interpreter": {
    "hash": "b8ed45f46ae93313bdeaf6b364e024d47ad211eeeeeeec96ed3b577ee8c481c6"
   }
  }
 },
 "nbformat": 4,
 "nbformat_minor": 2
}
