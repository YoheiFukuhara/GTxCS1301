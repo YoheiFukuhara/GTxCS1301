{
 "cells": [
  {
   "cell_type": "code",
   "execution_count": 1,
   "metadata": {},
   "outputs": [
    {
     "name": "stdout",
     "output_type": "stream",
     "text": [
      "272727272727272727\n"
     ]
    }
   ],
   "source": [
    "num = 3\n",
    "\n",
    "#-----------------------------------------------------------\n",
    "#You may modify the lines of code above, but don't move them!\n",
    "#When you Submit your code, we'll change these lines to\n",
    "#assign different values to the variables.\n",
    "\n",
    "#Write some code that calculates the cube of the number\n",
    "#given by num. Then, print that number num^2 (num squared)\n",
    "#times in a row, with no spaces or line breaks in between.\n",
    "#\n",
    "#For example, if num is 3, then your code would print:\n",
    "#\n",
    "# 272727272727272727\n",
    "#\n",
    "#That 27 9 times. 3 squared is 9, 3 cubed is 27, and so\n",
    "#it prints 27 9 times.\n",
    "#\n",
    "#Note: these directions are slightly different from the\n",
    "#preview we posted! You should be printing num^3 num^2\n",
    "#times, not printing num^2 num^3 times.\n",
    "\n",
    "\n",
    "#Add your code here!\n",
    "print(str(num**3)*num**2)\n",
    "\n"
   ]
  },
  {
   "cell_type": "code",
   "execution_count": null,
   "metadata": {},
   "outputs": [],
   "source": []
  }
 ],
 "metadata": {
  "kernelspec": {
   "display_name": ".venv",
   "language": "python",
   "name": "python3"
  },
  "language_info": {
   "codemirror_mode": {
    "name": "ipython",
    "version": 3
   },
   "file_extension": ".py",
   "mimetype": "text/x-python",
   "name": "python",
   "nbconvert_exporter": "python",
   "pygments_lexer": "ipython3",
   "version": "3.11.1"
  },
  "orig_nbformat": 4,
  "vscode": {
   "interpreter": {
    "hash": "b8ed45f46ae93313bdeaf6b364e024d47ad211eeeeeeec96ed3b577ee8c481c6"
   }
  }
 },
 "nbformat": 4,
 "nbformat_minor": 2
}
