{
 "cells": [
  {
   "cell_type": "code",
   "execution_count": null,
   "metadata": {},
   "outputs": [],
   "source": [
    "spouse_1 = \"Caitlin\"\n",
    "spouse_2 = \"David\"\n",
    "month = \"November\"\n",
    "day = 3\n",
    "year = 2012\n",
    "time = \"5:00PM\"\n",
    "\n",
    "#You may modify the lines of code above, but don't move them!\n",
    "#When you Submit your code, we'll change these lines to\n",
    "#assign different values to the variables.\n",
    "#\n",
    "#The variables above give some information about a wedding:\n",
    "#the names of the spouses and the month, day, year, and time\n",
    "#of the wedding.\n",
    "#\n",
    "#Add some code that will write the text to appear on a wedding\n",
    "#invitation based on these values. For the values shown above,\n",
    "#this would read:\n",
    "#\n",
    "#You are cordially invited to attend the wedding of Caitlin and David, to take place on November 3, 2012 at 5:00PM.\n",
    "#\n",
    "#Note that all components of this statement are required: start\n",
    "#\"You are cordially invited to attend the wedding of \", followed\n",
    "#by spouse_1's name, followed by \" and \", followed by spouse_2's\n",
    "#name, then a comma and space, followed by \"to take place on \",\n",
    "#followed by the month, a space, the day, a comma and space, the\n",
    "#year, a space, the word \"at\", a space, the time, and then a\n",
    "#period.\n",
    "#\n",
    "#HINT: Copy the sentence below and replace the current values\n",
    "#(Caitlin, David, November, etc.) with variables to reduce the\n",
    "#risk of typoes throwing off your answers.\n",
    "\n",
    "\n",
    "#Add your code here!\n",
    "print(f\"You are cordially invited to attend the wedding of {spouse_1} and {spouse_2}, \\\n",
    "to take place on {month} {day}, {year} at {time}.\")"
   ]
  }
 ],
 "metadata": {
  "kernelspec": {
   "display_name": "Python 3",
   "language": "python",
   "name": "python3"
  },
  "language_info": {
   "name": "python",
   "version": "3.11.1 (main, Dec 25 2022, 14:08:23) [Clang 14.0.0 (clang-1400.0.29.202)]"
  },
  "orig_nbformat": 4,
  "vscode": {
   "interpreter": {
    "hash": "f8e172ca5fd10d29c29a185796f7ab10566dcc335ec641ec1b9f62eb933bef6d"
   }
  }
 },
 "nbformat": 4,
 "nbformat_minor": 2
}
