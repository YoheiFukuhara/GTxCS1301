{
 "cells": [
  {
   "cell_type": "code",
   "execution_count": 1,
   "metadata": {},
   "outputs": [
    {
     "name": "stdout",
     "output_type": "stream",
     "text": [
      "True\n"
     ]
    }
   ],
   "source": [
    "principal = 40000\n",
    "rate = 0.05\n",
    "years = 5\n",
    "goal = 50000\n",
    "\n",
    "#You may modify the lines of code above, but don't move them!\n",
    "#When you Submit your code, we'll change these lines to\n",
    "#assign different values to the variables.\n",
    "\n",
    "#Last problem, we calculated how much money a person would\n",
    "#have to invest to reach a certain savings goal. Now, let's\n",
    "#modify that to instead take a principal, interest rate,\n",
    "#number of years, and savings goal, and report whether or not\n",
    "#the person will meet their savings goal.\n",
    "#\n",
    "#Add some code below that will calculate whether the\n",
    "#investment described by the values above will meet the given\n",
    "#goal. If it will, print True. If it will not, print False.\n",
    "#\n",
    "#As a reminder, the formula for the value of an account after\n",
    "#a given time (in number of years) is:\n",
    "#\n",
    "#  Current Value = principal * e ^ (rate * number of years)\n",
    "#\n",
    "#Remember, you can access e using math.e as long as you don't\n",
    "#change the next line. You don't need to worry about rounding\n",
    "#on this problem.\n",
    "import math\n",
    "\n",
    "\n",
    "#Add your code here!\n",
    "print(goal <= principal * math.e**(rate*years))"
   ]
  },
  {
   "cell_type": "code",
   "execution_count": null,
   "metadata": {},
   "outputs": [],
   "source": []
  }
 ],
 "metadata": {
  "kernelspec": {
   "display_name": ".venv",
   "language": "python",
   "name": "python3"
  },
  "language_info": {
   "name": "python",
   "version": "3.11.1 (main, Dec 25 2022, 14:08:23) [Clang 14.0.0 (clang-1400.0.29.202)]"
  },
  "orig_nbformat": 4,
  "vscode": {
   "interpreter": {
    "hash": "b8ed45f46ae93313bdeaf6b364e024d47ad211eeeeeeec96ed3b577ee8c481c6"
   }
  }
 },
 "nbformat": 4,
 "nbformat_minor": 2
}
