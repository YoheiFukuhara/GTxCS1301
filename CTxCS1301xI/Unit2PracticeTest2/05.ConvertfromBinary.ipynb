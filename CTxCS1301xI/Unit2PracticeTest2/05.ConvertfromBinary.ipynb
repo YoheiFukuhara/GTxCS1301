{
 "cells": [
  {
   "cell_type": "code",
   "execution_count": 9,
   "metadata": {},
   "outputs": [
    {
     "name": "stdout",
     "output_type": "stream",
     "text": [
      "13\n"
     ]
    }
   ],
   "source": [
    "number = 1101\n",
    "\n",
    "#You may modify the lines of code above, but don't move them!\n",
    "#When you Submit your code, we'll change these lines to\n",
    "#assign different values to the variables.\n",
    "#\n",
    "#The number above represents a binary number. It will always\n",
    "#be up to eight digits, and all eight digits will always be\n",
    "#either 1 or 0.\n",
    "#\n",
    "#The string gives the binary representation of a number. In\n",
    "#binary, each digit of that string corresponds to a power of\n",
    "#2. The far left digit represents 128, then 64, then 32, then\n",
    "#16, then 8, then 4, then 2, and then finally 1 at the far right.\n",
    "#\n",
    "#So, to convert the number to a decimal number, you want to (for\n",
    "#example) add 128 to the total if the first digit is 1, 64 if the\n",
    "#second digit is 1, 32 if the third digit is 1, etc.\n",
    "#\n",
    "#For example, 00001101 is the number 13: there is a 0 in the 128s\n",
    "#place, 64s place, 32s place, 16s place, and 2s place. There are\n",
    "#1s in the 8s, 4s, and 1s place. 8 + 4 + 1 = 13.\n",
    "#\n",
    "#Note that although we use 'if' a lot to describe this problem,\n",
    "#this can be done entirely boolean logic and numerical comparisons.\n",
    "#\n",
    "#Print the number that results from this conversion.\n",
    "\n",
    "\n",
    "#Add your code here!\n",
    "sum = 0\n",
    "for i, binary in enumerate(str(number).zfill(8)):\n",
    "    sum += int(binary)*2**(7-i)\n",
    "print(sum)"
   ]
  },
  {
   "cell_type": "code",
   "execution_count": null,
   "metadata": {},
   "outputs": [],
   "source": []
  }
 ],
 "metadata": {
  "kernelspec": {
   "display_name": ".venv",
   "language": "python",
   "name": "python3"
  },
  "language_info": {
   "codemirror_mode": {
    "name": "ipython",
    "version": 3
   },
   "file_extension": ".py",
   "mimetype": "text/x-python",
   "name": "python",
   "nbconvert_exporter": "python",
   "pygments_lexer": "ipython3",
   "version": "3.11.1"
  },
  "orig_nbformat": 4,
  "vscode": {
   "interpreter": {
    "hash": "b8ed45f46ae93313bdeaf6b364e024d47ad211eeeeeeec96ed3b577ee8c481c6"
   }
  }
 },
 "nbformat": 4,
 "nbformat_minor": 2
}
