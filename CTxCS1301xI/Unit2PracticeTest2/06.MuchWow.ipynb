{
 "cells": [
  {
   "cell_type": "code",
   "execution_count": 5,
   "metadata": {},
   "outputs": [
    {
     "name": "stdout",
     "output_type": "stream",
     "text": [
      "lollollol!lollollol!lollollol\n"
     ]
    }
   ],
   "source": [
    "message = \"lol\"\n",
    "punct = \"!\"\n",
    "num = 3\n",
    "\n",
    "#You may modify the lines of code above, but don't move them!\n",
    "#When you Submit your code, we'll change these lines to\n",
    "#assign different values to the variables.\n",
    "\n",
    "#Using the values of message, punct, and num, print\n",
    "#a string that looks like the one below if message = \"lol\",\n",
    "#punct = \"!\", and num = 3:\n",
    "#\n",
    "# lollollol!lollollol!lollollol\n",
    "#\n",
    "#Specifically, it should start by printing message num times,\n",
    "#then print punct. It should repeat that process num times,\n",
    "#with punct printed between each time (but not at the start or\n",
    "#end).\n",
    "#\n",
    "#Here are a couple other examples:\n",
    "#\n",
    "# message = \"bbq\", punct = \"?\", num = 2 -> bbqbbq?bbqbbq\n",
    "# message = \"bbl\", punct = \":\", num = 3 -> bblbblbbl:bblbblbbl:bblbblbbl\n",
    "# message = \"brb\", punct = \".\", num = 4 -> brbbrbbrbbrb.brbbrbbrbbrb.brbbrbbrbbrb.brbbrbbrbbrb\n",
    "\n",
    "\n",
    "#Add your code below!\n",
    "print((message*num+punct)*(num-1)+message*num)"
   ]
  }
 ],
 "metadata": {
  "kernelspec": {
   "display_name": ".venv",
   "language": "python",
   "name": "python3"
  },
  "language_info": {
   "codemirror_mode": {
    "name": "ipython",
    "version": 3
   },
   "file_extension": ".py",
   "mimetype": "text/x-python",
   "name": "python",
   "nbconvert_exporter": "python",
   "pygments_lexer": "ipython3",
   "version": "3.11.1 (main, Dec 25 2022, 14:08:23) [Clang 14.0.0 (clang-1400.0.29.202)]"
  },
  "orig_nbformat": 4,
  "vscode": {
   "interpreter": {
    "hash": "b8ed45f46ae93313bdeaf6b364e024d47ad211eeeeeeec96ed3b577ee8c481c6"
   }
  }
 },
 "nbformat": 4,
 "nbformat_minor": 2
}
