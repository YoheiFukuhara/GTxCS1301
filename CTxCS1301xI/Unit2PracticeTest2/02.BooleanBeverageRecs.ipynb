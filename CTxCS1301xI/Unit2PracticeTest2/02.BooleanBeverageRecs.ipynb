{
 "cells": [
  {
   "cell_type": "code",
   "execution_count": 1,
   "metadata": {},
   "outputs": [
    {
     "name": "stdout",
     "output_type": "stream",
     "text": [
      "Coffee: True\n",
      "Hot Tea: False\n",
      "Smoothie: True\n",
      "Milkshake: False\n"
     ]
    }
   ],
   "source": [
    "hot = True\n",
    "cold = False\n",
    "morning = True\n",
    "evening = False\n",
    "night = False\n",
    "\n",
    "#You may modify the lines of code above, but don't move them!\n",
    "#When you Submit your code, we'll change these lines to\n",
    "#assign different values to the variables.\n",
    "\n",
    "#Write a program that will recommend a beverage based on the\n",
    "#current weather and time of day. Specifically, the program\n",
    "#should recommend:\n",
    "#\n",
    "# - coffee if it's morning, or if it's cold and evening\n",
    "# - hot tea if it's cold and either evening or night\n",
    "# - smoothie if it's hot, no matter what time of day it is\n",
    "# - milkshake if it's hot and evening, or if it's night\n",
    "#   no matter the temperature\n",
    "#\n",
    "#Write some code below that will print four lines, one for\n",
    "#each of the four beverages. The lines should look like this:\n",
    "#\n",
    "#Coffee: True\n",
    "#Hot Tea: False\n",
    "#Smoothie: True\n",
    "#Milkshake: True\n",
    "#\n",
    "#The values (True and False) will differ based on the\n",
    "#values assigned to hot, cold, morning, evening, and night\n",
    "#at the start of the program.\n",
    "\n",
    "\n",
    "#Add your code here!\n",
    "print(\"Coffee:\",  morning or (cold and evening))\n",
    "print(\"Hot Tea:\", cold and (evening or night))\n",
    "print(\"Smoothie:\", hot)\n",
    "print(\"Milkshake:\", (hot and evening) or night)"
   ]
  },
  {
   "cell_type": "code",
   "execution_count": null,
   "metadata": {},
   "outputs": [],
   "source": []
  }
 ],
 "metadata": {
  "kernelspec": {
   "display_name": ".venv",
   "language": "python",
   "name": "python3"
  },
  "language_info": {
   "codemirror_mode": {
    "name": "ipython",
    "version": 3
   },
   "file_extension": ".py",
   "mimetype": "text/x-python",
   "name": "python",
   "nbconvert_exporter": "python",
   "pygments_lexer": "ipython3",
   "version": "3.11.1"
  },
  "orig_nbformat": 4,
  "vscode": {
   "interpreter": {
    "hash": "b8ed45f46ae93313bdeaf6b364e024d47ad211eeeeeeec96ed3b577ee8c481c6"
   }
  }
 },
 "nbformat": 4,
 "nbformat_minor": 2
}
