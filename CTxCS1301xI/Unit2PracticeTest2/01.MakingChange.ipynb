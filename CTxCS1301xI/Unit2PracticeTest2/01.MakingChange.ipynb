{
 "cells": [
  {
   "cell_type": "code",
   "execution_count": 1,
   "metadata": {},
   "outputs": [
    {
     "name": "stdout",
     "output_type": "stream",
     "text": [
      "Your change is: 4.55\n"
     ]
    }
   ],
   "source": [
    "total = \"5.45\"\n",
    "cash = \"10.0\"\n",
    "\n",
    "#You may modify the lines of code above, but don't move them!\n",
    "#When you Submit your code, we'll change these lines to\n",
    "#assign different values to the variables.\n",
    "\n",
    "#Imagine you're writing the code for a cash register. As part\n",
    "#of this, it will have a total price for a purchase, and an\n",
    "#amount of cash the buyer is paying. However, both of these\n",
    "#are represent as strings.\n",
    "#\n",
    "#Write some code that will find and print the change that the\n",
    "#customer is due. For example, if cash is 10.0 and total is\n",
    "#5.45, then the change would be 4.55.\n",
    "#\n",
    "#Then, print the result with a message like this: \"Your\n",
    "#change is: 4.55\". Do not include the quotes in your output.\n",
    "#You may assume total and cash will both be floats.\n",
    "\n",
    "\n",
    "#Add your code here!\n",
    "print(\"Your change is:\", float(cash) - float(total))"
   ]
  },
  {
   "cell_type": "code",
   "execution_count": null,
   "metadata": {},
   "outputs": [],
   "source": []
  }
 ],
 "metadata": {
  "kernelspec": {
   "display_name": ".venv",
   "language": "python",
   "name": "python3"
  },
  "language_info": {
   "codemirror_mode": {
    "name": "ipython",
    "version": 3
   },
   "file_extension": ".py",
   "mimetype": "text/x-python",
   "name": "python",
   "nbconvert_exporter": "python",
   "pygments_lexer": "ipython3",
   "version": "3.11.1"
  },
  "orig_nbformat": 4,
  "vscode": {
   "interpreter": {
    "hash": "b8ed45f46ae93313bdeaf6b364e024d47ad211eeeeeeec96ed3b577ee8c481c6"
   }
  }
 },
 "nbformat": 4,
 "nbformat_minor": 2
}
