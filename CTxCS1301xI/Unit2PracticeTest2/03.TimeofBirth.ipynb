{
 "cells": [
  {
   "cell_type": "code",
   "execution_count": 1,
   "metadata": {},
   "outputs": [
    {
     "name": "stdout",
     "output_type": "stream",
     "text": [
      "Lucy was born to Caitlin and David at January 2, 2015 at 11:12PM.\n"
     ]
    }
   ],
   "source": [
    "parent_1 = \"Caitlin\"\n",
    "parent_2 = \"David\"\n",
    "baby = \"Lucy\"\n",
    "month = \"January\"\n",
    "day = 2\n",
    "year = 2015\n",
    "time = \"11:12PM\"\n",
    "\n",
    "#You may modify the lines of code above, but don't move them!\n",
    "#When you Submit your code, we'll change these lines to\n",
    "#assign different values to the variables.\n",
    "#\n",
    "#The variables above give some information about a baby's birth:\n",
    "#the names of the parents, the name of the baby, and the month,\n",
    "#day, year, and time of the wedding.\n",
    "#\n",
    "#Add some code that will write the text to appear on a birth\n",
    "#announcement based on these values. For the values shown above,\n",
    "#this would read:\n",
    "#\n",
    "#Lucy was born to Caitlin and David at January 2, 2015 at 11:12PM.\n",
    "#\n",
    "#Note that all components of this statement are required: the\n",
    "#baby's name, \" was born to \", the first parent's name, \" and \",\n",
    "#the second parent's name,\" at \", the month, the day, a comma, the\n",
    "#year, \" at \", the time, and a period.\n",
    "#\n",
    "#HINT: Copy the sentence from above and replace the current values\n",
    "#(Caitlin, David, January, etc.) with variables to reduce the\n",
    "#risk of typoes throwing off your answers.\n",
    "\n",
    "\n",
    "#Add your code here!\n",
    "print(f'{baby} was born to {parent_1} and {parent_2} at {month} {day}, {year} at {time}.')"
   ]
  },
  {
   "cell_type": "code",
   "execution_count": null,
   "metadata": {},
   "outputs": [],
   "source": []
  }
 ],
 "metadata": {
  "kernelspec": {
   "display_name": ".venv",
   "language": "python",
   "name": "python3"
  },
  "language_info": {
   "codemirror_mode": {
    "name": "ipython",
    "version": 3
   },
   "file_extension": ".py",
   "mimetype": "text/x-python",
   "name": "python",
   "nbconvert_exporter": "python",
   "pygments_lexer": "ipython3",
   "version": "3.11.1"
  },
  "orig_nbformat": 4,
  "vscode": {
   "interpreter": {
    "hash": "b8ed45f46ae93313bdeaf6b364e024d47ad211eeeeeeec96ed3b577ee8c481c6"
   }
  }
 },
 "nbformat": 4,
 "nbformat_minor": 2
}
