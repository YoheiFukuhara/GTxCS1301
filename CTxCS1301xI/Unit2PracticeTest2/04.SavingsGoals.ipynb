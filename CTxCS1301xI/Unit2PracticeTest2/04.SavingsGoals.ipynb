{
 "cells": [
  {
   "cell_type": "code",
   "execution_count": 1,
   "metadata": {},
   "outputs": [
    {
     "name": "stdout",
     "output_type": "stream",
     "text": [
      "True\n"
     ]
    }
   ],
   "source": [
    "principal = 40000\n",
    "rate = 0.05\n",
    "years = 5\n",
    "goal = 50000\n",
    "\n",
    "#You may modify the lines of code above, but don't move them!\n",
    "#When you Submit your code, we'll change these lines to\n",
    "#assign different values to the variables.\n",
    "\n",
    "#The variables above represent the current status of an\n",
    "#investment account. The variable principal represents the\n",
    "#initial value of the account. The variable rate represents\n",
    "#the interest rate. The variable years represents the number\n",
    "#of years the account will be allowed to grow.\n",
    "#\n",
    "#The variable goal represents the amount of money the investor\n",
    "#hopes to have saved up by the end of that time period.\n",
    "#\n",
    "#Add some code below that will calculate whether the\n",
    "#investment described by the values above will meet the given\n",
    "#goal. If it will, print True. If it will not, print False.\n",
    "#\n",
    "#The formula for the value of an account after a given time\n",
    "#(in number of years) is:\n",
    "#\n",
    "#  Current Value = principal * e ^ (rate * number of years)\n",
    "#\n",
    "#Because of the next line, you may use the variable e to\n",
    "#represent the value of e. For example, print(e * 2) would\n",
    "#print 5.43656365691809, which is double the value of e.\n",
    "from math import e\n",
    "\n",
    "\n",
    "#Add your code here!\n",
    "print(goal <= principal*e**(rate*years))"
   ]
  }
 ],
 "metadata": {
  "kernelspec": {
   "display_name": ".venv",
   "language": "python",
   "name": "python3"
  },
  "language_info": {
   "codemirror_mode": {
    "name": "ipython",
    "version": 3
   },
   "file_extension": ".py",
   "mimetype": "text/x-python",
   "name": "python",
   "nbconvert_exporter": "python",
   "pygments_lexer": "ipython3",
   "version": "3.11.1"
  },
  "orig_nbformat": 4,
  "vscode": {
   "interpreter": {
    "hash": "b8ed45f46ae93313bdeaf6b364e024d47ad211eeeeeeec96ed3b577ee8c481c6"
   }
  }
 },
 "nbformat": 4,
 "nbformat_minor": 2
}
