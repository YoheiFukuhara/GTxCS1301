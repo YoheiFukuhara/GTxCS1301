{
 "cells": [
  {
   "cell_type": "code",
   "execution_count": 2,
   "metadata": {},
   "outputs": [
    {
     "name": "stdout",
     "output_type": "stream",
     "text": [
      "You're spending $15.75 on Coca-Cola per week!  That's 1260 calories!\n"
     ]
    }
   ],
   "source": [
    "#Below we've written a function that is supposed to take in\n",
    "#four parameters and produce a string representing the cost\n",
    "#of a person's weekly soda consumption. Below the function\n",
    "#definition, we're calling the function.\n",
    "#\n",
    "#However, right now, the code is erroring out. Fix this code\n",
    "#without changing the code inside the function. You may\n",
    "#change either the function declaration (on line 11) or the\n",
    "#function call on line 27.\n",
    "\n",
    "def soda_habit(preferred_soda, price_per_soda, calories_per_soda, sodas_per_week):\n",
    "    \n",
    "    #Above, we've moved preferred_soda to the beginning and\n",
    "    #sodas_per_week to the end, so our original function\n",
    "    #call will work.\n",
    "    \n",
    "    #Don't change the body of this function!\n",
    "    \n",
    "    money_spent = price_per_soda * sodas_per_week\n",
    "    calories_consumed = calories_per_soda * sodas_per_week\n",
    "    \n",
    "    summary_string = \"You're spending $\" + str(money_spent) + \" on \" + preferred_soda + \" per week! \"\n",
    "    summary_string += \" That's \" + str(calories_consumed) + \" calories!\"\n",
    "    \n",
    "    return summary_string\n",
    "\n",
    "result = soda_habit(\"Coca-Cola\", 1.75, 140, 9)\n",
    "print(result)"
   ]
  }
 ],
 "metadata": {
  "kernelspec": {
   "display_name": ".venv",
   "language": "python",
   "name": "python3"
  },
  "language_info": {
   "codemirror_mode": {
    "name": "ipython",
    "version": 3
   },
   "file_extension": ".py",
   "mimetype": "text/x-python",
   "name": "python",
   "nbconvert_exporter": "python",
   "pygments_lexer": "ipython3",
   "version": "3.11.1"
  },
  "orig_nbformat": 4,
  "vscode": {
   "interpreter": {
    "hash": "b8ed45f46ae93313bdeaf6b364e024d47ad211eeeeeeec96ed3b577ee8c481c6"
   }
  }
 },
 "nbformat": 4,
 "nbformat_minor": 2
}
