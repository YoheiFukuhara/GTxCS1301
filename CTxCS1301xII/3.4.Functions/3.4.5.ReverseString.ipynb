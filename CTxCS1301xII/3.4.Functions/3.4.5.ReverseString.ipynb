{
 "cells": [
  {
   "cell_type": "code",
   "execution_count": 3,
   "metadata": {},
   "outputs": [
    {
     "name": "stdout",
     "output_type": "stream",
     "text": [
      "!desrever eb dluohs gnirts sihT\n"
     ]
    }
   ],
   "source": [
    "#We've written the function, reverse, below. This function\n",
    "#takes a string and returns the reverse of it. There are two\n",
    "#scope errors somewhere in the code. Read through all the\n",
    "#code below to find and fix the errors, so that the function\n",
    "#produces the correct output and the result of the function\n",
    "#is correctly printed. Note that you should not change the\n",
    "#three lines that are already present in the function, but\n",
    "#you may add lines before them, or you may change or add to\n",
    "#the lines outside the function.\n",
    "#\n",
    "#Note that your goal here is to fix both the function itself\n",
    "#and the program as a whole. So, your function should be\n",
    "#able to be called on a new string, and the program when\n",
    "#run should print the reverse of the string originally on\n",
    "#line 29.\n",
    "\n",
    "\n",
    "def reverse(a_string):\n",
    "    #You may add code before the following three lines.\n",
    "    rev = \"\"\n",
    "    \n",
    "    #Don't change these three lines.\n",
    "    for i in range(len(a_string)-1, -1, -1):\n",
    "        rev = rev + a_string[i]\n",
    "    return rev\n",
    "\n",
    "\n",
    "#You may change or add to the following lines.\n",
    "print(reverse(\"This string should be reversed!\"))"
   ]
  }
 ],
 "metadata": {
  "kernelspec": {
   "display_name": ".venv",
   "language": "python",
   "name": "python3"
  },
  "language_info": {
   "codemirror_mode": {
    "name": "ipython",
    "version": 3
   },
   "file_extension": ".py",
   "mimetype": "text/x-python",
   "name": "python",
   "nbconvert_exporter": "python",
   "pygments_lexer": "ipython3",
   "version": "3.11.1 (main, Dec 25 2022, 14:08:23) [Clang 14.0.0 (clang-1400.0.29.202)]"
  },
  "orig_nbformat": 4,
  "vscode": {
   "interpreter": {
    "hash": "b8ed45f46ae93313bdeaf6b364e024d47ad211eeeeeeec96ed3b577ee8c481c6"
   }
  }
 },
 "nbformat": 4,
 "nbformat_minor": 2
}
