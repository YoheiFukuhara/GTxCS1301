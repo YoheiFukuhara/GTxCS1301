{
 "cells": [
  {
   "cell_type": "code",
   "execution_count": 2,
   "metadata": {},
   "outputs": [
    {
     "name": "stdout",
     "output_type": "stream",
     "text": [
      "Joshua, Jackie, and Marguerite are awesome!\n"
     ]
    }
   ],
   "source": [
    "#Helping us develop this class are a team of teaching\n",
    "#assistants, often called TAs for short.\n",
    "#\n",
    "#Write a function called my_TAs. The function should take as\n",
    "#input three strings: first_TA, second_TA, and third_TA. It\n",
    "#should return as output the string, \"[first_TA], [second_TA],\n",
    "#and [third_TA] are awesome!\", with the values replacing the\n",
    "#variable names.\n",
    "#\n",
    "#For example, my_TAs(\"Sridevi\", \"Lucy\", \"Xu\") would return\n",
    "#the string \"Sridevi, Lucy, and Xu are awesome!\"\n",
    "#\n",
    "#Hint: Notice that because you're returning a string instead\n",
    "#of printing a string, you can't use the print() statement\n",
    "# -- you'll have to create the string yourself, then return\n",
    "#it!\n",
    "\n",
    "\n",
    "#Write your function here!\n",
    "def my_TAs(first_TA, second_TA, third_TA):\n",
    "    return f\"{first_TA}, {second_TA}, and {third_TA} are awesome!\"\n",
    "\n",
    "#Below are some lines of code that will test your function.\n",
    "#You can change the value of the variable(s) to test your\n",
    "#function with different inputs.\n",
    "#\n",
    "#If your function works correctly, this will originally\n",
    "#print: \"Joshua, Jackie, and Marguerite are awesome!\".\n",
    "test_first_TA = \"Joshua\"\n",
    "test_second_TA = \"Jackie\"\n",
    "test_third_TA = \"Marguerite\"\n",
    "print(my_TAs(test_first_TA, test_second_TA, test_third_TA))"
   ]
  }
 ],
 "metadata": {
  "kernelspec": {
   "display_name": ".venv",
   "language": "python",
   "name": "python3"
  },
  "language_info": {
   "codemirror_mode": {
    "name": "ipython",
    "version": 3
   },
   "file_extension": ".py",
   "mimetype": "text/x-python",
   "name": "python",
   "nbconvert_exporter": "python",
   "pygments_lexer": "ipython3",
   "version": "3.11.1"
  },
  "orig_nbformat": 4,
  "vscode": {
   "interpreter": {
    "hash": "b8ed45f46ae93313bdeaf6b364e024d47ad211eeeeeeec96ed3b577ee8c481c6"
   }
  }
 },
 "nbformat": 4,
 "nbformat_minor": 2
}
