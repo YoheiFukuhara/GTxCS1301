{
 "cells": [
  {
   "cell_type": "code",
   "execution_count": 1,
   "metadata": {},
   "outputs": [
    {
     "name": "stdout",
     "output_type": "stream",
     "text": [
      "Sheee's my cherry pie\n",
      "True\n",
      "84.0\n"
     ]
    }
   ],
   "source": [
    "#Take a look at the three functions completely written\n",
    "#below. It's your job to correctly call each function with\n",
    "#the following parameters:\n",
    "#\n",
    "#  Function 1: the string \"Black Horse and a Cherry Tree\" \n",
    "#  Function 2: no parameters\n",
    "#  Function 3: these five numbers: 80, 80, 95, 86, 79\n",
    "\n",
    "#Function 1\n",
    "def cherry_pie(song):\n",
    "    if (\"Cherry\" in song):\n",
    "        print(\"Sheee's my cherry pie\")\n",
    "    else:\n",
    "        print(\"Huh... must be an American Pie.\")\n",
    "\n",
    "#Function 2\n",
    "def should_I_go_to_Waffle_House():\n",
    "    print(True)\n",
    "\n",
    "#Function 3\n",
    "def average_grades(num1, num2, num3, num4, num5):\n",
    "    sum = num1 + num2 + num3 + num4 + num5\n",
    "    average = sum / 5\n",
    "    print(average)\n",
    "\n",
    "\n",
    "#Add your function calls here! Don't change any of the\n",
    "#code above.\n",
    "cherry_pie(\"Black Horse and a Cherry Tree\" )\n",
    "should_I_go_to_Waffle_House()\n",
    "average_grades(80, 80, 95, 86, 79)"
   ]
  }
 ],
 "metadata": {
  "kernelspec": {
   "display_name": ".venv",
   "language": "python",
   "name": "python3"
  },
  "language_info": {
   "codemirror_mode": {
    "name": "ipython",
    "version": 3
   },
   "file_extension": ".py",
   "mimetype": "text/x-python",
   "name": "python",
   "nbconvert_exporter": "python",
   "pygments_lexer": "ipython3",
   "version": "3.11.1"
  },
  "orig_nbformat": 4,
  "vscode": {
   "interpreter": {
    "hash": "b8ed45f46ae93313bdeaf6b364e024d47ad211eeeeeeec96ed3b577ee8c481c6"
   }
  }
 },
 "nbformat": 4,
 "nbformat_minor": 2
}
