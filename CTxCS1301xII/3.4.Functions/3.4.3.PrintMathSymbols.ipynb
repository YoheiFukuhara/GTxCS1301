{
 "cells": [
  {
   "cell_type": "code",
   "execution_count": 1,
   "metadata": {},
   "outputs": [
    {
     "name": "stdout",
     "output_type": "stream",
     "text": [
      "÷\n",
      "×\n"
     ]
    }
   ],
   "source": [
    "#When writing out mathematical equations for younger\n",
    "#audiences, we usually want to use the traditional division\n",
    "#and multiplication symbols, ÷ and ×, instead of slashes and\n",
    "#asterisks. These keys aren't on the keyboard, though. So,\n",
    "#let's write functions that will print them.\n",
    "#\n",
    "#First, write two functions: one called print_division_symbol\n",
    "#and one called print_multiplication_symbol. The functions\n",
    "#should do what their names suggest: print_division_symbol\n",
    "#should print a division symbol, print_multiplication_symbol\n",
    "#should print a multiplication symbol. You can copy the\n",
    "#characters for those symbols from these directions.\n",
    "#\n",
    "#Then, after writing those two functions, call them in the\n",
    "#same order: print_division_symbol, then\n",
    "#print_multiplication_symbol. The output of your code should\n",
    "#thus be ÷, then ×, each on their own line.\n",
    "#\n",
    "#Note that you don't need to worry about the end=\"\" thing\n",
    "#you saw in the video: just print the symbols on their own\n",
    "#lines. Note also that if you receive a UnicodeEncodeError,\n",
    "#try submitting your code instead of running it: that error\n",
    "#happens sometimes, but only affects Run, not Submit.\n",
    "#\n",
    "#HINT: you're writing two functions. You don't want one to\n",
    "#be inside the other.\n",
    "\n",
    "\n",
    "#Write your two functions here!\n",
    "def print_division_symbol():\n",
    "    print(\"÷\")\n",
    "\n",
    "def print_multiplication_symbol():\n",
    "    print(\"×\")\n",
    "\n",
    "#Call your two functions here!\n",
    "print_division_symbol()\n",
    "print_multiplication_symbol()"
   ]
  }
 ],
 "metadata": {
  "kernelspec": {
   "display_name": ".venv",
   "language": "python",
   "name": "python3"
  },
  "language_info": {
   "codemirror_mode": {
    "name": "ipython",
    "version": 3
   },
   "file_extension": ".py",
   "mimetype": "text/x-python",
   "name": "python",
   "nbconvert_exporter": "python",
   "pygments_lexer": "ipython3",
   "version": "3.11.1"
  },
  "orig_nbformat": 4,
  "vscode": {
   "interpreter": {
    "hash": "b8ed45f46ae93313bdeaf6b364e024d47ad211eeeeeeec96ed3b577ee8c481c6"
   }
  }
 },
 "nbformat": 4,
 "nbformat_minor": 2
}
