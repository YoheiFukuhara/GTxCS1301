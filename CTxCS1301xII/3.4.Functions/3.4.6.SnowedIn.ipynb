{
 "cells": [
  {
   "cell_type": "code",
   "execution_count": 1,
   "metadata": {},
   "outputs": [
    {
     "name": "stdout",
     "output_type": "stream",
     "text": [
      "False\n",
      "True\n",
      "True\n"
     ]
    }
   ],
   "source": [
    "#Write a function called snowed_in that will determine\n",
    "#whether school is closed based on the weather and\n",
    "#temperature. We'll pretend the school is in Georgia, where\n",
    "#a little snow or sub-freezing temperatures are enough to\n",
    "#close down schools!\n",
    "#\n",
    "#The function should take three parameters:\n",
    "#\n",
    "# - temperature, a float\n",
    "# - weather, a string\n",
    "# - is_celsius, a boolean\n",
    "#\n",
    "#The function should return True if temperature is below\n",
    "#freezing (32 if is_celsius is False, 0 if is_celsius is\n",
    "#True) or if weather is \"snowy\". Otherwise, it should\n",
    "#return False.\n",
    "#\n",
    "#Note, however, that is_celsius should be an optional\n",
    "#argument. If the function call does not supply a value for\n",
    "#is_celsius, assume it is True.\n",
    "#\n",
    "#For example:\n",
    "#\n",
    "# snowed_in(15, \"sunny\") -> False\n",
    "# is_celsius is assumed to be True, so 15 is not below\n",
    "# freezing.\n",
    "#\n",
    "# snowed_in(15, \"sunny\", is_celsius = False) -> True\n",
    "# is_celsius is False, so 15 is below freezing.\n",
    "#\n",
    "# snowed_in(15, \"snowy\", is_celsius = True) -> True\n",
    "# The weather is \"snowy\", so the temperature doesn't matter.\n",
    "\n",
    "\n",
    "#Write your function here!\n",
    "def snowed_in(temperature, weather, is_celsius=True):\n",
    "    if (temperature < 32 and is_celsius == False) \\\n",
    "     or (temperature < 0 and is_celsius == True ) \\\n",
    "     or (weather == \"snowy\"): \n",
    "        return True\n",
    "    else:\n",
    "        return False\n",
    "\n",
    "#Below are some lines of code that will test your function.\n",
    "#You can change the value of the variable(s) to test your\n",
    "#function with different inputs.\n",
    "#\n",
    "#If your function works correctly, this will originally\n",
    "#print False, True, and True, each on their own line.\n",
    "\n",
    "print(snowed_in(15, \"sunny\")) #Should print False\n",
    "print(snowed_in(15, \"sunny\", is_celsius = False)) #Should print True\n",
    "print(snowed_in(15, \"snowy\", is_celsius = True)) #Should print True"
   ]
  }
 ],
 "metadata": {
  "kernelspec": {
   "display_name": ".venv",
   "language": "python",
   "name": "python3"
  },
  "language_info": {
   "codemirror_mode": {
    "name": "ipython",
    "version": 3
   },
   "file_extension": ".py",
   "mimetype": "text/x-python",
   "name": "python",
   "nbconvert_exporter": "python",
   "pygments_lexer": "ipython3",
   "version": "3.11.1"
  },
  "orig_nbformat": 4,
  "vscode": {
   "interpreter": {
    "hash": "b8ed45f46ae93313bdeaf6b364e024d47ad211eeeeeeec96ed3b577ee8c481c6"
   }
  }
 },
 "nbformat": 4,
 "nbformat_minor": 2
}
