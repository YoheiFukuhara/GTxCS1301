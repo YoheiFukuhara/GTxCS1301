{
 "cells": [
  {
   "cell_type": "code",
   "execution_count": 1,
   "metadata": {},
   "outputs": [
    {
     "name": "stdout",
     "output_type": "stream",
     "text": [
      "A square with side length 4 has an area of 16\n"
     ]
    }
   ],
   "source": [
    "#Write a function that takes in one integer parameter, the\n",
    "#side length of a square, and returns the area. The function\n",
    "#should be named find_area, and have one parameter:\n",
    "#side_length.\n",
    "\n",
    "\n",
    "#Write your function here!\n",
    "def find_area(side_length):\n",
    "    return side_length**2\n",
    "\n",
    "\n",
    "#Below are some lines of code that will test your function.\n",
    "#You can change the value of the variable(s) to test your\n",
    "#function with different inputs.\n",
    "#\n",
    "#If your function works correctly, this will originally\n",
    "#print: \"A square with side length 4 has an area of 16\".\n",
    "\n",
    "test_side_length = 4\n",
    "print(\"A square with side length\", test_side_length, \"has an area of\", find_area(test_side_length))"
   ]
  }
 ],
 "metadata": {
  "kernelspec": {
   "display_name": ".venv",
   "language": "python",
   "name": "python3"
  },
  "language_info": {
   "codemirror_mode": {
    "name": "ipython",
    "version": 3
   },
   "file_extension": ".py",
   "mimetype": "text/x-python",
   "name": "python",
   "nbconvert_exporter": "python",
   "pygments_lexer": "ipython3",
   "version": "3.11.1"
  },
  "orig_nbformat": 4,
  "vscode": {
   "interpreter": {
    "hash": "b8ed45f46ae93313bdeaf6b364e024d47ad211eeeeeeec96ed3b577ee8c481c6"
   }
  }
 },
 "nbformat": 4,
 "nbformat_minor": 2
}
