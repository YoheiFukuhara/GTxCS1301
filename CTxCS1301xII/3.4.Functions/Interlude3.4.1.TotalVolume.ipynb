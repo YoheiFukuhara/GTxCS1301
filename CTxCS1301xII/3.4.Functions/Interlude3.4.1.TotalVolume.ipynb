{
 "cells": [
  {
   "cell_type": "code",
   "execution_count": 2,
   "metadata": {},
   "outputs": [
    {
     "name": "stdout",
     "output_type": "stream",
     "text": [
      "A square with side length 10 has an area of 160\n"
     ]
    }
   ],
   "source": [
    "#Write a function called total_volume. total_volume should\n",
    "#have four parameters, all integers. The first three\n",
    "#parameters should represent the length, width, and height\n",
    "#of a box respectively. The fourth should represent the\n",
    "#number of boxes.\n",
    "#\n",
    "#The function should return an integer representing the\n",
    "#total volume represented by the given boxes. For example,\n",
    "#if the length is 10, the width is 2, the height is 2, and\n",
    "#there are 4 boxes, then the total volume would be 160:\n",
    "#((10 * 2 * 2) * 4) = 160.\n",
    "\n",
    "\n",
    "num_boxes = 4\n",
    "def total_volume(a_length, a_width, a_height, box_count):\n",
    "    return a_length * a_width * a_height * box_count\n",
    "\n",
    "#Below are some lines of code that will test your function.\n",
    "#You can change the value of the variable(s) to test your\n",
    "#function with different inputs.\n",
    "#\n",
    "#If your function works correctly, this will originally\n",
    "#print: \"A square with side length 4 has an area of 16\".\n",
    "test_length = 10\n",
    "test_width = 2\n",
    "test_height = 2\n",
    "test_box_count = 4\n",
    "result = total_volume(test_length, test_width, test_height, test_box_count)\n",
    "print(f\"A square with side length {test_length} has an area of {result}\")"
   ]
  }
 ],
 "metadata": {
  "kernelspec": {
   "display_name": ".venv",
   "language": "python",
   "name": "python3"
  },
  "language_info": {
   "codemirror_mode": {
    "name": "ipython",
    "version": 3
   },
   "file_extension": ".py",
   "mimetype": "text/x-python",
   "name": "python",
   "nbconvert_exporter": "python",
   "pygments_lexer": "ipython3",
   "version": "3.11.1"
  },
  "orig_nbformat": 4,
  "vscode": {
   "interpreter": {
    "hash": "b8ed45f46ae93313bdeaf6b364e024d47ad211eeeeeeec96ed3b577ee8c481c6"
   }
  }
 },
 "nbformat": 4,
 "nbformat_minor": 2
}
