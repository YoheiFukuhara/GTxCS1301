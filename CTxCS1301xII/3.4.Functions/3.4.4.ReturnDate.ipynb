{
 "cells": [
  {
   "cell_type": "code",
   "execution_count": 2,
   "metadata": {},
   "outputs": [
    {
     "name": "stdout",
     "output_type": "stream",
     "text": [
      "2023/1/7\n"
     ]
    }
   ],
   "source": [
    "#Write a function called get_todays_date that returns\n",
    "#today's date as a string, in the form year/month/day.\n",
    "#For example, if today is January 15th, 2017, then it\n",
    "#would return 2017/1/15.\n",
    "#\n",
    "#Remember, you took care of the string formatting part of\n",
    "#this exercise in 2.2.9 Coding Exercise 1! Now, you're\n",
    "#converting it to a function that returns the string.\n",
    "#\n",
    "#Note that the line below will let you access today's date\n",
    "#using date.today() anywhere in your code.\n",
    "from datetime import date\n",
    "\n",
    "\n",
    "#Write your function here!\n",
    "def get_todays_date():\n",
    "    return date.today().strftime(\"%Y/%-m/%-d\")\n",
    "\n",
    "#If you want to test your code, you can do so by calling\n",
    "#your function below. However, this is no longer required\n",
    "#for grading.\n",
    "print(get_todays_date())"
   ]
  }
 ],
 "metadata": {
  "kernelspec": {
   "display_name": ".venv",
   "language": "python",
   "name": "python3"
  },
  "language_info": {
   "codemirror_mode": {
    "name": "ipython",
    "version": 3
   },
   "file_extension": ".py",
   "mimetype": "text/x-python",
   "name": "python",
   "nbconvert_exporter": "python",
   "pygments_lexer": "ipython3",
   "version": "3.11.1"
  },
  "orig_nbformat": 4,
  "vscode": {
   "interpreter": {
    "hash": "b8ed45f46ae93313bdeaf6b364e024d47ad211eeeeeeec96ed3b577ee8c481c6"
   }
  }
 },
 "nbformat": 4,
 "nbformat_minor": 2
}
