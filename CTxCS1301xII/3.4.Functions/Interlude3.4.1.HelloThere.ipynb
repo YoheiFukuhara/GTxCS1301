{
 "cells": [
  {
   "cell_type": "code",
   "execution_count": 1,
   "metadata": {},
   "outputs": [
    {
     "name": "stdout",
     "output_type": "stream",
     "text": [
      "Hi David!\n"
     ]
    }
   ],
   "source": [
    "#Write a function called greeting. greeting should have one\n",
    "#parameter, a string representing a name. It should return\n",
    "#a string with the message \"Hi [name]!\", where the value of\n",
    "#the parameter is used in place of [name].\n",
    "#\n",
    "#For example:\n",
    "#\n",
    "# greeting(\"David\") -> \"Hi David!\"\n",
    "\n",
    "\n",
    "def greeting(input_name):\n",
    "    return \"Hi \" + input_name + \"!\"\n",
    "\n",
    "\n",
    "#Below are some lines of code that will test your function.\n",
    "#You can change the value of the variable(s) to test your\n",
    "#function with different inputs.\n",
    "#\n",
    "#If your function works correctly, this will originally\n",
    "#print: \"Hi David!\"\n",
    "\n",
    "a_name = \"David\"\n",
    "message = greeting(a_name)\n",
    "print(message)"
   ]
  }
 ],
 "metadata": {
  "kernelspec": {
   "display_name": ".venv",
   "language": "python",
   "name": "python3"
  },
  "language_info": {
   "codemirror_mode": {
    "name": "ipython",
    "version": 3
   },
   "file_extension": ".py",
   "mimetype": "text/x-python",
   "name": "python",
   "nbconvert_exporter": "python",
   "pygments_lexer": "ipython3",
   "version": "3.11.1"
  },
  "orig_nbformat": 4,
  "vscode": {
   "interpreter": {
    "hash": "b8ed45f46ae93313bdeaf6b364e024d47ad211eeeeeeec96ed3b577ee8c481c6"
   }
  }
 },
 "nbformat": 4,
 "nbformat_minor": 2
}
