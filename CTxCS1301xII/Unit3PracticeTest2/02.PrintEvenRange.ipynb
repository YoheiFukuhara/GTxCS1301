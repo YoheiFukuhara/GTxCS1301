{
 "cells": [
  {
   "cell_type": "code",
   "execution_count": 1,
   "metadata": {},
   "outputs": [
    {
     "name": "stdout",
     "output_type": "stream",
     "text": [
      "6\n",
      "8\n",
      "10\n",
      "12\n",
      "14\n"
     ]
    }
   ],
   "source": [
    "minimum = 5\n",
    "maximum = 14\n",
    "\n",
    "#You may modify the lines of code above, but don't move them!\n",
    "#When you Submit your code, we'll change these lines to\n",
    "#assign different values to the variables.\n",
    "#\n",
    "#Write a loop (we suggest a for loop) that prints all the\n",
    "#even numbers from minimum to maximum. Each number should be\n",
    "#printed on its own line, and you should print both minimum\n",
    "#and maxmimum themselves if they are even. You may assume\n",
    "#minimum will always be less than maximum.\n",
    "#\n",
    "#With the initial values for minimum and maximum above, this\n",
    "#should print 6, 8, 10, 12, 14 -- each number would be on its\n",
    "#own line, no commas.\n",
    "\n",
    "\n",
    "#Add your code here!\n",
    "for i in range(minimum, maximum+1):\n",
    "    if i % 2 == 0:\n",
    "        print(i)"
   ]
  }
 ],
 "metadata": {
  "kernelspec": {
   "display_name": ".venv",
   "language": "python",
   "name": "python3"
  },
  "language_info": {
   "codemirror_mode": {
    "name": "ipython",
    "version": 3
   },
   "file_extension": ".py",
   "mimetype": "text/x-python",
   "name": "python",
   "nbconvert_exporter": "python",
   "pygments_lexer": "ipython3",
   "version": "3.11.1"
  },
  "orig_nbformat": 4,
  "vscode": {
   "interpreter": {
    "hash": "b8ed45f46ae93313bdeaf6b364e024d47ad211eeeeeeec96ed3b577ee8c481c6"
   }
  }
 },
 "nbformat": 4,
 "nbformat_minor": 2
}
