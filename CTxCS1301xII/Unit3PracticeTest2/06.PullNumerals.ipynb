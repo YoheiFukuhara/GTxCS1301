{
 "cells": [
  {
   "cell_type": "code",
   "execution_count": 3,
   "metadata": {},
   "outputs": [
    {
     "name": "stdout",
     "output_type": "stream",
     "text": [
      "1301\n",
      "\n",
      "8675309\n"
     ]
    }
   ],
   "source": [
    "#Write a function called get_numerals. get_numerals should\n",
    "#accept one parameter, a string. It should return a string\n",
    "#containing only the numerals from the original string:\n",
    "#no letters, punctuation marks, or spaces.\n",
    "#\n",
    "#Remember, numerals have ordinal numbers between 48 (\"0\")\n",
    "#and 57 (\"9\"). You may use the ord() function to get\n",
    "#a letter's ordinal number.\n",
    "#\n",
    "#Your function should be able to handle strings with no\n",
    "#numerals (return an empty string) and strings with all\n",
    "#numerals (return the original string). You may assume\n",
    "#we'll only use regular characters (no emojis, formatting\n",
    "#characters, etc.).\n",
    "\n",
    "\n",
    "#Write your function here!\n",
    "def get_numerals(string):\n",
    "    numerals = \"\"\n",
    "    for char in string:\n",
    "        if 48 <= ord(char) <= 57:\n",
    "            numerals += char\n",
    "    return numerals\n",
    "\n",
    "#Below are some lines of code that will test your function.\n",
    "#You can change the value of the variable(s) to test your\n",
    "#function with different inputs.\n",
    "#\n",
    "#If your function works correctly, this will originally\n",
    "#print:\n",
    "#1301\n",
    "#\n",
    "#8675309\n",
    "print(get_numerals(\"CS1301\"))\n",
    "print(get_numerals(\"Georgia Institute of Technology\"))\n",
    "print(get_numerals(\"8675309\"))"
   ]
  }
 ],
 "metadata": {
  "kernelspec": {
   "display_name": ".venv",
   "language": "python",
   "name": "python3"
  },
  "language_info": {
   "codemirror_mode": {
    "name": "ipython",
    "version": 3
   },
   "file_extension": ".py",
   "mimetype": "text/x-python",
   "name": "python",
   "nbconvert_exporter": "python",
   "pygments_lexer": "ipython3",
   "version": "3.11.1"
  },
  "orig_nbformat": 4,
  "vscode": {
   "interpreter": {
    "hash": "b8ed45f46ae93313bdeaf6b364e024d47ad211eeeeeeec96ed3b577ee8c481c6"
   }
  }
 },
 "nbformat": 4,
 "nbformat_minor": 2
}
