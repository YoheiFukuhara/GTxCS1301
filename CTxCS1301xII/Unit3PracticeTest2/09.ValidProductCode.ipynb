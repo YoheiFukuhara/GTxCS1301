{
 "cells": [
  {
   "cell_type": "code",
   "execution_count": 1,
   "metadata": {},
   "outputs": [
    {
     "name": "stdout",
     "output_type": "stream",
     "text": [
      "True\n",
      "True\n",
      "False\n",
      "False\n",
      "False\n"
     ]
    }
   ],
   "source": [
    "#Write a function called product_code_check. product_code_check\n",
    "#should take as input a single string. It should return a boolean:\n",
    "#True if the product code is a valid code according to the rules\n",
    "#below, False if it is not.\n",
    "#\n",
    "#A string is a valid product code if it meets ALL the following\n",
    "#conditions:\n",
    "#\n",
    "# - It must be at least 8 characters long.\n",
    "# - It must contain at least one character from each of the\n",
    "#   following categories: capital letters, lower-case letters,\n",
    "#   and numbers.\n",
    "# - It may not contain any punctuation marks, spaces, or other\n",
    "#   characters.\n",
    "\n",
    "\n",
    "#Add your code here!\n",
    "import re\n",
    "def product_code_check(product_code):\n",
    "    if len(product_code) < 8 or re.search(\"[^A-Za-z\\d]\", product_code):\n",
    "        return False\n",
    "    if re.search(\"[A-Z]\", product_code) \\\n",
    "     and re.search(\"[a-z]\", product_code) \\\n",
    "     and re.search(\"[\\d]\", product_code):\n",
    "        return True\n",
    "    else:\n",
    "        return False\n",
    "\n",
    "#Below are some lines of code that will test your function.\n",
    "#You can change the value of the variable(s) to test your\n",
    "#function with different inputs.\n",
    "#\n",
    "#If your function works correctly, this will originally\n",
    "#print: True, True, False, False, False\n",
    "print(product_code_check(\"g00dlONGproductCODE\"))\n",
    "print(product_code_check(\"fRV53FwSXX663cCd\"))\n",
    "print(product_code_check(\"2shOrt\"))\n",
    "print(product_code_check(\"alll0wercase\"))\n",
    "print(product_code_check(\"inv4l1d CH4R4CTERS~\"))"
   ]
  },
  {
   "cell_type": "code",
   "execution_count": null,
   "metadata": {},
   "outputs": [],
   "source": []
  }
 ],
 "metadata": {
  "kernelspec": {
   "display_name": ".venv",
   "language": "python",
   "name": "python3"
  },
  "language_info": {
   "codemirror_mode": {
    "name": "ipython",
    "version": 3
   },
   "file_extension": ".py",
   "mimetype": "text/x-python",
   "name": "python",
   "nbconvert_exporter": "python",
   "pygments_lexer": "ipython3",
   "version": "3.11.1"
  },
  "orig_nbformat": 4,
  "vscode": {
   "interpreter": {
    "hash": "b8ed45f46ae93313bdeaf6b364e024d47ad211eeeeeeec96ed3b577ee8c481c6"
   }
  }
 },
 "nbformat": 4,
 "nbformat_minor": 2
}
