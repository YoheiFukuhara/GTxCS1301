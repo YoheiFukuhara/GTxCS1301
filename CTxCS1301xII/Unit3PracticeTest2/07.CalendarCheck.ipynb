{
 "cells": [
  {
   "cell_type": "code",
   "execution_count": 1,
   "metadata": {},
   "outputs": [
    {
     "name": "stdout",
     "output_type": "stream",
     "text": [
      "True\n",
      "True\n",
      "False\n",
      "False\n"
     ]
    }
   ],
   "source": [
    "#Write a function called check_date. check_date should\n",
    "#require two positional parameters: a string representing\n",
    "#the name of a month, and an integer representing a date.\n",
    "#check_date should also have a keyword parameter called\n",
    "#is_leap_year, assumed to be False, representing whether or\n",
    "#not it's a leap year.\n",
    "#\n",
    "#Return True if the date is a valid calendar date. Return\n",
    "#False if it is not. A date may not be a valid calendar\n",
    "#date if the month isn't a real month, or if that date does\n",
    "#not exist for that month. You can see some examples at the\n",
    "#end of this file.\n",
    "#\n",
    "#Remember: 30 days has September, April, June, and November.\n",
    "#All the rest have 31, except February, which has 28, until\n",
    "#Leap Year gives it 29.\n",
    "#\n",
    "#You may assume that day will be greater than 0 (you don't\n",
    "#need to check negative or zero values for day).\n",
    "\n",
    "\n",
    "#Write your function here!\n",
    "def check_date(month, date, is_leap_year=False):\n",
    "    month_30 = [\"April\", \"June\", \"September\", \"November\"]\n",
    "    month_31 = [\"January\", \"March\", \"May\", \"July\", \"August\", \"October\", \"December\"]\n",
    "    if month == \"February\":\n",
    "        if is_leap_year and date <= 29\\\n",
    "          or not(is_leap_year) and date <= 28:\n",
    "            return True\n",
    "    elif ( month in month_30 and date <= 30 ) \\\n",
    "       or ( month in month_31 and date <= 31 ):\n",
    "        return True\n",
    "    return False\n",
    "    \n",
    "#Below are some lines of code that will test your function.\n",
    "#You can change the value of the variable(s) to test your\n",
    "#function with different inputs.\n",
    "#\n",
    "#If your function works correctly, this will originally\n",
    "#print: True, True, False, False, each on their own line.\n",
    "print(check_date(\"January\", 31))\n",
    "print(check_date(\"February\", 29, is_leap_year = True))\n",
    "print(check_date(\"Techtember\", 15, is_leap_year = True))\n",
    "print(check_date(\"June\", 31))"
   ]
  }
 ],
 "metadata": {
  "kernelspec": {
   "display_name": ".venv",
   "language": "python",
   "name": "python3"
  },
  "language_info": {
   "codemirror_mode": {
    "name": "ipython",
    "version": 3
   },
   "file_extension": ".py",
   "mimetype": "text/x-python",
   "name": "python",
   "nbconvert_exporter": "python",
   "pygments_lexer": "ipython3",
   "version": "3.11.1"
  },
  "orig_nbformat": 4,
  "vscode": {
   "interpreter": {
    "hash": "b8ed45f46ae93313bdeaf6b364e024d47ad211eeeeeeec96ed3b577ee8c481c6"
   }
  }
 },
 "nbformat": 4,
 "nbformat_minor": 2
}
