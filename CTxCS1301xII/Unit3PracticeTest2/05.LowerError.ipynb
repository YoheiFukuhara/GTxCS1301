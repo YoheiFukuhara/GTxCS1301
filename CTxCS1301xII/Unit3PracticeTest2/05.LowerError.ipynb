{
 "cells": [
  {
   "cell_type": "code",
   "execution_count": 2,
   "metadata": {},
   "outputs": [
    {
     "name": "stdout",
     "output_type": "stream",
     "text": [
      "False\n"
     ]
    }
   ],
   "source": [
    "the_string = \"Ramblin\"\n",
    "\n",
    "#You may modify the lines of code above, but don't move them!\n",
    "#When you Submit your code, we'll change these lines to\n",
    "#assign different values to the variables.\n",
    "#\n",
    "#The string class has a method called islower which returns\n",
    "#True if a string is all lower case, false if it is not.\n",
    "#For example, if the_string = \"Ramblin\", then calling the\n",
    "#method the_string.islower() would return False. If instead\n",
    "#the_string was \"wreck\", the_string.islower() would return\n",
    "#True.\n",
    "#\n",
    "#Write some code that uses islower to print True if\n",
    "#the_string is all lower case, False if it is not. However,\n",
    "#if the_string isn't actually a string, this would instead\n",
    "#cause an AttributeError. Catch that error and instead\n",
    "#print the message \"Only strings can be lowercase!\".\n",
    "#\n",
    "#Note that you may not use any conditionals in your answer.\n",
    "#Note also that you should not assume that every error that\n",
    "#occurs is an attribute error: any other errors should not\n",
    "#be caught.\n",
    "\n",
    "\n",
    "#Add your code here!\n",
    "try:\n",
    "    print(the_string.islower())\n",
    "except AttributeError:\n",
    "    print(\"Only strings can be lowercase!\")"
   ]
  }
 ],
 "metadata": {
  "kernelspec": {
   "display_name": ".venv",
   "language": "python",
   "name": "python3"
  },
  "language_info": {
   "codemirror_mode": {
    "name": "ipython",
    "version": 3
   },
   "file_extension": ".py",
   "mimetype": "text/x-python",
   "name": "python",
   "nbconvert_exporter": "python",
   "pygments_lexer": "ipython3",
   "version": "3.11.1"
  },
  "orig_nbformat": 4,
  "vscode": {
   "interpreter": {
    "hash": "b8ed45f46ae93313bdeaf6b364e024d47ad211eeeeeeec96ed3b577ee8c481c6"
   }
  }
 },
 "nbformat": 4,
 "nbformat_minor": 2
}
