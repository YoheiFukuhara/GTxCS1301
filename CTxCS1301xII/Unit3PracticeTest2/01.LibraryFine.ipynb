{
 "cells": [
  {
   "cell_type": "code",
   "execution_count": 2,
   "metadata": {},
   "outputs": [
    {
     "name": "stdout",
     "output_type": "stream",
     "text": [
      "$40\n"
     ]
    }
   ],
   "source": [
    "days_late = 15\n",
    "in_demand = True\n",
    "\n",
    "#You may modify the lines of code above, but don't move them!\n",
    "#When you Submit your code, we'll change these lines to\n",
    "#assign different values to the variables.\n",
    "\n",
    "#Write a conditional that decides the amount of a library fine\n",
    "#based on an overdue book. The fine is 1 dollar per day late\n",
    "#for the first 10 days, and 2 dollars per day for every day\n",
    "#after that. If the book is considered an \"in demand\" book,\n",
    "#the fine is doubled.\n",
    "#\n",
    "#Print the cost of the library fine, including a dollar sign.\n",
    "#If the book is not late, print $0.\n",
    "#\n",
    "#Under the original values above, this should print $40:\n",
    "#$10 for the first 10 days late, $10 for the next 5 days late,\n",
    "#and doubled because the book is in demand.\n",
    "\n",
    "\n",
    "#Add your code here! Make sure to print the dollar sign, too.\n",
    "fine = min(days_late, 10) + max(days_late - 10, 0) * 2\n",
    "print(f\"${fine*(in_demand+1)}\")"
   ]
  }
 ],
 "metadata": {
  "kernelspec": {
   "display_name": ".venv",
   "language": "python",
   "name": "python3"
  },
  "language_info": {
   "codemirror_mode": {
    "name": "ipython",
    "version": 3
   },
   "file_extension": ".py",
   "mimetype": "text/x-python",
   "name": "python",
   "nbconvert_exporter": "python",
   "pygments_lexer": "ipython3",
   "version": "3.11.1"
  },
  "orig_nbformat": 4,
  "vscode": {
   "interpreter": {
    "hash": "b8ed45f46ae93313bdeaf6b364e024d47ad211eeeeeeec96ed3b577ee8c481c6"
   }
  }
 },
 "nbformat": 4,
 "nbformat_minor": 2
}
