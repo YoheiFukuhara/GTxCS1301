{
 "cells": [
  {
   "cell_type": "code",
   "execution_count": 1,
   "metadata": {},
   "outputs": [
    {
     "name": "stdout",
     "output_type": "stream",
     "text": [
      "10.7\n",
      "5.7\n"
     ]
    }
   ],
   "source": [
    "#Write a function called find_final_price. find_final_price\n",
    "#should have two positional parameters: a price and a sales\n",
    "#tax rate. It should also have a keyword parameter called\n",
    "#coupon_code, with a default value of 0.\n",
    "#\n",
    "#find_final_price should return the final price of the item,\n",
    "#which is the initial price plus the sales tax (price times\n",
    "#tax rate) minus the coupon code.\n",
    "#\n",
    "#Round the final answer to two decimal places. You can do\n",
    "#that with final_price = round(previous_price, 2).\n",
    "\n",
    "\n",
    "#Add your code here!\n",
    "def find_final_price(price, sales_tax, coupon_code=0):\n",
    "    return round(price * (1 + sales_tax) - coupon_code, 2)\n",
    "\n",
    "#Below are some lines of code that will test your function.\n",
    "#You can change the value of the variable(s) to test your\n",
    "#function with different inputs.\n",
    "#\n",
    "#If your function works correctly, this will originally\n",
    "#print:\n",
    "#10.70\n",
    "#5.70\n",
    "print(find_final_price(10.0, 0.07))\n",
    "print(find_final_price(10.0, 0.07, coupon_code = 5.0))"
   ]
  }
 ],
 "metadata": {
  "kernelspec": {
   "display_name": ".venv",
   "language": "python",
   "name": "python3"
  },
  "language_info": {
   "codemirror_mode": {
    "name": "ipython",
    "version": 3
   },
   "file_extension": ".py",
   "mimetype": "text/x-python",
   "name": "python",
   "nbconvert_exporter": "python",
   "pygments_lexer": "ipython3",
   "version": "3.11.1"
  },
  "orig_nbformat": 4,
  "vscode": {
   "interpreter": {
    "hash": "b8ed45f46ae93313bdeaf6b364e024d47ad211eeeeeeec96ed3b577ee8c481c6"
   }
  }
 },
 "nbformat": 4,
 "nbformat_minor": 2
}
