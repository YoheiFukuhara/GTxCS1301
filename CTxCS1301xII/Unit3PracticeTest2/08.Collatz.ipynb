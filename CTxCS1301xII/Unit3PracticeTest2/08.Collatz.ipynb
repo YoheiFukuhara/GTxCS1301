{
 "cells": [
  {
   "cell_type": "code",
   "execution_count": 1,
   "metadata": {},
   "outputs": [
    {
     "name": "stdout",
     "output_type": "stream",
     "text": [
      "5\n",
      "17\n",
      "23\n"
     ]
    }
   ],
   "source": [
    "#The Collatz Conjecture is a famous sequence in mathematics\n",
    "#proposed by Lothar Collatz. It proceeds as follows:\n",
    "#\n",
    "#Start with any number. If the number is even, divide it by\n",
    "#2. If the number is odd, triple it and add one. Repeat.\n",
    "#Eventually, no matter what number you begin with, this\n",
    "#sequence will converge on 1 (and if you continue repeating\n",
    "#it, you'll repeat 1-4-2 infinitely).\n",
    "#\n",
    "#For example, imagine we started with the number 21:\n",
    "#5 is odd, so 5 * 3 + 1 = 16\n",
    "#16 is even, so 16 / 2 = 8\n",
    "#8 is even, so 8 / 2 = 4\n",
    "#4 is even, so 4 / 2 = 2\n",
    "#2 is even, so 2 / 1 = 1\n",
    "#\n",
    "#Starting with 5, this sequence converges on 1 in 5\n",
    "#iterations: 5 to 16, 16 to 8, 8 to 4, 4 to 2, and 2 to 1.\n",
    "#\n",
    "#Implement a function called collatz. collatz should take\n",
    "#as input an integer, and return the number of iterations\n",
    "#it takes for the Collatz sequence to reach 1 from that\n",
    "#number. For example, collatz(5) would return 5 because\n",
    "#it took 5 iterations to converge on 1.\n",
    "\n",
    "\n",
    "#Add your code here!\n",
    "def collatz(num):\n",
    "    iteration = 0\n",
    "    while num > 1:\n",
    "        iteration += 1\n",
    "        if num % 2 == 0:\n",
    "            num /= 2\n",
    "        else:\n",
    "            num = num * 3 + 1\n",
    "    return iteration\n",
    "    \n",
    "#Below are some lines of code that will test your function.\n",
    "#You can change the value of the variable(s) to test your\n",
    "#function with different inputs.\n",
    "#\n",
    "#If your function works correctly, this will originally\n",
    "#print: 5, 17, and 23, each on their own lines.\n",
    "print(collatz(5))\n",
    "print(collatz(15))\n",
    "print(collatz(25))"
   ]
  }
 ],
 "metadata": {
  "kernelspec": {
   "display_name": ".venv",
   "language": "python",
   "name": "python3"
  },
  "language_info": {
   "codemirror_mode": {
    "name": "ipython",
    "version": 3
   },
   "file_extension": ".py",
   "mimetype": "text/x-python",
   "name": "python",
   "nbconvert_exporter": "python",
   "pygments_lexer": "ipython3",
   "version": "3.11.1"
  },
  "orig_nbformat": 4,
  "vscode": {
   "interpreter": {
    "hash": "b8ed45f46ae93313bdeaf6b364e024d47ad211eeeeeeec96ed3b577ee8c481c6"
   }
  }
 },
 "nbformat": 4,
 "nbformat_minor": 2
}
