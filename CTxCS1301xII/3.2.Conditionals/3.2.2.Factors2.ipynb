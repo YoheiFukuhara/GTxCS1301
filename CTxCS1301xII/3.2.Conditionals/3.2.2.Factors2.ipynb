{
 "cells": [
  {
   "cell_type": "code",
   "execution_count": 1,
   "metadata": {},
   "outputs": [
    {
     "name": "stdout",
     "output_type": "stream",
     "text": [
      "Factors!\n"
     ]
    }
   ],
   "source": [
    "mystery_int_1 = 15\n",
    "mystery_int_2 = 5\n",
    "\n",
    "#You may modify the lines of code above, but don't move them!\n",
    "#When you Submit your code, we'll change these lines to\n",
    "#assign different values to the variables.\n",
    "\n",
    "#Remember the code we wrote in the last exercise? Let's\n",
    "#modify it!\n",
    "#\n",
    "#Previously, you printed \"Factors!\" if one factor was a\n",
    "#factor of the other. Now, add to that code: you should still\n",
    "#print \"Factors!\" if one number is a factor of the other, but\n",
    "#also print \"Not factors :(\" if neither number is a factor of\n",
    "#the other.\n",
    "\n",
    "\n",
    "#Add your code here! You can feel free to copy/paste your\n",
    "#code or the exemplary answer from last exercise.\n",
    "if (mystery_int_1 % mystery_int_2) == 0 or (mystery_int_2 % mystery_int_1) == 0:\n",
    "    print(\"Factors!\")\n",
    "else:\n",
    "    print(\"Not factors :(\")"
   ]
  }
 ],
 "metadata": {
  "kernelspec": {
   "display_name": ".venv",
   "language": "python",
   "name": "python3"
  },
  "language_info": {
   "codemirror_mode": {
    "name": "ipython",
    "version": 3
   },
   "file_extension": ".py",
   "mimetype": "text/x-python",
   "name": "python",
   "nbconvert_exporter": "python",
   "pygments_lexer": "ipython3",
   "version": "3.11.1"
  },
  "orig_nbformat": 4,
  "vscode": {
   "interpreter": {
    "hash": "b8ed45f46ae93313bdeaf6b364e024d47ad211eeeeeeec96ed3b577ee8c481c6"
   }
  }
 },
 "nbformat": 4,
 "nbformat_minor": 2
}
