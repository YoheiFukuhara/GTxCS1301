{
 "cells": [
  {
   "cell_type": "code",
   "execution_count": 1,
   "metadata": {},
   "outputs": [
    {
     "name": "stdout",
     "output_type": "stream",
     "text": [
      "I love ZZ Top!\n"
     ]
    }
   ],
   "source": [
    "mystery_string = \"zizazzle\"\n",
    "\n",
    "#You may modify the lines of code above, but don't move them!\n",
    "#When you Submit your code, we'll change these lines to\n",
    "#assign different values to the variables.\n",
    "\n",
    "#The variable above creates a string. Add some code below\n",
    "#that will print based on the maximum number of consecutive\n",
    "#z's in the string:\n",
    "#\n",
    "# - If z appears three or more times in a row, print \"I'm sleepy...\"\n",
    "# - If z appears two times in a row, print \"I love ZZ Top!\"\n",
    "# - If z appears once, print \"One is the loneliest number.\"\n",
    "# - If z does not appear, print \"Who needs z anyway?\"\n",
    "#\n",
    "#The message you print should correspond to the most\n",
    "#consecutive z's: in the original value of mystery_string,\n",
    "#for example, you'd print \"I love ZZ Top!\" because there are\n",
    "#two consecutive z's, even though there are also some\n",
    "#individual z's.\n",
    "#\n",
    "#Ignore upper-case z's -- only look for lower-case z's.\n",
    "#\n",
    "#Hint: Remember the 'in' operator! It returns true if the\n",
    "#first string is found within the second string. For example,\n",
    "#\"bog\" in \"boggle\" would return True, but \"bog\" in \"artemis\"\n",
    "#would return False.\n",
    "\n",
    "\n",
    "#Add your code here!\n",
    "if \"zzz\" in mystery_string:\n",
    "    print(\"I'm sleepy...\")\n",
    "elif \"zz\" in mystery_string:\n",
    "    print(\"I love ZZ Top!\")\n",
    "elif \"z\" in mystery_string:\n",
    "    print(\"One is the loneliest number.\")\n",
    "else:\n",
    "    print(\"Who needs z anyway?\")"
   ]
  }
 ],
 "metadata": {
  "kernelspec": {
   "display_name": ".venv",
   "language": "python",
   "name": "python3"
  },
  "language_info": {
   "codemirror_mode": {
    "name": "ipython",
    "version": 3
   },
   "file_extension": ".py",
   "mimetype": "text/x-python",
   "name": "python",
   "nbconvert_exporter": "python",
   "pygments_lexer": "ipython3",
   "version": "3.11.1"
  },
  "orig_nbformat": 4,
  "vscode": {
   "interpreter": {
    "hash": "b8ed45f46ae93313bdeaf6b364e024d47ad211eeeeeeec96ed3b577ee8c481c6"
   }
  }
 },
 "nbformat": 4,
 "nbformat_minor": 2
}
