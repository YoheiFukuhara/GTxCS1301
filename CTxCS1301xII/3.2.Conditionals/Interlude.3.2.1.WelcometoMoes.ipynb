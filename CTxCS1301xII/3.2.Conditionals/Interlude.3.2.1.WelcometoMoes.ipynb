{
 "cells": [
  {
   "cell_type": "code",
   "execution_count": 1,
   "metadata": {},
   "outputs": [
    {
     "name": "stdout",
     "output_type": "stream",
     "text": [
      "5.5\n"
     ]
    }
   ],
   "source": [
    "steak = False\n",
    "pork = True\n",
    "guacamole = False\n",
    "queso = False\n",
    "\n",
    "#You may modify the lines of code above, but don't move them!\n",
    "#When you Submit your code, we'll change these lines to\n",
    "#assign different values to the variables.\n",
    "#\n",
    "#Imagine you're writing code for a cash register at a\n",
    "#restaurant. This restaurant serves burritoes. The base price\n",
    "#of a burrito is $5. If the customer wants steak or pork, it\n",
    "#adds $0.50. If they want quacamole, it adds $1.00. If they\n",
    "#want queso, it adds $1.00. The customer may only select one\n",
    "#meat, but they may have both queso and guacamole, neither,\n",
    "#or just one.\n",
    "#\n",
    "#Write some code below that will print the cost of the\n",
    "#burrito based on the variables above. You do not need to\n",
    "#print the dollar sign or extra 0s. Remember, your final answer\n",
    "#should only print out the price: comment out any debug\n",
    "#statements once you have the right answer.\n",
    "\n",
    "price = 5.00\n",
    "if steak or pork:\n",
    "#    print(\"Adding 0.50 for steak or pork!\")\n",
    "    price += 0.50\n",
    "if guacamole:\n",
    "#    print(\"Adding 1.00 for guacamole!\")\n",
    "    price += 1.00\n",
    "if queso:\n",
    "#    print(\"Adding 1.00 for queso!\")\n",
    "    price += 1.00\n",
    "\n",
    "print(price)"
   ]
  }
 ],
 "metadata": {
  "kernelspec": {
   "display_name": ".venv",
   "language": "python",
   "name": "python3"
  },
  "language_info": {
   "codemirror_mode": {
    "name": "ipython",
    "version": 3
   },
   "file_extension": ".py",
   "mimetype": "text/x-python",
   "name": "python",
   "nbconvert_exporter": "python",
   "pygments_lexer": "ipython3",
   "version": "3.11.1"
  },
  "orig_nbformat": 4,
  "vscode": {
   "interpreter": {
    "hash": "b8ed45f46ae93313bdeaf6b364e024d47ad211eeeeeeec96ed3b577ee8c481c6"
   }
  }
 },
 "nbformat": 4,
 "nbformat_minor": 2
}
