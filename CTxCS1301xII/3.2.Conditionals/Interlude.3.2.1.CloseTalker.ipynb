{
 "cells": [
  {
   "cell_type": "code",
   "execution_count": 1,
   "metadata": {},
   "outputs": [
    {
     "name": "stdout",
     "output_type": "stream",
     "text": [
      "4.5\n"
     ]
    }
   ],
   "source": [
    "item = \"quesadilla\"\n",
    "meat = \"steak\"\n",
    "queso = False\n",
    "guacamole = False\n",
    "double_meat = False\n",
    "\n",
    "\n",
    "#-----------------------------------------------------------\n",
    "#You may modify the lines of code above, but don't move them!\n",
    "#When you Submit your code, we'll change these lines to\n",
    "#assign different values to the variables.\n",
    "#\n",
    "#Let's further expand our previous program to cover a broader\n",
    "#menu variety. Instead of just burritoes, now the program\n",
    "#should cover three menu items: quesadillas, burritoes, and\n",
    "#nachos. Instead of separate booleans for steak and pork,\n",
    "#we instead have a string that could be \"steak\", \"pork\",\n",
    "#\"chicken\", \"tofu\", and \"beef\". We still have booleans for\n",
    "#queso and guacamole, but we also have a boolean for double\n",
    "#meat.\n",
    "#\n",
    "#Your code should calculate the price as follows:\n",
    "#\n",
    "# - The base price for a quesadilla is 4.00, for nachos is\n",
    "#   4.50, and for burritoes is 5.00.\n",
    "# - If meat is steak or pork, add 0.50. Any other meat adds\n",
    "#   no money to the price.\n",
    "# - guacamole always adds 1.00 to the price.\n",
    "# - queso adds 1.00 to the price UNLESS the item is nachos,\n",
    "#   in which case it adds nothing.\n",
    "# - double_meat adds 1.50 if the meat is steak or pork, or\n",
    "#   1.00 otherwise.\n",
    "\n",
    "\n",
    "base_price = 4.5  #nachos\n",
    "if item == \"quesadilla\":\n",
    "    base_price = 4.0\n",
    "elif item == \"burrito\":\n",
    "    base_price = 5.0\n",
    "    \n",
    "if meat == \"steak\" or meat ==\"pork\":\n",
    "    base_price += 0.50\n",
    "    if double_meat:\n",
    "        base_price += 1.50\n",
    "elif double_meat:\n",
    "    base_price += 1.0\n",
    "\n",
    "if guacamole:\n",
    "    base_price += 1.0\n",
    "\n",
    "if queso and not item==\"nachos\":\n",
    "    base_price += 1.0\n",
    "    \n",
    "print(base_price)"
   ]
  }
 ],
 "metadata": {
  "kernelspec": {
   "display_name": ".venv",
   "language": "python",
   "name": "python3"
  },
  "language_info": {
   "codemirror_mode": {
    "name": "ipython",
    "version": 3
   },
   "file_extension": ".py",
   "mimetype": "text/x-python",
   "name": "python",
   "nbconvert_exporter": "python",
   "pygments_lexer": "ipython3",
   "version": "3.11.1 (main, Dec 25 2022, 14:08:23) [Clang 14.0.0 (clang-1400.0.29.202)]"
  },
  "orig_nbformat": 4,
  "vscode": {
   "interpreter": {
    "hash": "b8ed45f46ae93313bdeaf6b364e024d47ad211eeeeeeec96ed3b577ee8c481c6"
   }
  }
 },
 "nbformat": 4,
 "nbformat_minor": 2
}
