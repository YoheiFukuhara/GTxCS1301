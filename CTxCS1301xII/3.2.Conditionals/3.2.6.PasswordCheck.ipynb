{
 "cells": [
  {
   "cell_type": "code",
   "execution_count": 2,
   "metadata": {},
   "outputs": [
    {
     "name": "stdout",
     "output_type": "stream",
     "text": [
      "Login successful.\n"
     ]
    }
   ],
   "source": [
    "entered = \"abc123\"\n",
    "password = \"abc123\"\n",
    "tries = 3\n",
    "\n",
    "#You may modify the lines of code above, but don't move them!\n",
    "#When you Submit your code, we'll change these lines to\n",
    "#assign different values to the variables.\n",
    "\n",
    "#Above we've created three variables representing an attempt\n",
    "#to enter a password. Add some code below that will print the\n",
    "#result of this check:\n",
    "#\n",
    "# - \"Login successful.\" if entered is the same as password\n",
    "#   and tries is less than or equal to 3.\n",
    "# - \"Incorrect password.\" if entered is not the same as \n",
    "#   password, but tries is less than or equal to 3.\n",
    "# - \"Tries exceeded.\" if tries is greater than 3.\n",
    "#\n",
    "#You don't need to worry about incrementing tries if the\n",
    "#password is incorrect.\n",
    "\n",
    "\n",
    "#Add your code here!\n",
    "if tries > 3:\n",
    "    print(\"Tries exceeded.\")\n",
    "else:\n",
    "    if entered == password:\n",
    "        print(\"Login successful.\")\n",
    "    else:\n",
    "        print(\"Incorrect password.\")"
   ]
  }
 ],
 "metadata": {
  "kernelspec": {
   "display_name": ".venv",
   "language": "python",
   "name": "python3"
  },
  "language_info": {
   "codemirror_mode": {
    "name": "ipython",
    "version": 3
   },
   "file_extension": ".py",
   "mimetype": "text/x-python",
   "name": "python",
   "nbconvert_exporter": "python",
   "pygments_lexer": "ipython3",
   "version": "3.11.1"
  },
  "orig_nbformat": 4,
  "vscode": {
   "interpreter": {
    "hash": "b8ed45f46ae93313bdeaf6b364e024d47ad211eeeeeeec96ed3b577ee8c481c6"
   }
  }
 },
 "nbformat": 4,
 "nbformat_minor": 2
}
