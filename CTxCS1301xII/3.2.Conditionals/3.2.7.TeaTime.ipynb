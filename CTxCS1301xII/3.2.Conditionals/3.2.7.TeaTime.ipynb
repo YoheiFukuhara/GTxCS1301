{
 "cells": [
  {
   "cell_type": "code",
   "execution_count": 2,
   "metadata": {},
   "outputs": [
    {
     "name": "stdout",
     "output_type": "stream",
     "text": [
      "None\n",
      "free\n"
     ]
    }
   ],
   "source": [
    "mood = \"impatient\"\n",
    "\n",
    "#You may modify the lines of code above, but don't move them!\n",
    "#When you Submit your code, we'll change these lines to\n",
    "#assign different values to the variables.\n",
    "\n",
    "#We've written some code below that prints out what kind of\n",
    "#tea we want to  buy based on our mood. The code has an error,\n",
    "#though. Rewrite the code so that it runs with the correct\n",
    "#output.\n",
    "#\n",
    "#The correct output if mood is one of the expected moods\n",
    "#(sad, anxious, tired) is the name of the tea and the cost.\n",
    "#The correct output if mood is not one of the expected moods\n",
    "#is None and \"free\".\n",
    "#\n",
    "#Hint: this is a scope problem!\n",
    "\n",
    "cost = \"free\"\n",
    "tea = None\n",
    "if mood == \"sad\":\n",
    "    tea = \"oolong\"\n",
    "    cost = 3.99\n",
    "elif mood == \"anxious\":\n",
    "    tea = \"green tea\"\n",
    "    cost = 5.45\n",
    "elif mood == \"tired\":\n",
    "    tea = \"english breakfast\"\n",
    "    cost = 4.35\n",
    "\n",
    "print(tea)\n",
    "print(cost)"
   ]
  }
 ],
 "metadata": {
  "kernelspec": {
   "display_name": ".venv",
   "language": "python",
   "name": "python3"
  },
  "language_info": {
   "codemirror_mode": {
    "name": "ipython",
    "version": 3
   },
   "file_extension": ".py",
   "mimetype": "text/x-python",
   "name": "python",
   "nbconvert_exporter": "python",
   "pygments_lexer": "ipython3",
   "version": "3.11.1"
  },
  "orig_nbformat": 4,
  "vscode": {
   "interpreter": {
    "hash": "b8ed45f46ae93313bdeaf6b364e024d47ad211eeeeeeec96ed3b577ee8c481c6"
   }
  }
 },
 "nbformat": 4,
 "nbformat_minor": 2
}
