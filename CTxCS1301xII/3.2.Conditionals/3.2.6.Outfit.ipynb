{
 "cells": [
  {
   "cell_type": "code",
   "execution_count": 1,
   "metadata": {},
   "outputs": [
    {
     "name": "stdout",
     "output_type": "stream",
     "text": [
      "Wear a hat!\n"
     ]
    }
   ],
   "source": [
    "sunny = True\n",
    "windy = False\n",
    "\n",
    "#You may modify the lines of code above, but don't move them!\n",
    "#When you Submit your code, we'll change these lines to\n",
    "#assign different values to the variables.\n",
    "\n",
    "#Below, we've gone ahead and written some code that uses a\n",
    "#conditional to print a message based on the variables above.\n",
    "#Revise this code so that it uses nested conditionals instead\n",
    "#of the 'and' operator. There should be _no_ instances of the\n",
    "#'and' reserved word in your code, but it should behave the\n",
    "#same as it did originally.\n",
    "\n",
    "if sunny:\n",
    "    if not windy:\n",
    "        print(\"Wear a hat!\")\n",
    "\n",
    "# sunny の条件分岐をまとめると課題としてNG(PythonとしてはOK)\n",
    "if sunny:\n",
    "    if windy:\n",
    "        print(\"Enjoy the breeze!\")"
   ]
  }
 ],
 "metadata": {
  "kernelspec": {
   "display_name": ".venv",
   "language": "python",
   "name": "python3"
  },
  "language_info": {
   "codemirror_mode": {
    "name": "ipython",
    "version": 3
   },
   "file_extension": ".py",
   "mimetype": "text/x-python",
   "name": "python",
   "nbconvert_exporter": "python",
   "pygments_lexer": "ipython3",
   "version": "3.11.1"
  },
  "orig_nbformat": 4,
  "vscode": {
   "interpreter": {
    "hash": "b8ed45f46ae93313bdeaf6b364e024d47ad211eeeeeeec96ed3b577ee8c481c6"
   }
  }
 },
 "nbformat": 4,
 "nbformat_minor": 2
}
