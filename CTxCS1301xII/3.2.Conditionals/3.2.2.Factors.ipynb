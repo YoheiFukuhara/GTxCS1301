{
 "cells": [
  {
   "cell_type": "code",
   "execution_count": 1,
   "metadata": {},
   "outputs": [
    {
     "name": "stdout",
     "output_type": "stream",
     "text": [
      "Factors!\n"
     ]
    }
   ],
   "source": [
    "mystery_int_1 = 15\n",
    "mystery_int_2 = 5\n",
    "\n",
    "#You may modify the lines of code above, but don't move them!\n",
    "#When you Submit your code, we'll change these lines to\n",
    "#assign different values to the variables.\n",
    "\n",
    "#The variables below hold two integers, mystery_int_1 and\n",
    "#mystery_int_2. Complete this program below such that it\n",
    "#prints \"Factors!\" if either of the numbers is a factor of\n",
    "#the other. If neither number is a factor of the other,\n",
    "#do not print anything.\n",
    "#\n",
    "#Hint: You can do this with just one conditional statement\n",
    "#by using the logical expressions we learned earlier (and,\n",
    "#or, and not). You'll also use the modulus operator we\n",
    "#learned in Chapter 2.4.\n",
    "\n",
    "\n",
    "#Add your code here!\n",
    "if (mystery_int_1 % mystery_int_2) == 0 or (mystery_int_2 % mystery_int_1) == 0:\n",
    "    print(\"Factors!\")"
   ]
  }
 ],
 "metadata": {
  "kernelspec": {
   "display_name": ".venv",
   "language": "python",
   "name": "python3"
  },
  "language_info": {
   "codemirror_mode": {
    "name": "ipython",
    "version": 3
   },
   "file_extension": ".py",
   "mimetype": "text/x-python",
   "name": "python",
   "nbconvert_exporter": "python",
   "pygments_lexer": "ipython3",
   "version": "3.11.1 (main, Dec 25 2022, 14:08:23) [Clang 14.0.0 (clang-1400.0.29.202)]"
  },
  "orig_nbformat": 4,
  "vscode": {
   "interpreter": {
    "hash": "b8ed45f46ae93313bdeaf6b364e024d47ad211eeeeeeec96ed3b577ee8c481c6"
   }
  }
 },
 "nbformat": 4,
 "nbformat_minor": 2
}
