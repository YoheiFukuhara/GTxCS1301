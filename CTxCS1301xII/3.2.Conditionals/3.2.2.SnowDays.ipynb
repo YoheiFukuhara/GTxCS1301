{
 "cells": [
  {
   "cell_type": "code",
   "execution_count": 1,
   "metadata": {},
   "outputs": [
    {
     "name": "stdout",
     "output_type": "stream",
     "text": [
      "School is cancelled!\n"
     ]
    }
   ],
   "source": [
    "mystery_state = \"Georgia\"\n",
    "\n",
    "#You may modify the lines of code above, but don't move them!\n",
    "#When you Submit your code, we'll change these lines to\n",
    "#assign different values to the variables.\n",
    "\n",
    "#It's snowing!\n",
    "#\n",
    "#The variable above holds the name of the state that you're\n",
    "#in (hypothetically). Complete the code below so that it\n",
    "#prints the following messages depending on what state you're\n",
    "#in:\n",
    "#\n",
    "# - \"School isn't cancelled.\" if we're in New Jersey\n",
    "# - \"School is postponed.\" if we're in North Carolina\n",
    "# - \"School is cancelled!\" if we're in Georgia\n",
    "# - \"idk wear a sweater\" if we're in any other state (or if\n",
    "#   the value doesn't represent a valid state).\n",
    "\n",
    "\n",
    "#Add your code here!\n",
    "if mystery_state == \"New Jersey\":\n",
    "    print(\"School isn't cancelled.\")\n",
    "elif mystery_state == \"North Carolina\":\n",
    "    print(\"School is postponed.\")\n",
    "elif mystery_state == \"Georgia\":\n",
    "    print(\"School is cancelled!\")\n",
    "else:\n",
    "    print(\"idk wear a sweater\")"
   ]
  }
 ],
 "metadata": {
  "kernelspec": {
   "display_name": ".venv",
   "language": "python",
   "name": "python3"
  },
  "language_info": {
   "codemirror_mode": {
    "name": "ipython",
    "version": 3
   },
   "file_extension": ".py",
   "mimetype": "text/x-python",
   "name": "python",
   "nbconvert_exporter": "python",
   "pygments_lexer": "ipython3",
   "version": "3.11.1"
  },
  "orig_nbformat": 4,
  "vscode": {
   "interpreter": {
    "hash": "b8ed45f46ae93313bdeaf6b364e024d47ad211eeeeeeec96ed3b577ee8c481c6"
   }
  }
 },
 "nbformat": 4,
 "nbformat_minor": 2
}
