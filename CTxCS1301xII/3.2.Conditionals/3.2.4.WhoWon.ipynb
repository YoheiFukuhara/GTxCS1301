{
 "cells": [
  {
   "cell_type": "code",
   "execution_count": 1,
   "metadata": {},
   "outputs": [
    {
     "name": "stdout",
     "output_type": "stream",
     "text": [
      "Georgia Tech beat Georgia by 1\n"
     ]
    }
   ],
   "source": [
    "team_1 = \"Georgia Tech\"\n",
    "team_1_score = 28\n",
    "team_2 = \"Georgia\"\n",
    "team_2_score = 27\n",
    "\n",
    "#You may modify the lines of code above, but don't move them!\n",
    "#When you Submit your code, we'll change these lines to\n",
    "#assign different values to the variables.\n",
    "\n",
    "#Above we've created four variables: two team names and two\n",
    "#scores. A team wins if their score is greater than the other\n",
    "#team's score.\n",
    "#\n",
    "#Add to the code below. To print a messages like these\n",
    "#depending on the values:\n",
    "#\n",
    "# - If one team beat the other, print:\n",
    "#     \"[winner] beat [loser] by [margin]\"\n",
    "# - If neither team won, print:\n",
    "#     \"[team_1] played [team_2] and it was a tie\"\n",
    "#\n",
    "#For example, with the original values in this code, you\n",
    "#should print \"Georgia Tech beat Georgia by 1\"\n",
    "#\n",
    "#Hint: to make this easier, create three variables: winner,\n",
    "#loser, and margin. Then, find their values before worrying\n",
    "#about printing the final message.\n",
    "\n",
    "\n",
    "#Add your code here!\n",
    "if team_1_score < team_2_score:\n",
    "    print(f\"{team_2} beat {team_1} by {team_2_score - team_1_score}\")\n",
    "elif team_2_score < team_1_score:\n",
    "    print(f\"{team_1} beat {team_2} by {team_1_score - team_2_score}\")\n",
    "else:    \n",
    "    print(f\"{team_1} played {team_2} and it was a tie\")"
   ]
  }
 ],
 "metadata": {
  "kernelspec": {
   "display_name": ".venv",
   "language": "python",
   "name": "python3"
  },
  "language_info": {
   "codemirror_mode": {
    "name": "ipython",
    "version": 3
   },
   "file_extension": ".py",
   "mimetype": "text/x-python",
   "name": "python",
   "nbconvert_exporter": "python",
   "pygments_lexer": "ipython3",
   "version": "3.11.1"
  },
  "orig_nbformat": 4,
  "vscode": {
   "interpreter": {
    "hash": "b8ed45f46ae93313bdeaf6b364e024d47ad211eeeeeeec96ed3b577ee8c481c6"
   }
  }
 },
 "nbformat": 4,
 "nbformat_minor": 2
}
