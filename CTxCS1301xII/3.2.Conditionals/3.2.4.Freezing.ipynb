{
 "cells": [
  {
   "cell_type": "code",
   "execution_count": 1,
   "metadata": {},
   "outputs": [
    {
     "name": "stdout",
     "output_type": "stream",
     "text": [
      "Freezing\n"
     ]
    }
   ],
   "source": [
    "temperature = -3.7\n",
    "celsius = True\n",
    "\n",
    "#You may modify the lines of code above, but don't move them!\n",
    "#When you Submit your code, we'll change these lines to\n",
    "#assign different values to the variables.\n",
    "\n",
    "#Above are given two variables. temperature is a float that\n",
    "#holds a temperature. celsius is a boolean that represents\n",
    "#whether the temperature is in Celsius; if it's False, then\n",
    "#the given temperature is actually in Fahrenheit.\n",
    "#\n",
    "#Add some code below that prints \"Freezing\" if the values\n",
    "#above represent a freezing temperature, and \"Not freezing\"\n",
    "#if they don't.\n",
    "#\n",
    "#In Celsius, freezing is less than or equal to 0 degrees.\n",
    "#In Fahrenheit, freezing is less than or equal to 32 degrees.\n",
    "\n",
    "\n",
    "#Add your code here!\n",
    "if (celsius and temperature <= 0) or (not celsius and temperature <= 32):\n",
    "    print(\"Freezing\")\n",
    "else:\n",
    "    print(\"Not freezing\")"
   ]
  }
 ],
 "metadata": {
  "kernelspec": {
   "display_name": ".venv",
   "language": "python",
   "name": "python3"
  },
  "language_info": {
   "codemirror_mode": {
    "name": "ipython",
    "version": 3
   },
   "file_extension": ".py",
   "mimetype": "text/x-python",
   "name": "python",
   "nbconvert_exporter": "python",
   "pygments_lexer": "ipython3",
   "version": "3.11.1"
  },
  "orig_nbformat": 4,
  "vscode": {
   "interpreter": {
    "hash": "b8ed45f46ae93313bdeaf6b364e024d47ad211eeeeeeec96ed3b577ee8c481c6"
   }
  }
 },
 "nbformat": 4,
 "nbformat_minor": 2
}
