{
 "cells": [
  {
   "cell_type": "code",
   "execution_count": 2,
   "metadata": {},
   "outputs": [
    {
     "name": "stdout",
     "output_type": "stream",
     "text": [
      "6\n",
      "8\n",
      "10\n",
      "12\n",
      "14\n"
     ]
    }
   ],
   "source": [
    "minimum = 5\n",
    "maximum = 14\n",
    "even = True\n",
    "\n",
    "#You may modify the lines of code above, but don't move them!\n",
    "#When you Submit your code, we'll change these lines to\n",
    "#assign different values to the variables.\n",
    "#\n",
    "#Write a loop (we suggest a for loop) that prints the numbers\n",
    "#from minimum to maximum, including minimum and maximum\n",
    "#themselves. If even is True, print only the even numbers.\n",
    "#If even is False, print only the odd numbers. You may assume\n",
    "#minimum will always be less than maximum.\n",
    "#\n",
    "#With the initial values for minimum, maximum, and even above,\n",
    "#this should print 6, 8, 10, 12, 14 -- each number would be on\n",
    "#its own line, no commas.\n",
    "\n",
    "\n",
    "#Add your code here!\n",
    "for i in range(minimum, maximum+1):\n",
    "    if even and i % 2 == 0:\n",
    "        print(i)\n",
    "    elif not even and i % 2 == 1:\n",
    "        print(i)"
   ]
  }
 ],
 "metadata": {
  "kernelspec": {
   "display_name": ".venv",
   "language": "python",
   "name": "python3"
  },
  "language_info": {
   "codemirror_mode": {
    "name": "ipython",
    "version": 3
   },
   "file_extension": ".py",
   "mimetype": "text/x-python",
   "name": "python",
   "nbconvert_exporter": "python",
   "pygments_lexer": "ipython3",
   "version": "3.11.1 (main, Dec 25 2022, 14:08:23) [Clang 14.0.0 (clang-1400.0.29.202)]"
  },
  "orig_nbformat": 4,
  "vscode": {
   "interpreter": {
    "hash": "b8ed45f46ae93313bdeaf6b364e024d47ad211eeeeeeec96ed3b577ee8c481c6"
   }
  }
 },
 "nbformat": 4,
 "nbformat_minor": 2
}
