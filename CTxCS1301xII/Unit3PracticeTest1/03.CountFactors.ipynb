{
 "cells": [
  {
   "cell_type": "code",
   "execution_count": 6,
   "metadata": {},
   "outputs": [
    {
     "name": "stdout",
     "output_type": "stream",
     "text": [
      "0\n",
      "2\n",
      "0\n",
      "6\n",
      "6\n"
     ]
    }
   ],
   "source": [
    "#Write a function called num_factors. num_factors should\n",
    "#have one parameter, an integer. num_factors should count\n",
    "#how many factors the number has and return that count as\n",
    "#an integer\n",
    "#\n",
    "#A number is a factor of another number if it divides\n",
    "#evenly into that number. For example, 3 is a factor of 6,\n",
    "#but 4 is not. As such, all factors will be less than the\n",
    "#number itself.\n",
    "#\n",
    "#Do not count 1 or the number itself in your factor count.\n",
    "#For example, 6 should have 2 factors: 2 and 3. Do not\n",
    "#count 1 and 6. You may assume the number will be less than\n",
    "#1000.\n",
    "\n",
    "\n",
    "#Add your code here!\n",
    "def num_factors(num):\n",
    "    result = 0\n",
    "    for i in range(2, num):\n",
    "        result += 1 if num % i == 0 else 0\n",
    "        if num // i == 1:\n",
    "            break\n",
    "    return result\n",
    "\n",
    "\n",
    "#Below are some lines of code that will test your function.\n",
    "#You can change the value of the variable(s) to test your\n",
    "#function with different inputs.\n",
    "#\n",
    "#If your function works correctly, this will originally\n",
    "#print: 0, 2, 0, 6, 6, each on their own line.\n",
    "\n",
    "print(num_factors(5))\n",
    "print(num_factors(6))\n",
    "print(num_factors(97))\n",
    "print(num_factors(105))\n",
    "print(num_factors(999))"
   ]
  }
 ],
 "metadata": {
  "kernelspec": {
   "display_name": ".venv",
   "language": "python",
   "name": "python3"
  },
  "language_info": {
   "codemirror_mode": {
    "name": "ipython",
    "version": 3
   },
   "file_extension": ".py",
   "mimetype": "text/x-python",
   "name": "python",
   "nbconvert_exporter": "python",
   "pygments_lexer": "ipython3",
   "version": "3.11.1"
  },
  "orig_nbformat": 4,
  "vscode": {
   "interpreter": {
    "hash": "b8ed45f46ae93313bdeaf6b364e024d47ad211eeeeeeec96ed3b577ee8c481c6"
   }
  }
 },
 "nbformat": 4,
 "nbformat_minor": 2
}
