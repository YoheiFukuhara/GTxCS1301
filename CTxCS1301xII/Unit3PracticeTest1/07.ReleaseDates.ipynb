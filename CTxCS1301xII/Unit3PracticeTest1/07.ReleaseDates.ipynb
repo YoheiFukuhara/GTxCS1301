{
 "cells": [
  {
   "cell_type": "code",
   "execution_count": 7,
   "metadata": {},
   "outputs": [
    {
     "name": "stdout",
     "output_type": "stream",
     "text": [
      "True\n",
      "False\n",
      "False\n"
     ]
    }
   ],
   "source": [
    "#Write a function called valid_release_date. The function\n",
    "#should have two parameters: a date and a string. The\n",
    "#string will represent a type of media release: \"Game\",\n",
    "#\"Movie\", \"Album\", \"Show\", and \"Play\".\n",
    "#\n",
    "#valid_release_date should check to see if the date is\n",
    "#a valid date to release that type of media according to\n",
    "#the following rules:\n",
    "#\n",
    "# - Albums should be released on Mondays.\n",
    "# - Games should be released on Tuesdays.\n",
    "# - Shows should be released on Wednesdays or Sundays.\n",
    "# - Movies should be released on Fridays.\n",
    "# - Plays should be released on Saturdays.\n",
    "#\n",
    "#valid_release_date should return True if the date is\n",
    "#valid, False if it's not.\n",
    "#\n",
    "#The date will be an instance of Python's date class. If\n",
    "#you have an instance of date called a_date, you can\n",
    "#access an integer representing the day of the week with\n",
    "#a_date.weekday(). a_date.weekday() will return 0 if the\n",
    "#day is Monday, 1 if it's Tuesday, 2 if it's Wednesday,\n",
    "#up to 6 if it's Sunday.\n",
    "#\n",
    "#If the type of release is not one of these strings,\n",
    "#the release date is automatically invalid, so return\n",
    "#False.\n",
    "\n",
    "from datetime import date\n",
    "\n",
    "#Write your function here!\n",
    "def valid_release_date(a_date, media):\n",
    "    rule = {\"Album\": [0], \"Game\": [1], \"Show\": [2, 6], \"Movie\": [4], \"Play\": [5]}\n",
    "    try:\n",
    "        return True if a_date.weekday() in rule.get(media) else False\n",
    "    except TypeError:\n",
    "        return False\n",
    "\n",
    "#Below are some lines of code that will test your function.\n",
    "#You can change the value of the variable(s) to test your\n",
    "#function with different inputs.\n",
    "#\n",
    "#If your function works correctly, this will originally\n",
    "#print: True, False, False, each on their own line.\n",
    "print(valid_release_date(date(2018, 7, 11), \"Show\"))\n",
    "print(valid_release_date(date(2018, 7, 11), \"Movie\"))\n",
    "print(valid_release_date(date(2018, 7, 11), \"Pancake\"))"
   ]
  }
 ],
 "metadata": {
  "kernelspec": {
   "display_name": ".venv",
   "language": "python",
   "name": "python3"
  },
  "language_info": {
   "codemirror_mode": {
    "name": "ipython",
    "version": 3
   },
   "file_extension": ".py",
   "mimetype": "text/x-python",
   "name": "python",
   "nbconvert_exporter": "python",
   "pygments_lexer": "ipython3",
   "version": "3.11.1"
  },
  "orig_nbformat": 4,
  "vscode": {
   "interpreter": {
    "hash": "b8ed45f46ae93313bdeaf6b364e024d47ad211eeeeeeec96ed3b577ee8c481c6"
   }
  }
 },
 "nbformat": 4,
 "nbformat_minor": 2
}
