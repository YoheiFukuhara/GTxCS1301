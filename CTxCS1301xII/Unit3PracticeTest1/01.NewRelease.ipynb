{
 "cells": [
  {
   "cell_type": "code",
   "execution_count": 4,
   "metadata": {},
   "outputs": [
    {
     "name": "stdout",
     "output_type": "stream",
     "text": [
      "$58\n"
     ]
    }
   ],
   "source": [
    "days_since_release = 14\n",
    "original_price = 60\n",
    "greatest_hits = True\n",
    "\n",
    "#You may modify the lines of code above, but don't move them!\n",
    "#When you Submit your code, we'll change these lines to\n",
    "#assign different values to the variables.\n",
    "\n",
    "#Write a conditional that determines the price of a\n",
    "#newly-released game, movie, or album based on the time since\n",
    "#it was released.\n",
    "#\n",
    "#Assume that a new release loses $2 off its price for every\n",
    "#full week since it was released. So, two full weeks (14 days)\n",
    "#after a $60 game is released, it will cost $56.\n",
    "#\n",
    "#However, if the release is considered a \"greatest hit\", it\n",
    "#loses value half as fast: after two weeks, it will be $58\n",
    "#instead of $56.\n",
    "#\n",
    "#No release will ever fall to below $20, however, no matter\n",
    "#how fast it loses value or whether it's a greatest hit.\n",
    "#\n",
    "#Add some code below to print the current price of the release.\n",
    "#For example, with the values above, it would pring $58.\n",
    "\n",
    "\n",
    "#Add your code here! Make sure to print the dollar sign, too.\n",
    "if greatest_hits:\n",
    "    price = original_price - (days_since_release // 7 )\n",
    "else:\n",
    "    price = original_price - (days_since_release // 7 * 2)\n",
    "print(f\"${max(price, 20)}\")"
   ]
  }
 ],
 "metadata": {
  "kernelspec": {
   "display_name": ".venv",
   "language": "python",
   "name": "python3"
  },
  "language_info": {
   "codemirror_mode": {
    "name": "ipython",
    "version": 3
   },
   "file_extension": ".py",
   "mimetype": "text/x-python",
   "name": "python",
   "nbconvert_exporter": "python",
   "pygments_lexer": "ipython3",
   "version": "3.11.1"
  },
  "orig_nbformat": 4,
  "vscode": {
   "interpreter": {
    "hash": "b8ed45f46ae93313bdeaf6b364e024d47ad211eeeeeeec96ed3b577ee8c481c6"
   }
  }
 },
 "nbformat": 4,
 "nbformat_minor": 2
}
