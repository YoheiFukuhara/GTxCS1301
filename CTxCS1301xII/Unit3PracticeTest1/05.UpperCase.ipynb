{
 "cells": [
  {
   "cell_type": "code",
   "execution_count": 1,
   "metadata": {},
   "outputs": [
    {
     "name": "stdout",
     "output_type": "stream",
     "text": [
      "I'M A RAMBLIN' WRECK\n"
     ]
    }
   ],
   "source": [
    "the_string = \"I'm a Ramblin' Wreck\"\n",
    "\n",
    "#You may modify the lines of code above, but don't move them!\n",
    "#When you Submit your code, we'll change these lines to\n",
    "#assign different values to the variables.\n",
    "#\n",
    "#Write some code that will capitalize and print the value of\n",
    "#the_string. For example, for the initial value of the_string\n",
    "#above, it should print \"I'M A RAMBLIN' WRECK\".\n",
    "#\n",
    "#You can capitalize a string by calling the_string.upper().\n",
    "#This will return a capitalized version of the string. (Note\n",
    "#that this will _not_ modified the_string, but rather just\n",
    "#return the result if it were to be capitalized.)\n",
    "#\n",
    "#However, the_string might not actually be a string! It might\n",
    "#be an integer, a float, or something else. If that happens,\n",
    "#then calling the_string.upper() will cause an AttributeError\n",
    "#to occur. Catch this error and print \"The variable was not\n",
    "#a string!\"\n",
    "#\n",
    "#Note that you may not use any conditionals in your answer.\n",
    "#Note also that you should not assume that every error that\n",
    "#occurs is an Attribute Error! Any other errors should\n",
    "#not be caught.\n",
    "\n",
    "\n",
    "#Add your code here!\n",
    "try:\n",
    "    print(the_string.upper())\n",
    "except AttributeError:\n",
    "    print(\"The variable was not a string!\")"
   ]
  }
 ],
 "metadata": {
  "kernelspec": {
   "display_name": ".venv",
   "language": "python",
   "name": "python3"
  },
  "language_info": {
   "codemirror_mode": {
    "name": "ipython",
    "version": 3
   },
   "file_extension": ".py",
   "mimetype": "text/x-python",
   "name": "python",
   "nbconvert_exporter": "python",
   "pygments_lexer": "ipython3",
   "version": "3.11.1"
  },
  "orig_nbformat": 4,
  "vscode": {
   "interpreter": {
    "hash": "b8ed45f46ae93313bdeaf6b364e024d47ad211eeeeeeec96ed3b577ee8c481c6"
   }
  }
 },
 "nbformat": 4,
 "nbformat_minor": 2
}
