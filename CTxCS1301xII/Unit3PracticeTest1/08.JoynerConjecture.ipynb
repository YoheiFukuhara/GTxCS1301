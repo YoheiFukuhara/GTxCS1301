{
 "cells": [
  {
   "cell_type": "code",
   "execution_count": 1,
   "metadata": {},
   "outputs": [
    {
     "name": "stdout",
     "output_type": "stream",
     "text": [
      "4\n",
      "5\n",
      "10\n"
     ]
    }
   ],
   "source": [
    "#The Joyner Conjecture is a not-at-all famous mathematical\n",
    "#series inspired by the Collatz Conjecture for use in this\n",
    "#class.\n",
    "#\n",
    "#The Joyner Conjecture proceeds as follows:\n",
    "#\n",
    "#Start with any number. If the number is divisible by 3,\n",
    "#divide it by 3. Otherwise, add 2 to the number. Eventually,\n",
    "#no matter what number you begin with, this series will run\n",
    "#into 1 or 2. If it runs into 1, it will repeat 1-3 forever.\n",
    "#If it runs into 2, it will repeat 2-4-6 forever.\n",
    "#\n",
    "#For example, imagine we started with the number 5:\n",
    "#5 is not divisible by 3, so 5 + 2 = 7\n",
    "#7 is not divisible by 3, so 7 + 2 = 9\n",
    "#9 is divisible by 3, so 9 / 3 = 3\n",
    "#3 is divisible by 3, so 3 / 3 = 1\n",
    "#\n",
    "#Start with 5, this sequence converges on 1 in 4 iterations:\n",
    "#5 -> 7, 7 -> 9, 9 -> 3, 3 -> 1.\n",
    "#\n",
    "#Write a function called joyner. joyner should have one\n",
    "#parameter, an integer. It should return the number of\n",
    "#iterations required to reach either 1 or 2 for the first\n",
    "#time.\n",
    "\n",
    "\n",
    "#Add your code here!\n",
    "def joyner(num):\n",
    "    iteration = 0\n",
    "    while not num in [1, 2]:\n",
    "        num = num / 3 if num % 3 == 0 else num + 2\n",
    "        iteration += 1\n",
    "    return iteration\n",
    "\n",
    "\n",
    "#Below are some lines of code that will test your function.\n",
    "#You can change the value of the variable(s) to test your\n",
    "#function with different inputs.\n",
    "#\n",
    "#If your function works correctly, this will originally\n",
    "#print: 4, 5, and 10, each on their own lines.\n",
    "print(joyner(5))\n",
    "print(joyner(15))\n",
    "print(joyner(29))"
   ]
  }
 ],
 "metadata": {
  "kernelspec": {
   "display_name": ".venv",
   "language": "python",
   "name": "python3"
  },
  "language_info": {
   "codemirror_mode": {
    "name": "ipython",
    "version": 3
   },
   "file_extension": ".py",
   "mimetype": "text/x-python",
   "name": "python",
   "nbconvert_exporter": "python",
   "pygments_lexer": "ipython3",
   "version": "3.11.1"
  },
  "orig_nbformat": 4,
  "vscode": {
   "interpreter": {
    "hash": "b8ed45f46ae93313bdeaf6b364e024d47ad211eeeeeeec96ed3b577ee8c481c6"
   }
  }
 },
 "nbformat": 4,
 "nbformat_minor": 2
}
