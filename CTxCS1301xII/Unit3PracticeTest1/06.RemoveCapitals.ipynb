{
 "cells": [
  {
   "cell_type": "code",
   "execution_count": 4,
   "metadata": {},
   "outputs": [
    {
     "name": "stdout",
     "output_type": "stream",
     "text": [
      "123\n",
      "eorgia nstitute of echnology\n"
     ]
    }
   ],
   "source": [
    "#Write a function called remove_capitals. remove_capitals\n",
    "#should accept one parameter, a string. It should return a\n",
    "#string containing the original string with all the capital\n",
    "#letters removed. Everything else should be in the same\n",
    "#place and order as before.\n",
    "#\n",
    "#For example:\n",
    "#\n",
    "# remove_capitals(\"A1B2C3D\") -> \"123\"\n",
    "# remove_capitals(\"WHAT\") -> \"\"\n",
    "# remove_capitals(\"what\") -> \"what\"\n",
    "#\n",
    "#Remember, capital letters have ordinal numbers between 65\n",
    "#(\"A\") and 90 (\"Z\"). You may use the ord() function to get\n",
    "#a letter's ordinal number.\n",
    "#\n",
    "#Your function should be able to handle strings with no\n",
    "#capitals (return the original string) and strings with all\n",
    "#capitals (return an empty string). You may assume we'll\n",
    "#only use regular characters (no emojis, formatting\n",
    "#characters, etc.).\n",
    "\n",
    "\n",
    "#Write your function here!\n",
    "def remove_capitals(string):\n",
    "    result = \"\"\n",
    "    for char in string:\n",
    "        if not(65 <= ord(char) <= 90):\n",
    "            result += char\n",
    "    return result\n",
    "\n",
    "#Below are some lines of code that will test your function.\n",
    "#You can change the value of the variable(s) to test your\n",
    "#function with different inputs.\n",
    "#\n",
    "#If your function works correctly, this will originally\n",
    "#print:\n",
    "#123\n",
    "#eorgia nstitute of echnology\n",
    "print(remove_capitals(\"A1B2C3D\"))\n",
    "print(remove_capitals(\"Georgia Institute of Technology\"))"
   ]
  }
 ],
 "metadata": {
  "kernelspec": {
   "display_name": ".venv",
   "language": "python",
   "name": "python3"
  },
  "language_info": {
   "codemirror_mode": {
    "name": "ipython",
    "version": 3
   },
   "file_extension": ".py",
   "mimetype": "text/x-python",
   "name": "python",
   "nbconvert_exporter": "python",
   "pygments_lexer": "ipython3",
   "version": "3.11.1"
  },
  "orig_nbformat": 4,
  "vscode": {
   "interpreter": {
    "hash": "b8ed45f46ae93313bdeaf6b364e024d47ad211eeeeeeec96ed3b577ee8c481c6"
   }
  }
 },
 "nbformat": 4,
 "nbformat_minor": 2
}
