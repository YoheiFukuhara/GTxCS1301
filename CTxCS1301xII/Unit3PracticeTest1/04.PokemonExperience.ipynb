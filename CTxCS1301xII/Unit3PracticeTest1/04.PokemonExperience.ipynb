{
 "cells": [
  {
   "cell_type": "code",
   "execution_count": 1,
   "metadata": {},
   "outputs": [
    {
     "name": "stdout",
     "output_type": "stream",
     "text": [
      "100\n",
      "200\n",
      "150\n",
      "300\n"
     ]
    }
   ],
   "source": [
    "#Imagine you're playing a game in which every action you\n",
    "#take grants you some number of experience points. There is\n",
    "#an item called a Lucky Egg that, when used, doubles the\n",
    "#number of experience points you earn. The company behind\n",
    "#the game also runs occasional events where they increase\n",
    "#how many experience points you earn for each action by 50%,\n",
    "#100%, or even 200%.\n",
    "#\n",
    "#Write a function called find_total_exp. find_total_exp\n",
    "#should have one positional parameter, a base number of\n",
    "#experience points. It should also have two keyword\n",
    "#parameters: lucky_egg, whose default value is False, and\n",
    "#event_mulitplier, whose default value is 1.\n",
    "#\n",
    "#The function should return the number of experience\n",
    "#points earned based on these two variables. The base number\n",
    "#of experience points should always be multiplied by the\n",
    "#event multiplier, and then doubled if lucky_egg is True.\n",
    "#\n",
    "#You should convert the final result from a float to an\n",
    "#integer before returning it. This will automatically round\n",
    "#down.\n",
    "\n",
    "\n",
    "#Add your code here!\n",
    "def find_total_exp(base, lucky_egg=False, multiplier=1):\n",
    "    return int(base * multiplier * (lucky_egg + 1))\n",
    "\n",
    "#Below are some lines of code that will test your function.\n",
    "#You can change the value of the variable(s) to test your\n",
    "#function with different inputs.\n",
    "#\n",
    "#If your function works correctly, this will originally\n",
    "#print:\n",
    "#100\n",
    "#200\n",
    "#150\n",
    "#300\n",
    "print(find_total_exp(100))\n",
    "print(find_total_exp(100, lucky_egg = True))\n",
    "print(find_total_exp(100, multiplier = 1.5))\n",
    "print(find_total_exp(100, lucky_egg = True, multiplier = 1.5))"
   ]
  }
 ],
 "metadata": {
  "kernelspec": {
   "display_name": ".venv",
   "language": "python",
   "name": "python3"
  },
  "language_info": {
   "codemirror_mode": {
    "name": "ipython",
    "version": 3
   },
   "file_extension": ".py",
   "mimetype": "text/x-python",
   "name": "python",
   "nbconvert_exporter": "python",
   "pygments_lexer": "ipython3",
   "version": "3.11.1"
  },
  "orig_nbformat": 4,
  "vscode": {
   "interpreter": {
    "hash": "b8ed45f46ae93313bdeaf6b364e024d47ad211eeeeeeec96ed3b577ee8c481c6"
   }
  }
 },
 "nbformat": 4,
 "nbformat_minor": 2
}
