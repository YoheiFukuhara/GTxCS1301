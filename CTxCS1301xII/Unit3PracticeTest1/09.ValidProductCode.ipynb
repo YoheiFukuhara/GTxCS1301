{
 "cells": [
  {
   "cell_type": "code",
   "execution_count": 1,
   "metadata": {},
   "outputs": [
    {
     "name": "stdout",
     "output_type": "stream",
     "text": [
      "True\n",
      "True\n",
      "False\n",
      "False\n",
      "False\n"
     ]
    }
   ],
   "source": [
    "#Imagine you're writing the software for an inventory system for\n",
    "#a store. Part of the software needs to check to see if inputted\n",
    "#product codes are valid.\n",
    "#\n",
    "#A product code is valid if all of the following conditions are\n",
    "#true:\n",
    "#\n",
    "# - The length of the product code is a multiple of 4. It could\n",
    "#   be 4, 8, 12, 16, 20, etc. characters long.\n",
    "# - Every character in the product code is either an uppercase\n",
    "#   character or a numeral. No lowercase letters or punctuation\n",
    "#   marks are permitted.\n",
    "# - The character sequence \"A1\" appears somewhere in the\n",
    "#   product code.\n",
    "#\n",
    "#Write a function called valid_product_code. valid_product_code\n",
    "#should have one parameter, a string. It should return True if\n",
    "#the string is a valid product code, and False if it is not.\n",
    "\n",
    "\n",
    "#Add your code here!\n",
    "import re\n",
    "def valid_product_code(product_code):\n",
    "    if len(product_code) % 4 != 0:\n",
    "        return False\n",
    "    elif re.search(\"[^A-Z\\d]\", product_code):\n",
    "        return False\n",
    "    elif \"A1\" in product_code:\n",
    "        return True\n",
    "    else:\n",
    "        return False\n",
    "        \n",
    "#Below are some lines of code that will test your function.\n",
    "#You can change the value of the variable(s) to test your\n",
    "#function with different inputs.\n",
    "#\n",
    "#If your function works correctly, this will originally\n",
    "#print: True, True, False, False, False\n",
    "print(valid_product_code(\"A12B44BP\"))\n",
    "print(valid_product_code(\"BFDSAUSA98932RWEFOEWA9FEAA1DSFSF\"))\n",
    "print(valid_product_code(\"A1BBD5\"))\n",
    "print(valid_product_code(\"BDD5664S\"))\n",
    "print(valid_product_code(\"66aBSaA1fdsv\"))"
   ]
  }
 ],
 "metadata": {
  "kernelspec": {
   "display_name": ".venv",
   "language": "python",
   "name": "python3"
  },
  "language_info": {
   "codemirror_mode": {
    "name": "ipython",
    "version": 3
   },
   "file_extension": ".py",
   "mimetype": "text/x-python",
   "name": "python",
   "nbconvert_exporter": "python",
   "pygments_lexer": "ipython3",
   "version": "3.11.1"
  },
  "orig_nbformat": 4,
  "vscode": {
   "interpreter": {
    "hash": "b8ed45f46ae93313bdeaf6b364e024d47ad211eeeeeeec96ed3b577ee8c481c6"
   }
  }
 },
 "nbformat": 4,
 "nbformat_minor": 2
}
