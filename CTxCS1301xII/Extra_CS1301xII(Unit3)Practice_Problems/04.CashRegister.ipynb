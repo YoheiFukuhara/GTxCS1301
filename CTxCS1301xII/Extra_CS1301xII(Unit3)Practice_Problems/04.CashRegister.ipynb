{
 "cells": [
  {
   "cell_type": "code",
   "execution_count": 2,
   "metadata": {},
   "outputs": [
    {
     "name": "stdout",
     "output_type": "stream",
     "text": [
      "Transaction\n",
      "PIN\n",
      "Password\n"
     ]
    }
   ],
   "source": [
    "#Imagine you're writing a cash register application. To make\n",
    "#interaction easier on the user, it doesn't have separate\n",
    "#areas for passwords, PIN numbers, or cash totals --\n",
    "#instead, it looks at what the cashier enters and infers\n",
    "#whether it's their PIN number, their password, or the cash\n",
    "#total for a transaction.\n",
    "#\n",
    "#The register makes this decision with the following rules:\n",
    "#\n",
    "# - If the cashier entered only digits, then it's a PIN\n",
    "#   number.\n",
    "# - If the cashier entered a decimal number, then it's the\n",
    "#   transaction amount.\n",
    "# - If the cashier entered anything else, then it's their\n",
    "#   password.\n",
    "#\n",
    "#Write a function named interpretCashier. interpretCashier\n",
    "#should take one parameter as input, which will always be\n",
    "#a string initially.\n",
    "#\n",
    "# - If the string entered represents a PIN number, return\n",
    "#   \"PIN\". \n",
    "# - If the string entered represents a transaction amount,\n",
    "#   return \"Transaction\".\n",
    "# - If the string entered represents a password, return\n",
    "#   \"Password\".\n",
    "#\n",
    "#Hint: There is a very easy way to do this, and a very hard\n",
    "#way to do this. Remember, this test is on control\n",
    "#structures, not strings.\n",
    "\n",
    "\n",
    "#Write your function here!\n",
    "def interpretCashier(input):\n",
    "    try:\n",
    "        float(input)\n",
    "    except ValueError:\n",
    "        return \"Password\"\n",
    "    else:\n",
    "        return \"PIN\" if float(input).is_integer() else \"Transaction\"\n",
    "\n",
    "#The lines of code below will test your function. It is not\n",
    "#used for grading, so feel free to change it. As written,\n",
    "#these lines should print Transaction, PIN, and Password,\n",
    "#each on a separate line.\n",
    "print(interpretCashier(\"24.59\"))\n",
    "print(interpretCashier(\"123456\"))\n",
    "print(interpretCashier(\"my$up3rs3cur3p4$$w0rd\"))"
   ]
  }
 ],
 "metadata": {
  "kernelspec": {
   "display_name": ".venv",
   "language": "python",
   "name": "python3"
  },
  "language_info": {
   "codemirror_mode": {
    "name": "ipython",
    "version": 3
   },
   "file_extension": ".py",
   "mimetype": "text/x-python",
   "name": "python",
   "nbconvert_exporter": "python",
   "pygments_lexer": "ipython3",
   "version": "3.11.1"
  },
  "orig_nbformat": 4,
  "vscode": {
   "interpreter": {
    "hash": "b8ed45f46ae93313bdeaf6b364e024d47ad211eeeeeeec96ed3b577ee8c481c6"
   }
  }
 },
 "nbformat": 4,
 "nbformat_minor": 2
}
