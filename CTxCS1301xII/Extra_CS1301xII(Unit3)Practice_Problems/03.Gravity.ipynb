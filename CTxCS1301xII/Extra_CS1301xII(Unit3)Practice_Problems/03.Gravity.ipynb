{
 "cells": [
  {
   "cell_type": "code",
   "execution_count": 1,
   "metadata": {},
   "outputs": [
    {
     "name": "stdout",
     "output_type": "stream",
     "text": [
      "A 10.0 kg object weighs 98.07 Newtons on Earth.\n",
      "A 5.0 kg object weighs 123.95 Newtons on Jupiter.\n"
     ]
    }
   ],
   "source": [
    "#An object's weight is defined as its mass times the gravity\n",
    "#on the planet where it sits. We tend to assume that the\n",
    "#planet is earth and its gravity is 9.807 m/s^2. However,\n",
    "#sometimes we might want to calculate an object's weight on\n",
    "#a different planet.\n",
    "#\n",
    "#Write a function called calculateWeight. calculateWeight\n",
    "#should have three parameters: mass, planet, and gravity.\n",
    "#planet and gravity should be keyword parameters: by\n",
    "#default, they should take the values \"Earth\" (a string) and\n",
    "#9.807 (a float). However, they should be able to be\n",
    "#overriden to let us calculate weights on other planets.\n",
    "#\n",
    "#The function should return a string that looks like this:\n",
    "#\"A [mass] kg object weighs [weight] Newtons on [planet].\"\n",
    "#You should round the weight to two decimal points. You\n",
    "#can do this by calling round() on the weight, e.g.\n",
    "#roundedWeight = round(weight, 2). The 2 dictates how\n",
    "#many decimal points should be included.\n",
    "#\n",
    "#For example:\n",
    "#\n",
    "# calculateWeight(10.0) ->\n",
    "#       \"A 10.0 kg object weighs 98.07 Newtons on Earth.\"\n",
    "#\n",
    "# calculateWeight(5.0, planet=\"Jupiter\", gravity=24.79) ->\n",
    "#       \"A 5.0 kg object weighs 24.79 Newtons on Jupiter.\"\n",
    "#\n",
    "#Hint: If you're having trouble with creating the string to\n",
    "#return, here's the first part:\n",
    "#result = \"A \" + str(mass) + \" kg object weighs \" ...\n",
    "\n",
    "\n",
    "#Write your function here!\n",
    "def calculateWeight(mass, planet=\"Earth\", gravity=9.807):\n",
    "    roundedWeight = round(mass*gravity, 2)\n",
    "    return f\"A {mass} kg object weighs {roundedWeight} Newtons on {planet}.\"\n",
    "\n",
    "#The lines of code below will test your function. They are\n",
    "#not used for grading, so feel free to change them. As\n",
    "#written, these lines should output the two lines of output\n",
    "#shown above.\n",
    "print(calculateWeight(10.0))\n",
    "print(calculateWeight(5.0, planet=\"Jupiter\", gravity=24.79))"
   ]
  }
 ],
 "metadata": {
  "kernelspec": {
   "display_name": ".venv",
   "language": "python",
   "name": "python3"
  },
  "language_info": {
   "codemirror_mode": {
    "name": "ipython",
    "version": 3
   },
   "file_extension": ".py",
   "mimetype": "text/x-python",
   "name": "python",
   "nbconvert_exporter": "python",
   "pygments_lexer": "ipython3",
   "version": "3.11.1"
  },
  "orig_nbformat": 4,
  "vscode": {
   "interpreter": {
    "hash": "b8ed45f46ae93313bdeaf6b364e024d47ad211eeeeeeec96ed3b577ee8c481c6"
   }
  }
 },
 "nbformat": 4,
 "nbformat_minor": 2
}
