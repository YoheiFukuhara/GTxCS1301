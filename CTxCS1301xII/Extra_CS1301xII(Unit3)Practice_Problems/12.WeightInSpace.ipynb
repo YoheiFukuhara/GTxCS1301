{
 "cells": [
  {
   "cell_type": "code",
   "execution_count": 1,
   "metadata": {},
   "outputs": [
    {
     "name": "stdout",
     "output_type": "stream",
     "text": [
      "88.29\n",
      "33.39\n"
     ]
    }
   ],
   "source": [
    "#Write a function called find_weight. find_weight should\n",
    "#take one positional parameter, a float that represents\n",
    "#the mass of an object in kilograms. It should return the\n",
    "#weight of the object.\n",
    "#\n",
    "#You should assume that the planet is earth and that the\n",
    "#acceleration due to gravity is 9.81; however, find_weight\n",
    "#should also have a keyword parameter called gravity that\n",
    "#allows this value to be overriden to calculate an\n",
    "#object's weight on other planets.\n",
    "#\n",
    "#Remember, the formula for weight is mass * gravity. If\n",
    "#you find Python is making rounding errors, try reversing\n",
    "#the order in which you multiply the numbers.\n",
    "\n",
    "\n",
    "#Add your code here!\n",
    "def find_weight(mass, gravity=9.81):\n",
    "    return mass * gravity\n",
    "\n",
    "\n",
    "#Below are some lines of code that will test your function.\n",
    "#You can change the value of the variable(s) to test your\n",
    "#function with different inputs.\n",
    "#\n",
    "#If your function works correctly, this will originally\n",
    "#print:\n",
    "#88.29\n",
    "#33.39\n",
    "print(find_weight(9.0))\n",
    "print(find_weight(9.0, gravity = 3.71))"
   ]
  }
 ],
 "metadata": {
  "kernelspec": {
   "display_name": ".venv",
   "language": "python",
   "name": "python3"
  },
  "language_info": {
   "codemirror_mode": {
    "name": "ipython",
    "version": 3
   },
   "file_extension": ".py",
   "mimetype": "text/x-python",
   "name": "python",
   "nbconvert_exporter": "python",
   "pygments_lexer": "ipython3",
   "version": "3.11.1"
  },
  "orig_nbformat": 4,
  "vscode": {
   "interpreter": {
    "hash": "b8ed45f46ae93313bdeaf6b364e024d47ad211eeeeeeec96ed3b577ee8c481c6"
   }
  }
 },
 "nbformat": 4,
 "nbformat_minor": 2
}
