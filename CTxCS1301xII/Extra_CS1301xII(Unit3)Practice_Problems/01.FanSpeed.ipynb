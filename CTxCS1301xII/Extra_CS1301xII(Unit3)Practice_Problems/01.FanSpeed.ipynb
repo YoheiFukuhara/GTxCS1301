{
 "cells": [
  {
   "cell_type": "code",
   "execution_count": 1,
   "metadata": {},
   "outputs": [
    {
     "name": "stdout",
     "output_type": "stream",
     "text": [
      "3\n",
      "5\n",
      "0\n"
     ]
    }
   ],
   "source": [
    "#Imagine you're writing the software that controls the speed\n",
    "#of a ceiling fan. The user changes the fan's speed by\n",
    "#pulling a string. Pulling the string increases the fan's =\n",
    "#speed by 1, unless it's already at the maximum speed. If\n",
    "#it's already at the maximum speed, it changes the speed\n",
    "#back to 0.\n",
    "#\n",
    "#Write a function called pullString. pullString should take\n",
    "#two parameters: a current speed, and a maximum speed, both\n",
    "#integers. pullString should return the new fan speed\n",
    "#according to the reasoning above.\n",
    "\n",
    "#You may assume that the input will be integers. You should\n",
    "#also assume that the fan's speed *can* equal the maximum\n",
    "#speed, but it *cannot* exceed the maximum speed. You may\n",
    "#thus assume that you will never be given a currentSpeed\n",
    "#higher than maxSpeed.\n",
    "\n",
    "\n",
    "#Write your function here!\n",
    "def pullString(current_speed, maximum_speed):\n",
    "    if current_speed == maximum_speed:\n",
    "        return 0\n",
    "    else:\n",
    "        return current_speed + 1\n",
    "\n",
    "#The code below will test your function. It isn't used for\n",
    "#grading, so you can change or remove it if you'd like. As\n",
    "#written, these three lines should print 3, 5, and 0.\n",
    "print(pullString(2, 5))\n",
    "print(pullString(4, 5))\n",
    "print(pullString(7, 7))"
   ]
  }
 ],
 "metadata": {
  "kernelspec": {
   "display_name": ".venv",
   "language": "python",
   "name": "python3"
  },
  "language_info": {
   "codemirror_mode": {
    "name": "ipython",
    "version": 3
   },
   "file_extension": ".py",
   "mimetype": "text/x-python",
   "name": "python",
   "nbconvert_exporter": "python",
   "pygments_lexer": "ipython3",
   "version": "3.11.1 (main, Dec 25 2022, 14:08:23) [Clang 14.0.0 (clang-1400.0.29.202)]"
  },
  "orig_nbformat": 4,
  "vscode": {
   "interpreter": {
    "hash": "b8ed45f46ae93313bdeaf6b364e024d47ad211eeeeeeec96ed3b577ee8c481c6"
   }
  }
 },
 "nbformat": 4,
 "nbformat_minor": 2
}
