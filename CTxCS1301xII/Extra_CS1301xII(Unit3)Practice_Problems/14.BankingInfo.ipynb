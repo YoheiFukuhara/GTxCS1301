{
 "cells": [
  {
   "cell_type": "code",
   "execution_count": 1,
   "metadata": {},
   "outputs": [
    {
     "name": "stdout",
     "output_type": "stream",
     "text": [
      "PIN\n"
     ]
    }
   ],
   "source": [
    "input_string = \"1234\"\n",
    "\n",
    "#You may modify the lines of code above, but don't move them!\n",
    "#When you Submit your code, we'll change these lines to\n",
    "#assign different values to the variables.\n",
    "\n",
    "#Imagine that you're writing some software for a check-out\n",
    "#register. The software tries to guess what information was\n",
    "#entered based on its structure:\n",
    "#\n",
    "# - If the information entered as all numbers, then it's a\n",
    "#   PIN number.\n",
    "# - If the information entered was a number with a decimal,\n",
    "#   it's a transaction amount.\n",
    "# - If the information entered was neither, it's a password.\n",
    "#\n",
    "#Write some code to figure out which of these types of\n",
    "#information the inputted string is. Print \"PIN\" for PIN\n",
    "#number, \"amount\" for transaction amount, or \"password\" for\n",
    "#password. You may assume these are the only three possible\n",
    "#outcomes.\n",
    "#\n",
    "#Hint: You can do this however you want, but error handling\n",
    "#will be easier than using conditionals.\n",
    "\n",
    "\n",
    "#Add your code here!\n",
    "try:\n",
    "    float(input_string)\n",
    "except ValueError:\n",
    "    print(\"password\")\n",
    "else:\n",
    "    print(\"PIN\") if float(input_string).is_integer() else print(\"amount\")"
   ]
  }
 ],
 "metadata": {
  "kernelspec": {
   "display_name": ".venv",
   "language": "python",
   "name": "python3"
  },
  "language_info": {
   "codemirror_mode": {
    "name": "ipython",
    "version": 3
   },
   "file_extension": ".py",
   "mimetype": "text/x-python",
   "name": "python",
   "nbconvert_exporter": "python",
   "pygments_lexer": "ipython3",
   "version": "3.11.1"
  },
  "orig_nbformat": 4,
  "vscode": {
   "interpreter": {
    "hash": "b8ed45f46ae93313bdeaf6b364e024d47ad211eeeeeeec96ed3b577ee8c481c6"
   }
  }
 },
 "nbformat": 4,
 "nbformat_minor": 2
}
