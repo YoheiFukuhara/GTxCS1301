{
 "cells": [
  {
   "cell_type": "code",
   "execution_count": 2,
   "metadata": {},
   "outputs": [
    {
     "name": "stdout",
     "output_type": "stream",
     "text": [
      "True\n",
      "False\n",
      "True\n",
      "False\n",
      "True\n",
      "False\n"
     ]
    }
   ],
   "source": [
    "#Write a function called is_prime. is_prime should take\n",
    "#as input one integer. It should return True if the integer\n",
    "#is prime, False if the integer is not prime. You may\n",
    "#assume the integer will be greater than 2 and less than\n",
    "#1000.\n",
    "#\n",
    "#Remember, a prime number is one into which no number is\n",
    "#divisible besides 1 and itself. For example, 6 is not\n",
    "#prime because it is divisible by 2 and 3. 7 is prime\n",
    "#because it is only divisible by 1 and itself.\n",
    "#\n",
    "#HINT: Remember, once you find a _single_ factor of the\n",
    "#number, you can return False: it only takes one factor\n",
    "#to make the number not prime.\n",
    "\n",
    "\n",
    "#Add your code here!\n",
    "def is_prime(num):\n",
    "    for i in range(2, num):\n",
    "        if num % i == 0:\n",
    "            return False\n",
    "    return True\n",
    "\n",
    "#Below are some lines of code that will test your function.\n",
    "#You can change the value of the variable(s) to test your\n",
    "#function with different inputs.\n",
    "#\n",
    "#If your function works correctly, this will originally\n",
    "#print: True, False, True, False, True, False\n",
    "print(is_prime(5))\n",
    "print(is_prime(6))\n",
    "print(is_prime(97))\n",
    "print(is_prime(105))\n",
    "print(is_prime(997))\n",
    "print(is_prime(999))"
   ]
  }
 ],
 "metadata": {
  "kernelspec": {
   "display_name": ".venv",
   "language": "python",
   "name": "python3"
  },
  "language_info": {
   "codemirror_mode": {
    "name": "ipython",
    "version": 3
   },
   "file_extension": ".py",
   "mimetype": "text/x-python",
   "name": "python",
   "nbconvert_exporter": "python",
   "pygments_lexer": "ipython3",
   "version": "3.11.1"
  },
  "orig_nbformat": 4,
  "vscode": {
   "interpreter": {
    "hash": "b8ed45f46ae93313bdeaf6b364e024d47ad211eeeeeeec96ed3b577ee8c481c6"
   }
  }
 },
 "nbformat": 4,
 "nbformat_minor": 2
}
