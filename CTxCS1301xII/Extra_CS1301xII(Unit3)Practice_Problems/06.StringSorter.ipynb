{
 "cells": [
  {
   "cell_type": "code",
   "execution_count": 10,
   "metadata": {},
   "outputs": [
    {
     "name": "stdout",
     "output_type": "stream",
     "text": [
      "ZOMGHCS\n",
      "ello\n",
      ",1301!!\n",
      "2\n"
     ]
    }
   ],
   "source": [
    "#Write a function called sortString. sortString should take\n",
    "#one parameter as input, a string. If the input is not a\n",
    "#string, sortString should return the string \"Not a string!\"\n",
    "#If the input is a string, sortString should return a four-\n",
    "#line string according to the following directions:\n",
    "#\n",
    "# - On the first line should be each capital letter in the\n",
    "#   string, in the order in which they appear.\n",
    "# - On the second line should be each lower-case letter in\n",
    "#   the string, in the order in which they appear.\n",
    "# - On the third line should be each punctuation mark or\n",
    "#   numeral in the string, in the order in which they\n",
    "#   appear.\n",
    "# - On the fourth line should be an integer representing\n",
    "#   how many spaces were found in the string.\n",
    "#\n",
    "#There should be no other text in the string that you output\n",
    "#besides these four lines and the line breaks between them.\n",
    "#To insert a line break into a string, insert the character\n",
    "#sequence \"\\n\". For example, line1 + \"\\n\" + line2 would give\n",
    "#a string with the first two lines and a line break in\n",
    "#between. You may assume that the string will only be\n",
    "#letters, spaces, and punctuation -- no numbers, line breaks,\n",
    "#tabs, etc.\n",
    "#\n",
    "#For example, calling sortString(\"Hello, world!!1\" should\n",
    "#return: \"H\\nelloworld\\n,!!1\\n1\", which would look like this\n",
    "#when printed:\n",
    "#H\n",
    "#elloworld\n",
    "#,!!1\n",
    "#1\n",
    "#\n",
    "#Hint: Use the ord() function! Remember, when you pass a\n",
    "#one-character string into ord(), it returns a number.\n",
    "#\n",
    "# - Lower-case letters will return a number from 97 to 122.\n",
    "# - Upper-case letters will return a number from 65 to 90.\n",
    "# - Puncutation marks and numbers will return a number from\n",
    "#   33 to 64.\n",
    "# - Spaces will return the number 32.\n",
    "#\n",
    "#So, you can check if a letter is lowercase by seeing if\n",
    "#ord(letter) is between 97 and 122 (inclusive; 97 is 'a',\n",
    "#122 is 'z'), and so on for uppercase and punctuation.\n",
    "#\n",
    "#Hint 2: Build up three separate strings (one for\n",
    "#uppercase, one for lowercase, and one for punctuation),\n",
    "#then combine them and the count of the number of spaces\n",
    "#into a string to return at the end.\n",
    "\n",
    "\n",
    "#Write your sortString function here!\n",
    "def sortString(string):\n",
    "    result = [\"\", \"\", \"\", 0]\n",
    "    if type(string) is str:\n",
    "        for char in string:\n",
    "            code = ord(char)\n",
    "            if 65 <= code <= 90:\n",
    "                result[0] += char\n",
    "            elif 97 <= code <= 122:\n",
    "                result[1] += char\n",
    "            elif 33 <= code <= 64:\n",
    "                result[2] += char\n",
    "            elif code == 32:\n",
    "                result[3] += 1\n",
    "        result[3] = str(result[3])\n",
    "        return \"\\n\".join(result)\n",
    "    else:\n",
    "        return \"Not a string!\"\n",
    "\n",
    "#The line of code below will test your function. It is not\n",
    "#used for grading, so feel free to modify it. As written,\n",
    "#it should print:\n",
    "#ZOMGHCS\n",
    "#ello\n",
    "#,1301!!\n",
    "#2\n",
    "print(sortString(\"ZOMG Hello, CS1301!!\"))"
   ]
  }
 ],
 "metadata": {
  "kernelspec": {
   "display_name": ".venv",
   "language": "python",
   "name": "python3"
  },
  "language_info": {
   "codemirror_mode": {
    "name": "ipython",
    "version": 3
   },
   "file_extension": ".py",
   "mimetype": "text/x-python",
   "name": "python",
   "nbconvert_exporter": "python",
   "pygments_lexer": "ipython3",
   "version": "3.11.1"
  },
  "orig_nbformat": 4,
  "vscode": {
   "interpreter": {
    "hash": "b8ed45f46ae93313bdeaf6b364e024d47ad211eeeeeeec96ed3b577ee8c481c6"
   }
  }
 },
 "nbformat": 4,
 "nbformat_minor": 2
}
