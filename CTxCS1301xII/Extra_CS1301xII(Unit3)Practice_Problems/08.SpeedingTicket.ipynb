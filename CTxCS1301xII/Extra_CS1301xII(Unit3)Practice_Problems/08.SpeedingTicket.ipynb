{
 "cells": [
  {
   "cell_type": "code",
   "execution_count": 1,
   "metadata": {},
   "outputs": [
    {
     "name": "stdout",
     "output_type": "stream",
     "text": [
      "$240\n"
     ]
    }
   ],
   "source": [
    "driver_speed = 57\n",
    "speed_limit = 55\n",
    "school_zone = True\n",
    "\n",
    "#You may modify the lines of code above, but don't move them!\n",
    "#When you Submit your code, we'll change these lines to\n",
    "#assign different values to the variables.\n",
    "\n",
    "#Write a conditional that decides the price of a speed ticket\n",
    "#depending on the driver's speed, the speed limit, and\n",
    "#whether or not they were in a school zone.\n",
    "#\n",
    "#The reasoning that determines the price of the ticket is:\n",
    "#\n",
    "# - $100 for speeding at all (any instance where driver_speed\n",
    "#   is greater than speed limit).\n",
    "# - $10 dollars per mile over the speed limit the driver was\n",
    "#   going.\n",
    "# - 2x the value otherwise if the violation occurred in a\n",
    "#   school zone, as represented by the value of school_zone.\n",
    "#\n",
    "#Print the cost of the speeding ticket. If the driver was not\n",
    "#speeding, print $0.\n",
    "#\n",
    "#Under the original values above, this should print $240:\n",
    "#$100 for speeding, $20 for going 2mph above the speed limit,\n",
    "#and x2 for it occurring in a school zone.\n",
    "\n",
    "\n",
    "#Add your code here! Make sure to print the dollar sign, too.\n",
    "price = 0\n",
    "if driver_speed > speed_limit:\n",
    "    price = 100 + 10 * (driver_speed - speed_limit)\n",
    "    if school_zone:\n",
    "        price *= 2\n",
    "print(f\"${price}\")"
   ]
  }
 ],
 "metadata": {
  "kernelspec": {
   "display_name": ".venv",
   "language": "python",
   "name": "python3"
  },
  "language_info": {
   "codemirror_mode": {
    "name": "ipython",
    "version": 3
   },
   "file_extension": ".py",
   "mimetype": "text/x-python",
   "name": "python",
   "nbconvert_exporter": "python",
   "pygments_lexer": "ipython3",
   "version": "3.11.1"
  },
  "orig_nbformat": 4,
  "vscode": {
   "interpreter": {
    "hash": "b8ed45f46ae93313bdeaf6b364e024d47ad211eeeeeeec96ed3b577ee8c481c6"
   }
  }
 },
 "nbformat": 4,
 "nbformat_minor": 2
}
