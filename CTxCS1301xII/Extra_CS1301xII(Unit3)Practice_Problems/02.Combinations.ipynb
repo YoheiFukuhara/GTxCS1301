{
 "cells": [
  {
   "cell_type": "code",
   "execution_count": 2,
   "metadata": {},
   "outputs": [
    {
     "name": "stdout",
     "output_type": "stream",
     "text": [
      "1326.0\n",
      "252.0\n",
      "4.0\n"
     ]
    }
   ],
   "source": [
    "#A common formula in probability and statistics is the\n",
    "#formula for the number of possible combinations of r\n",
    "#objects from a set of n objects. For example, the question,\n",
    "#\"How many possible 2-card hands can you deal from a deck of\n",
    "#52 unique cards?\" is saying, \"How many combinations of 2\n",
    "#can you make from a set of 52?\"\n",
    "#\n",
    "#The formula for the number of combinations of length r from\n",
    "#a set of n objects is:\n",
    "#\n",
    "#  numCombinations = n! / r!(n-r)!\n",
    "#\n",
    "#The ! mark is the symbol for factorial. Factorial means the\n",
    "#product of the number times every number between itself and\n",
    "#1. For example, 5! is 120: 5 * 4 * 3 * 2 * 1 = 120.\n",
    "#\n",
    "#Write a function called numCombinations with two parameters:\n",
    "#n, the number of objects from which to choose, and r, the\n",
    "#number of objects to choose. numCombinations should return\n",
    "#the number of combinations according to the formula above.\n",
    "#Don't worry if you don't fully understand what combinations\n",
    "#are -- just focus on implementing a function that solves\n",
    "#that formula given n and r.\n",
    "#\n",
    "#You may *not* use Python's built-in factorial method to\n",
    "#complete this; you should implement that yourself.\n",
    "#\n",
    "#Hint: We'd suggest writing two functions: factorial() and\n",
    "#numCombinations(). Then, call factorial() in your code for \n",
    "#numCombinations(). You don't have to do this, but it will\n",
    "#make your answer a little easier!\n",
    "#\n",
    "#Hint 2: Remember to put parentheses around the denominator.\n",
    "\n",
    "\n",
    "#Write your numCombinations function (and any other functions) \n",
    "#here!\n",
    "def factorial(num):\n",
    "    result = 1\n",
    "    for i in range(2, num+1):\n",
    "        result *= i\n",
    "    return result\n",
    "\n",
    "def numCombinations(n, r):\n",
    "    return factorial(n) / (factorial(r) * factorial(n-r))\n",
    "\n",
    "#The lines below will test your code. They are not used for\n",
    "#grading, so feel free to modify them. As written, they should\n",
    "#print: 1326.0, 252.0, and 4.0, each on their own line.\n",
    "print(numCombinations(52, 2))\n",
    "print(numCombinations(10, 5))\n",
    "print(numCombinations(4, 1))"
   ]
  },
  {
   "cell_type": "code",
   "execution_count": null,
   "metadata": {},
   "outputs": [],
   "source": []
  }
 ],
 "metadata": {
  "kernelspec": {
   "display_name": ".venv",
   "language": "python",
   "name": "python3"
  },
  "language_info": {
   "codemirror_mode": {
    "name": "ipython",
    "version": 3
   },
   "file_extension": ".py",
   "mimetype": "text/x-python",
   "name": "python",
   "nbconvert_exporter": "python",
   "pygments_lexer": "ipython3",
   "version": "3.11.1 (main, Dec 25 2022, 14:08:23) [Clang 14.0.0 (clang-1400.0.29.202)]"
  },
  "orig_nbformat": 4,
  "vscode": {
   "interpreter": {
    "hash": "b8ed45f46ae93313bdeaf6b364e024d47ad211eeeeeeec96ed3b577ee8c481c6"
   }
  }
 },
 "nbformat": 4,
 "nbformat_minor": 2
}
