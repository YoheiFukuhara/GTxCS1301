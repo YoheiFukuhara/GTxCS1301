{
 "cells": [
  {
   "cell_type": "code",
   "execution_count": 22,
   "metadata": {},
   "outputs": [
    {
     "name": "stdout",
     "output_type": "stream",
     "text": [
      "True\n",
      "True\n",
      "False\n",
      "False\n",
      "False\n"
     ]
    }
   ],
   "source": [
    "#Write a function called password_check. password_check should\n",
    "#take as input a single string. It should return a boolean:\n",
    "#True if the password is a valid password according to the rules\n",
    "#below, False if it is not.\n",
    "#\n",
    "#A string is a valid password if it meets ALL the following\n",
    "#conditions:\n",
    "#\n",
    "# - It must be at least 8 characters long.\n",
    "# - It must contain at least one character from each of the\n",
    "#   following categories: capital letters, lower-case letters,\n",
    "#   numbers, and punctuation. For punctuation, the following\n",
    "#   punctuation marks are acceptable: !@#$%&()-_[]{};':\",./<>?\n",
    "# - It may not contain any characters that do not fit into the\n",
    "#   four categories above. This includes any punctuation marks\n",
    "#   not listed in the bullet point above, spaces, and any other\n",
    "#   character.\n",
    "\n",
    "\n",
    "#Add your code here!\n",
    "import re\n",
    "\n",
    "def password_check(password):\n",
    "    if len(password) >= 8  \\\n",
    "     and re.search('[A-Z]', password) \\\n",
    "     and re.search('[a-z]', password) \\\n",
    "     and re.search('\\d', password) \\\n",
    "     and re.search(\"[!@#$%&()\\-_[\\]{\\};':\\\",./<>\\?]\", password) \\\n",
    "     and not(re.search(\"[^a-zA-Z\\d!@#$%&()\\-_[\\]{\\};':\\\",./<>\\?]\", password)):\n",
    "        return True\n",
    "    else:\n",
    "        return False\n",
    "\n",
    "#Below are some lines of code that will test your function.\n",
    "#You can change the value of the variable(s) to test your\n",
    "#function with different inputs.\n",
    "#\n",
    "#If your function works correctly, this will originally\n",
    "#print: True, True, False, False, False\n",
    "print(password_check(\"tHIs1sag00d.p4ssw0rd.\"))\n",
    "print(password_check(\"3@t7ENZ((T\"))\n",
    "print(password_check(\"2.shOrt\"))\n",
    "print(password_check(\"all.l0wer.case\"))\n",
    "print(password_check(\"inv4l1d CH4R4CTERS~\"))"
   ]
  }
 ],
 "metadata": {
  "kernelspec": {
   "display_name": ".venv",
   "language": "python",
   "name": "python3"
  },
  "language_info": {
   "codemirror_mode": {
    "name": "ipython",
    "version": 3
   },
   "file_extension": ".py",
   "mimetype": "text/x-python",
   "name": "python",
   "nbconvert_exporter": "python",
   "pygments_lexer": "ipython3",
   "version": "3.11.1"
  },
  "orig_nbformat": 4,
  "vscode": {
   "interpreter": {
    "hash": "b8ed45f46ae93313bdeaf6b364e024d47ad211eeeeeeec96ed3b577ee8c481c6"
   }
  }
 },
 "nbformat": 4,
 "nbformat_minor": 2
}
