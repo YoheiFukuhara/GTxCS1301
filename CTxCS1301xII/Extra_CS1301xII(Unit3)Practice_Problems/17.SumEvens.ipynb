{
 "cells": [
  {
   "cell_type": "code",
   "execution_count": 5,
   "metadata": {},
   "outputs": [
    {
     "name": "stdout",
     "output_type": "stream",
     "text": [
      "12\n",
      "0\n",
      "66\n"
     ]
    }
   ],
   "source": [
    "#Write a function called sum_evens. sum_evens should take\n",
    "#two parameters: a minimum and a maximum. It should add up\n",
    "#all the even numbers between minimum and maximum and\n",
    "#return the sum.\n",
    "#\n",
    "#sum_evens should work inclusively: both the minimum and\n",
    "#the maximum should be added if they are even. For example,\n",
    "#sum_evens(2, 6) -> 12 (2 + 4 + 6 = 12)\n",
    "\n",
    "\n",
    "#Add your function here!\n",
    "def sum_evens(minimum, maximum):\n",
    "    result = 0\n",
    "    for i in range(minimum, maximum+1):\n",
    "        if i % 2 == 0:\n",
    "            result += i\n",
    "    return result\n",
    "\n",
    "#Below are some lines of code that will test your function.\n",
    "#You can change the value of the variable(s) to test your\n",
    "#function with different inputs.\n",
    "#\n",
    "#If your function works correctly, this will originally\n",
    "#print: 12, 0, 66, each on their own line.\n",
    "print(sum_evens(2, 6))\n",
    "print(sum_evens(-2, 2))\n",
    "print(sum_evens(5, 17))"
   ]
  }
 ],
 "metadata": {
  "kernelspec": {
   "display_name": ".venv",
   "language": "python",
   "name": "python3"
  },
  "language_info": {
   "codemirror_mode": {
    "name": "ipython",
    "version": 3
   },
   "file_extension": ".py",
   "mimetype": "text/x-python",
   "name": "python",
   "nbconvert_exporter": "python",
   "pygments_lexer": "ipython3",
   "version": "3.11.1"
  },
  "orig_nbformat": 4,
  "vscode": {
   "interpreter": {
    "hash": "b8ed45f46ae93313bdeaf6b364e024d47ad211eeeeeeec96ed3b577ee8c481c6"
   }
  }
 },
 "nbformat": 4,
 "nbformat_minor": 2
}
