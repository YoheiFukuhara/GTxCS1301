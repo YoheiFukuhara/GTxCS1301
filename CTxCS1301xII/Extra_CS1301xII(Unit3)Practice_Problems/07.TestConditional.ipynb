{
 "cells": [
  {
   "cell_type": "code",
   "execution_count": 1,
   "metadata": {},
   "outputs": [
    {
     "name": "stdout",
     "output_type": "stream",
     "text": [
      "int1 is greater\n"
     ]
    }
   ],
   "source": [
    "int1 = 7\n",
    "int2 = 5\n",
    "\n",
    "#You may modify the lines of code above, but don't move them!\n",
    "#When you Submit your code, we'll change these lines to\n",
    "#assign different values to the variables.\n",
    "\n",
    "#Write a conditional that will print one of the following\n",
    "#messages:\n",
    "#\n",
    "# - If the value of int1 is greater than the value of int2,\n",
    "#   print \"int1 is greater\" (without the quotes).\n",
    "# - If the value of int2 is greater than the value of int1,\n",
    "#   print \"int2 is greater\" (without the quotes).\n",
    "# - If the two values are equal, print \"int1 and int2 are\n",
    "#   equal\" (without the quotes).\n",
    "#\n",
    "#With the initial values above, this should print \"int1 is\n",
    "#greater\".\n",
    "\n",
    "\n",
    "#Add your code here!\n",
    "if int1 > int2:\n",
    "    print(\"int1 is greater\")\n",
    "elif int1 < int2:\n",
    "    print(\"int2 is greater\")\n",
    "else:\n",
    "    print(\"int1 and int2 are equal\")"
   ]
  }
 ],
 "metadata": {
  "kernelspec": {
   "display_name": ".venv",
   "language": "python",
   "name": "python3"
  },
  "language_info": {
   "codemirror_mode": {
    "name": "ipython",
    "version": 3
   },
   "file_extension": ".py",
   "mimetype": "text/x-python",
   "name": "python",
   "nbconvert_exporter": "python",
   "pygments_lexer": "ipython3",
   "version": "3.11.1"
  },
  "orig_nbformat": 4,
  "vscode": {
   "interpreter": {
    "hash": "b8ed45f46ae93313bdeaf6b364e024d47ad211eeeeeeec96ed3b577ee8c481c6"
   }
  }
 },
 "nbformat": 4,
 "nbformat_minor": 2
}
