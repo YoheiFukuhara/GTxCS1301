{
 "cells": [
  {
   "cell_type": "code",
   "execution_count": 1,
   "metadata": {},
   "outputs": [
    {
     "name": "stdout",
     "output_type": "stream",
     "text": [
      "5\n",
      "6\n",
      "7\n",
      "8\n",
      "9\n",
      "10\n"
     ]
    }
   ],
   "source": [
    "minimum = 5\n",
    "maximum = 10\n",
    "\n",
    "#You may modify the lines of code above, but don't move them!\n",
    "#When you Submit your code, we'll change these lines to\n",
    "#assign different values to the variables.\n",
    "#\n",
    "#Write a loop (we suggest a for loop) that prints all the\n",
    "#numbers from minimum to maximum. Each number should be\n",
    "#printed on its own line, and you should print both minimum\n",
    "#and maxmimum themselves. You may assume minimum will always\n",
    "#be less than maximum.\n",
    "#\n",
    "#With the initial values for minimum and maximum above, this\n",
    "#should print 5, 6, 7, 8, 9, 10 -- each number would be on\n",
    "#its own line, no commas.\n",
    "\n",
    "\n",
    "#Add your code here!\n",
    "for i in range(minimum, maximum+1):\n",
    "    print(i)"
   ]
  }
 ],
 "metadata": {
  "kernelspec": {
   "display_name": ".venv",
   "language": "python",
   "name": "python3"
  },
  "language_info": {
   "codemirror_mode": {
    "name": "ipython",
    "version": 3
   },
   "file_extension": ".py",
   "mimetype": "text/x-python",
   "name": "python",
   "nbconvert_exporter": "python",
   "pygments_lexer": "ipython3",
   "version": "3.11.1"
  },
  "orig_nbformat": 4,
  "vscode": {
   "interpreter": {
    "hash": "b8ed45f46ae93313bdeaf6b364e024d47ad211eeeeeeec96ed3b577ee8c481c6"
   }
  }
 },
 "nbformat": 4,
 "nbformat_minor": 2
}
