{
 "cells": [
  {
   "cell_type": "code",
   "execution_count": 2,
   "metadata": {},
   "outputs": [
    {
     "name": "stdout",
     "output_type": "stream",
     "text": [
      "0\n",
      "3\n",
      "2\n"
     ]
    }
   ],
   "source": [
    "#Write a function called remainder. remainder should take\n",
    "#two parameters: a dividend and a divisor. It should return\n",
    "#the remainder when you divide the dividend by the divisor.\n",
    "#\n",
    "#For example:\n",
    "# remainder(9, 3) -> 0\n",
    "# remainder(8, 3) -> 2\n",
    "# remainder(7, 3) -> 1\n",
    "# remainder(6, 3) -> 0\n",
    "#\n",
    "#You may not use Python's built-in modulus operator. The\n",
    "#symbol for that operator should not appear anywhere in your\n",
    "#code.\n",
    "#\n",
    "#You may assume both dividend and divisor will be greater\n",
    "#than 0\n",
    "\n",
    "\n",
    "#Add your function here!\n",
    "def remainder(dividend, divisor):\n",
    "    if dividend != 0 and divisor != 0:\n",
    "        remainder_ = dividend - (dividend // divisor * divisor)\n",
    "        return remainder_\n",
    "\n",
    "#Below are some lines of code that will test your function.\n",
    "#You can change the value of the variable(s) to test your\n",
    "#function with different inputs.\n",
    "#\n",
    "#If your function works correctly, this will originally\n",
    "#print: 0, 3, 2\n",
    "print(remainder(9, 3))\n",
    "print(remainder(11, 4))\n",
    "print(remainder(27, 5))"
   ]
  }
 ],
 "metadata": {
  "kernelspec": {
   "display_name": ".venv",
   "language": "python",
   "name": "python3"
  },
  "language_info": {
   "codemirror_mode": {
    "name": "ipython",
    "version": 3
   },
   "file_extension": ".py",
   "mimetype": "text/x-python",
   "name": "python",
   "nbconvert_exporter": "python",
   "pygments_lexer": "ipython3",
   "version": "3.11.1"
  },
  "orig_nbformat": 4,
  "vscode": {
   "interpreter": {
    "hash": "b8ed45f46ae93313bdeaf6b364e024d47ad211eeeeeeec96ed3b577ee8c481c6"
   }
  }
 },
 "nbformat": 4,
 "nbformat_minor": 2
}
