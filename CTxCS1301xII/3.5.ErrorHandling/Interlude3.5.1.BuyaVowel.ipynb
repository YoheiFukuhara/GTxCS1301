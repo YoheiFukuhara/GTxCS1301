{
 "cells": [
  {
   "cell_type": "code",
   "execution_count": 1,
   "metadata": {},
   "outputs": [
    {
     "name": "stdout",
     "output_type": "stream",
     "text": [
      "Starting...\n",
      "Checking a\n",
      "a is a vowel, returning True\n",
      "Done!\n",
      "True\n",
      "Starting...\n",
      "Checking b\n",
      "b is not a vowel, returning False\n",
      "Checking e\n",
      "e is a vowel, returning True\n",
      "Done!\n",
      "True\n",
      "Starting...\n",
      "Checking s\n",
      "s is not a vowel, returning False\n",
      "Checking y\n",
      "y is not a vowel, returning False\n",
      "Checking z\n",
      "z is not a vowel, returning False\n",
      "Checking y\n",
      "y is not a vowel, returning False\n",
      "Checking g\n",
      "g is not a vowel, returning False\n",
      "Checking y\n",
      "y is not a vowel, returning False\n",
      "Done!\n",
      "False\n",
      "Starting...\n",
      "Done!\n",
      "False\n"
     ]
    }
   ],
   "source": [
    "#Write a function called has_a_vowel. has_a_vowel should have\n",
    "#one parameter, a string. It should return True if the string\n",
    "#has any vowels in it, False if it does not.\n",
    "\n",
    "\n",
    "def has_a_vowel(a_str):\n",
    "    print(\"Starting...\")\n",
    "    for letter in a_str:\n",
    "        print(\"Checking\", letter)\n",
    "        if letter in \"aeiou\":\n",
    "            print(letter, \"is a vowel, returning True\")\n",
    "            print(\"Done!\")\n",
    "            return True\n",
    "        else:\n",
    "            print(letter, \"is not a vowel, returning False\")\n",
    "    print(\"Done!\")\n",
    "    return False\n",
    "    \n",
    "    \n",
    "#Below are some lines of code that will test your function.\n",
    "#You can change the value of the variable(s) to test your\n",
    "#function with different inputs.\n",
    "#\n",
    "#If your function works correctly, this will originally\n",
    "#print: True, then True, then False, then False, each on\n",
    "#its own line.\n",
    "print(has_a_vowel(\"abba\"))\n",
    "print(has_a_vowel(\"beeswax\"))\n",
    "print(has_a_vowel(\"syzygy\"))\n",
    "print(has_a_vowel(\"\"))"
   ]
  },
  {
   "cell_type": "code",
   "execution_count": null,
   "metadata": {},
   "outputs": [],
   "source": []
  }
 ],
 "metadata": {
  "kernelspec": {
   "display_name": ".venv",
   "language": "python",
   "name": "python3"
  },
  "language_info": {
   "codemirror_mode": {
    "name": "ipython",
    "version": 3
   },
   "file_extension": ".py",
   "mimetype": "text/x-python",
   "name": "python",
   "nbconvert_exporter": "python",
   "pygments_lexer": "ipython3",
   "version": "3.11.1"
  },
  "orig_nbformat": 4,
  "vscode": {
   "interpreter": {
    "hash": "b8ed45f46ae93313bdeaf6b364e024d47ad211eeeeeeec96ed3b577ee8c481c6"
   }
  }
 },
 "nbformat": 4,
 "nbformat_minor": 2
}
