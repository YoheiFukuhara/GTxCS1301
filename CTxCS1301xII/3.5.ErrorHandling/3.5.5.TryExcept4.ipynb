{
 "cells": [
  {
   "cell_type": "code",
   "execution_count": 1,
   "metadata": {},
   "outputs": [
    {
     "name": "stdout",
     "output_type": "stream",
     "text": [
      "-1.6666666666666667\n",
      "-2.5\n",
      "-5.0\n"
     ]
    }
   ],
   "source": [
    "#Right now, the code below will encounter an error when num\n",
    "#is 0, but it will not print anything when it does, and then\n",
    "#it will keep running for num = 1, num = 2, and num = 3\n",
    "#afterwards. Modify this code so that once it hits an error,\n",
    "#the loop stops altogether.\n",
    "#\n",
    "#You still should not print anything when the error is\n",
    "#encountered, and the loop definition on line 10 should not\n",
    "#be changed.\n",
    "\n",
    "try:\n",
    "    for num in range(-3, 3):\n",
    "\t    print(5 / num)\n",
    "except:\n",
    "    pass"
   ]
  },
  {
   "cell_type": "code",
   "execution_count": null,
   "metadata": {},
   "outputs": [],
   "source": []
  }
 ],
 "metadata": {
  "kernelspec": {
   "display_name": ".venv",
   "language": "python",
   "name": "python3"
  },
  "language_info": {
   "codemirror_mode": {
    "name": "ipython",
    "version": 3
   },
   "file_extension": ".py",
   "mimetype": "text/x-python",
   "name": "python",
   "nbconvert_exporter": "python",
   "pygments_lexer": "ipython3",
   "version": "3.11.1"
  },
  "orig_nbformat": 4,
  "vscode": {
   "interpreter": {
    "hash": "b8ed45f46ae93313bdeaf6b364e024d47ad211eeeeeeec96ed3b577ee8c481c6"
   }
  }
 },
 "nbformat": 4,
 "nbformat_minor": 2
}
