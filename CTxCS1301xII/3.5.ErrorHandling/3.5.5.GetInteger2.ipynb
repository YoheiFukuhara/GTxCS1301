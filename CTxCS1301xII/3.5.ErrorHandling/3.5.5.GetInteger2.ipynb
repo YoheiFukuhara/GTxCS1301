{
 "cells": [
  {
   "cell_type": "code",
   "execution_count": 3,
   "metadata": {},
   "outputs": [
    {
     "name": "stdout",
     "output_type": "stream",
     "text": [
      "5\n",
      "invalid literal for int() with base 10: 'Boggle.'\n",
      "5\n"
     ]
    }
   ],
   "source": [
    "#This exercise is identical to the previous exercise,\n",
    "#except that instead of printing \"Cannot convert!\" when my_var\n",
    "#cannot be converted to an integer, you should instead return\n",
    "#the error message that results. For a reminder of how to\n",
    "#access the error message in the except block, check out\n",
    "#3.5.3, specifically CatchingASpecificError-4.py from 3.5.3.3\n",
    "#and CatchingMultipleSpecificErrors-5.py from 3.5.3.4.\n",
    "#\n",
    "#Write a function called get_integer that takes as input one\n",
    "#variable, my_var. If my_var can be converted to an integer,\n",
    "#do so and return that integer. If my_var cannot be converted\n",
    "#to an integer, return the error message that results from\n",
    "#attempting to do so.\n",
    "#\n",
    "#Do not use any conditionals or the type() function.\n",
    "\n",
    "\n",
    "#Write your function here!\n",
    "def get_integer(my_var):\n",
    "    try:\n",
    "        return int(my_var)\n",
    "    except Exception as error:\n",
    "        return error\n",
    "\n",
    "#You can use the lines below to test out your function. When\n",
    "#the function is written correctly, the output of these three\n",
    "#lines should be:\n",
    "#5\n",
    "#invalid literal for int() with base 10: 'Boggle.'\n",
    "#5\n",
    "print(get_integer(\"5\"))\n",
    "print(get_integer(\"Boggle.\"))\n",
    "print(get_integer(5.1))"
   ]
  }
 ],
 "metadata": {
  "kernelspec": {
   "display_name": ".venv",
   "language": "python",
   "name": "python3"
  },
  "language_info": {
   "codemirror_mode": {
    "name": "ipython",
    "version": 3
   },
   "file_extension": ".py",
   "mimetype": "text/x-python",
   "name": "python",
   "nbconvert_exporter": "python",
   "pygments_lexer": "ipython3",
   "version": "3.11.1"
  },
  "orig_nbformat": 4,
  "vscode": {
   "interpreter": {
    "hash": "b8ed45f46ae93313bdeaf6b364e024d47ad211eeeeeeec96ed3b577ee8c481c6"
   }
  }
 },
 "nbformat": 4,
 "nbformat_minor": 2
}
