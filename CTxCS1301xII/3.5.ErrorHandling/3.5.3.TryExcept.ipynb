{
 "cells": [
  {
   "cell_type": "code",
   "execution_count": 1,
   "metadata": {},
   "outputs": [
    {
     "name": "stdout",
     "output_type": "stream",
     "text": [
      "Not possible\n"
     ]
    }
   ],
   "source": [
    "mystery_value = \"9\"\n",
    "\n",
    "#You may modify the lines of code above, but don't move them!\n",
    "#When you Submit your code, we'll change these lines to\n",
    "#assign different values to the variables.\n",
    "\n",
    "#Create a program that divides 10 by mystery_value and prints\n",
    "#the result. In the case that an error occurs, print \"Not\n",
    "#possible\".\n",
    "#\n",
    "#Use error handling to determine if an error will occur; do\n",
    "#not use the type() function. You might be surprised how many\n",
    "#types Python can divide by 10!\n",
    "\n",
    "\n",
    "#Add your code here!\n",
    "try:\n",
    "    print(10/mystery_value) # int()をしたら課題エラーになったので\n",
    "except:\n",
    "    print(\"Not possible\")"
   ]
  }
 ],
 "metadata": {
  "kernelspec": {
   "display_name": ".venv",
   "language": "python",
   "name": "python3"
  },
  "language_info": {
   "codemirror_mode": {
    "name": "ipython",
    "version": 3
   },
   "file_extension": ".py",
   "mimetype": "text/x-python",
   "name": "python",
   "nbconvert_exporter": "python",
   "pygments_lexer": "ipython3",
   "version": "3.11.1"
  },
  "orig_nbformat": 4,
  "vscode": {
   "interpreter": {
    "hash": "b8ed45f46ae93313bdeaf6b364e024d47ad211eeeeeeec96ed3b577ee8c481c6"
   }
  }
 },
 "nbformat": 4,
 "nbformat_minor": 2
}
