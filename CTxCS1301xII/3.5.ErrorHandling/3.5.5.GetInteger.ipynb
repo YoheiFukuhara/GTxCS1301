{
 "cells": [
  {
   "cell_type": "code",
   "execution_count": 1,
   "metadata": {},
   "outputs": [
    {
     "name": "stdout",
     "output_type": "stream",
     "text": [
      "5\n",
      "Cannot convert!\n",
      "5\n"
     ]
    }
   ],
   "source": [
    "#Write a function called get_integer that takes as input one\n",
    "#variable, my_var. If my_var can be converted to an integer,\n",
    "#do so and return that integer. If my_var cannot be converted\n",
    "#to an integer, return a message that says, \"Cannot convert!\"\n",
    "#\n",
    "#For example, for \"5\" as the value of my_var, get_integer would\n",
    "#return the integer 5. If the value of my_var is the string\n",
    "#\"Boggle.\", then get_integer would return a string with the\n",
    "#value \"Cannot convert!\"\n",
    "#\n",
    "#Do not use any conditionals or the type() function.\n",
    "\n",
    "\n",
    "#Write your function here!\n",
    "def get_integer(my_var):\n",
    "    try:\n",
    "        return int(my_var)\n",
    "    except:\n",
    "        return \"Cannot convert!\"\n",
    "\n",
    "#Below are some lines of code that will test your function.\n",
    "#You can change the value of the variable(s) to test your\n",
    "#function with different inputs.\n",
    "#\n",
    "#If your function works correctly, this will originally\n",
    "#print: 5, Cannot convert!, and 5.\n",
    "\n",
    "print(get_integer(\"5\"))\n",
    "print(get_integer(\"Boggle.\"))\n",
    "print(get_integer(5.1))"
   ]
  }
 ],
 "metadata": {
  "kernelspec": {
   "display_name": ".venv",
   "language": "python",
   "name": "python3"
  },
  "language_info": {
   "codemirror_mode": {
    "name": "ipython",
    "version": 3
   },
   "file_extension": ".py",
   "mimetype": "text/x-python",
   "name": "python",
   "nbconvert_exporter": "python",
   "pygments_lexer": "ipython3",
   "version": "3.11.1 (main, Dec 25 2022, 14:08:23) [Clang 14.0.0 (clang-1400.0.29.202)]"
  },
  "orig_nbformat": 4,
  "vscode": {
   "interpreter": {
    "hash": "b8ed45f46ae93313bdeaf6b364e024d47ad211eeeeeeec96ed3b577ee8c481c6"
   }
  }
 },
 "nbformat": 4,
 "nbformat_minor": 2
}
