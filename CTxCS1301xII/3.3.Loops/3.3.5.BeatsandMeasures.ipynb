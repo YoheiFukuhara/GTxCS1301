{
 "cells": [
  {
   "cell_type": "code",
   "execution_count": 2,
   "metadata": {},
   "outputs": [
    {
     "name": "stdout",
     "output_type": "stream",
     "text": [
      "1\n",
      "2\n",
      "3\n",
      "4\n",
      "1\n",
      "2\n",
      "3\n",
      "4\n",
      "1\n",
      "2\n",
      "3\n",
      "4\n",
      "1\n",
      "2\n",
      "3\n",
      "4\n",
      "1\n",
      "2\n",
      "3\n",
      "4\n"
     ]
    }
   ],
   "source": [
    "beats_per_measure = 4\n",
    "measures = 5\n",
    "\n",
    "#You may modify the lines of code above, but don't move them!\n",
    "#When you Submit your code, we'll change these lines to\n",
    "#assign different values to the variables.\n",
    "\n",
    "#In music, a song's time signature is given in terms of beats\n",
    "#per measure. A common time signature is 4 beats per measure:\n",
    "#for every measure of music, a conductor might count from 1\n",
    "#to 4 with the tempo of the music.\n",
    "#\n",
    "#A song then has a number of measures. For example, a short\n",
    "#song might have only 5 measures. In which case, a conductor\n",
    "#would count from 1 to 4 five times. If the time signature had\n",
    "#instead been 3 beats per measure, she would could from 1 to 3\n",
    "#five times instead.\n",
    "#\n",
    "#Write a nested for loop that will print out the beats of the\n",
    "#piece of music. For example, if the song had 4 beats per\n",
    "#measure and only 2 measures, this would print out:\n",
    "#\n",
    "#1\n",
    "#2\n",
    "#3\n",
    "#4\n",
    "#1\n",
    "#2\n",
    "#3\n",
    "#4\n",
    "#\n",
    "#We print from 1 to 4 before starting over because there are\n",
    "#4 beats per measure, and we print them all twice because there\n",
    "#are two measures.\n",
    "\n",
    "\n",
    "#Add your code here! Using the original values of the variables\n",
    "#above, this will initially print 1 through 4 five times for a\n",
    "#total of 20 lines.\n",
    "for i in range(measures):\n",
    "    for beat in range(1, beats_per_measure+1):\n",
    "        print(beat)"
   ]
  }
 ],
 "metadata": {
  "kernelspec": {
   "display_name": ".venv",
   "language": "python",
   "name": "python3"
  },
  "language_info": {
   "codemirror_mode": {
    "name": "ipython",
    "version": 3
   },
   "file_extension": ".py",
   "mimetype": "text/x-python",
   "name": "python",
   "nbconvert_exporter": "python",
   "pygments_lexer": "ipython3",
   "version": "3.11.1"
  },
  "orig_nbformat": 4,
  "vscode": {
   "interpreter": {
    "hash": "b8ed45f46ae93313bdeaf6b364e024d47ad211eeeeeeec96ed3b577ee8c481c6"
   }
  }
 },
 "nbformat": 4,
 "nbformat_minor": 2
}
