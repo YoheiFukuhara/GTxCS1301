{
 "cells": [
  {
   "cell_type": "code",
   "execution_count": 1,
   "metadata": {},
   "outputs": [
    {
     "name": "stdout",
     "output_type": "stream",
     "text": [
      "120\n"
     ]
    }
   ],
   "source": [
    "mystery_int = 5\n",
    "\n",
    "#You may modify the lines of code above, but don't move them!\n",
    "#When you Submit your code, we'll change these lines to\n",
    "#assign different values to the variables.\n",
    "\n",
    "#In math, forialact is a mathematical operation where an\n",
    "#integer is multipled by every number between itself and 1.\n",
    "#For example, 5 factorial is 5 * 4 * 3 * 2 * 1, or 120.\n",
    "#Factorial is represented by an exclamation point: 5!\n",
    "#\n",
    "#Use a for loop to calculate the factorial of the number\n",
    "#given by mystery_int above. Then, print the result.\n",
    "#\n",
    "#Hint: Running a loop from 1 to mystery_int will give you\n",
    "#all the integers you need to multiply together. You'll need\n",
    "#to track the total product using a variable declared before\n",
    "#starting the loop, though!\n",
    "\n",
    "\n",
    "#Add your code here!\n",
    "factorial = 1\n",
    "for i in range (1, mystery_int+1):\n",
    "    factorial *= i\n",
    "print(factorial)"
   ]
  }
 ],
 "metadata": {
  "kernelspec": {
   "display_name": ".venv",
   "language": "python",
   "name": "python3"
  },
  "language_info": {
   "codemirror_mode": {
    "name": "ipython",
    "version": 3
   },
   "file_extension": ".py",
   "mimetype": "text/x-python",
   "name": "python",
   "nbconvert_exporter": "python",
   "pygments_lexer": "ipython3",
   "version": "3.11.1"
  },
  "orig_nbformat": 4,
  "vscode": {
   "interpreter": {
    "hash": "b8ed45f46ae93313bdeaf6b364e024d47ad211eeeeeeec96ed3b577ee8c481c6"
   }
  }
 },
 "nbformat": 4,
 "nbformat_minor": 2
}
