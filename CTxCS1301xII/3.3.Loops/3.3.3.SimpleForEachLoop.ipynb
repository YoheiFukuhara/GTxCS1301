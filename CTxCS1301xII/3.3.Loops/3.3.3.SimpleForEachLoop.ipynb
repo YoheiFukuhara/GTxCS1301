{
 "cells": [
  {
   "cell_type": "code",
   "execution_count": 1,
   "metadata": {},
   "outputs": [
    {
     "name": "stdout",
     "output_type": "stream",
     "text": [
      "0 C\n",
      "1 S\n",
      "2 1\n",
      "3 3\n",
      "4 0\n",
      "5 1\n"
     ]
    }
   ],
   "source": [
    "mystery_string = \"CS1301\"\n",
    "\n",
    "#Write a for-each loop that lists each character in\n",
    "#mystery_string with its index. For example, if the string\n",
    "#was \"David\", the output would be:\n",
    "#0 D\n",
    "#1 a\n",
    "#2 v\n",
    "#3 i\n",
    "#4 d\n",
    "#\n",
    "#Note that the first item is #0, the second is #1, and so\n",
    "#on! We'll talk about why that is in Unit 4.\n",
    "#\n",
    "#Hint: You'll need a separate variable to keep track of how\n",
    "#many letters you've printed! You may not use the range\n",
    "#function on this problem.\n",
    "\n",
    "\n",
    "#Add your code here!\n",
    "for i, char in enumerate(mystery_string):\n",
    "    print(i, char)"
   ]
  }
 ],
 "metadata": {
  "kernelspec": {
   "display_name": ".venv",
   "language": "python",
   "name": "python3"
  },
  "language_info": {
   "codemirror_mode": {
    "name": "ipython",
    "version": 3
   },
   "file_extension": ".py",
   "mimetype": "text/x-python",
   "name": "python",
   "nbconvert_exporter": "python",
   "pygments_lexer": "ipython3",
   "version": "3.11.1"
  },
  "orig_nbformat": 4,
  "vscode": {
   "interpreter": {
    "hash": "b8ed45f46ae93313bdeaf6b364e024d47ad211eeeeeeec96ed3b577ee8c481c6"
   }
  }
 },
 "nbformat": 4,
 "nbformat_minor": 2
}
