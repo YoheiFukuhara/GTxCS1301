{
 "cells": [
  {
   "cell_type": "code",
   "execution_count": 4,
   "metadata": {},
   "outputs": [
    {
     "name": "stdout",
     "output_type": "stream",
     "text": [
      "First loop:\n",
      "1\n",
      "2\n",
      "3\n",
      "4\n",
      "5\n",
      "6\n",
      "7\n",
      "8\n",
      "9\n",
      "10\n",
      "Second loop:\n",
      "-5\n",
      "-4\n",
      "-3\n",
      "-2\n",
      "-1\n",
      "0\n",
      "1\n",
      "2\n",
      "3\n",
      "4\n",
      "5\n",
      "Third loop:\n",
      "2\n",
      "4\n",
      "6\n",
      "8\n",
      "10\n",
      "12\n",
      "14\n",
      "16\n",
      "18\n",
      "20\n"
     ]
    }
   ],
   "source": [
    "#In the designated areas below, write the three for loops\n",
    "#that are described. Do not change the print statements that\n",
    "#are currently there.\n",
    "\n",
    "print(\"First loop:\")\n",
    "\n",
    "#Write a loop here that prints the numbers from 1 to 10,\n",
    "#inclusive (meaning that it prints both 1 and 10, and all\n",
    "#the numbers in between). Print each number on a separate\n",
    "#line.\n",
    "for i in range(1, 11):\n",
    "    print(i)\n",
    "\n",
    "print(\"Second loop:\")\n",
    "\n",
    "#Write a loop here that prints the numbers from -5 to 5,\n",
    "#inclusive. Print each number on a separate line.\n",
    "for i in range(-5, 6):\n",
    "    print(i)\n",
    "\n",
    "\n",
    "print(\"Third loop:\")\n",
    "\n",
    "#Write a loop here that prints the even numbers only from 1\n",
    "#to 20, inclusive. Print each number on a separate line.\n",
    "#\n",
    "#Hint: There are two ways to do this. You can use the syntax\n",
    "#for the range() function shown in the multiple-choice\n",
    "#problem above, or you can use a conditional with a modulus\n",
    "#operator to determine whether or not to print.\n",
    "for i in range(2, 21, 2):\n",
    "    print(i)"
   ]
  }
 ],
 "metadata": {
  "kernelspec": {
   "display_name": ".venv",
   "language": "python",
   "name": "python3"
  },
  "language_info": {
   "codemirror_mode": {
    "name": "ipython",
    "version": 3
   },
   "file_extension": ".py",
   "mimetype": "text/x-python",
   "name": "python",
   "nbconvert_exporter": "python",
   "pygments_lexer": "ipython3",
   "version": "3.11.1"
  },
  "orig_nbformat": 4,
  "vscode": {
   "interpreter": {
    "hash": "b8ed45f46ae93313bdeaf6b364e024d47ad211eeeeeeec96ed3b577ee8c481c6"
   }
  }
 },
 "nbformat": 4,
 "nbformat_minor": 2
}
