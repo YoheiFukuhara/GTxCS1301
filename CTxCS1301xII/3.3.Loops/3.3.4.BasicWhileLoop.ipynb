{
 "cells": [
  {
   "cell_type": "code",
   "execution_count": 1,
   "metadata": {},
   "outputs": [
    {
     "name": "stdout",
     "output_type": "stream",
     "text": [
      "96\n",
      "105\n"
     ]
    }
   ],
   "source": [
    "mystery_value = 87\n",
    "\n",
    "#You may modify the lines of code above, but don't move them!\n",
    "#When you Submit your code, we'll change these lines to\n",
    "#assign different values to the variables.\n",
    "\n",
    "#Write a while loop that continues to add 9 to mystery_value\n",
    "#until mystery_value is greater than 100. Each time 9 is\n",
    "#added, print the *new* value of mystery_value. For example,\n",
    "#with mystery_value = 87, your code should print 96 and 105.\n",
    "\n",
    "#Add your code here!\n",
    "while mystery_value <= 100:\n",
    "    mystery_value += 9\n",
    "    print(mystery_value)"
   ]
  }
 ],
 "metadata": {
  "kernelspec": {
   "display_name": ".venv",
   "language": "python",
   "name": "python3"
  },
  "language_info": {
   "codemirror_mode": {
    "name": "ipython",
    "version": 3
   },
   "file_extension": ".py",
   "mimetype": "text/x-python",
   "name": "python",
   "nbconvert_exporter": "python",
   "pygments_lexer": "ipython3",
   "version": "3.11.1"
  },
  "orig_nbformat": 4,
  "vscode": {
   "interpreter": {
    "hash": "b8ed45f46ae93313bdeaf6b364e024d47ad211eeeeeeec96ed3b577ee8c481c6"
   }
  }
 },
 "nbformat": 4,
 "nbformat_minor": 2
}
