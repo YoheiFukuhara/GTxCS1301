{
 "cells": [
  {
   "cell_type": "code",
   "execution_count": 4,
   "metadata": {},
   "outputs": [
    {
     "name": "stdout",
     "output_type": "stream",
     "text": [
      "I wanna be your endgame\n",
      "I wanna be your first string\n",
      "I wanna be your A-Team\n",
      "I wanna be your endgame, endgame\n",
      "I wanna be your endgame\n",
      "I wanna be your first string\n",
      "I wanna be your A-Team\n",
      "I wanna be your endgame, endgame\n",
      "MAKE IT STOP\n"
     ]
    }
   ],
   "source": [
    "lyrics = [\"I wanna be your endgame\", \"I wanna be your first string\",\n",
    "          \"I wanna be your A-Team\", \"I wanna be your endgame, endgame\"]\n",
    "lines_of_sanity = 6\n",
    "\n",
    "#You may modify the lines of code above, but don't move them!\n",
    "#When you Submit your code, we'll change these lines to\n",
    "#assign different values to the variables.\n",
    "\n",
    "#Imagine you have a song stuck in your head. Worse, you have\n",
    "#only a few lines from a song stuck in your head. They just\n",
    "#keep repeating over and over. The specific lines you have\n",
    "#stuck in your head are stored in the variable lyrics.\n",
    "#\n",
    "#You can only stay sane so long while doing this.\n",
    "#Specifically, you can only listen to lines_of_sanity lines\n",
    "#before going crazy. Once you've reached lines_of_sanity,\n",
    "#your brain will finish out the current list, then crumble.\n",
    "#\n",
    "#Write some code that will print the lyrics that run through\n",
    "#your head. It should keep repeating each line one-by-one\n",
    "#until you've reached lines_of_sanity lines. Then, it should\n",
    "#keep going to finish out the current verse. After that, print\n",
    "#\"MAKE IT STOP\" in all caps (without the quotes).\n",
    "#\n",
    "#HINT: Remember, we can iterate through items in a list using\n",
    "#this syntax:\n",
    "#\n",
    "#  for item in list_of_items:\n",
    "#\n",
    "#HINT 2: You'll probably need a counter to count how many lines\n",
    "#have been printed so far.\n",
    "\n",
    "\n",
    "#Add your code here! Using the initial inputs from above, this\n",
    "#should print 9 lines: all 4 lines of the list twice, followed\n",
    "#by MAKE IT STOP\n",
    "while lines_of_sanity > 0:\n",
    "    for lyric in lyrics:\n",
    "        print(lyric)\n",
    "        lines_of_sanity -= 1\n",
    "print(\"MAKE IT STOP\")"
   ]
  }
 ],
 "metadata": {
  "kernelspec": {
   "display_name": ".venv",
   "language": "python",
   "name": "python3"
  },
  "language_info": {
   "codemirror_mode": {
    "name": "ipython",
    "version": 3
   },
   "file_extension": ".py",
   "mimetype": "text/x-python",
   "name": "python",
   "nbconvert_exporter": "python",
   "pygments_lexer": "ipython3",
   "version": "3.11.1"
  },
  "orig_nbformat": 4,
  "vscode": {
   "interpreter": {
    "hash": "b8ed45f46ae93313bdeaf6b364e024d47ad211eeeeeeec96ed3b577ee8c481c6"
   }
  }
 },
 "nbformat": 4,
 "nbformat_minor": 2
}
