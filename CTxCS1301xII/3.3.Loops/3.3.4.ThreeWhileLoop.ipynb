{
 "cells": [
  {
   "cell_type": "code",
   "execution_count": 1,
   "metadata": {},
   "outputs": [
    {
     "name": "stdout",
     "output_type": "stream",
     "text": [
      "2 3 4\n",
      "1 2 3\n",
      "0 1 2\n",
      "-1 0 1\n",
      "-2 -1 0\n"
     ]
    }
   ],
   "source": [
    "mystery_int_1 = 3\n",
    "mystery_int_2 = 4\n",
    "mystery_int_3 = 5\n",
    "\n",
    "#You may modify the lines of code above, but don't move them!\n",
    "#When you Submit your code, we'll change these lines to\n",
    "#assign different values to the variables.\n",
    "\n",
    "#Above are three values. Run a while loop until all three\n",
    "#values are less than or equal to 0. Every time you change\n",
    "#the value of the three variables, print out their new values\n",
    "#all on the same line, separated by single spaces. For\n",
    "#example, if their values were 3, 4, and 5 respectively, your\n",
    "#code would print:\n",
    "#\n",
    "#2 3 4\n",
    "#1 2 3\n",
    "#0 1 2\n",
    "#-1 0 1\n",
    "#-2 -1 0\n",
    "\n",
    "\n",
    "#Add your code here!\n",
    "while not(mystery_int_1 <= 0 and mystery_int_2 <= 0 and mystery_int_3 <= 0):\n",
    "    mystery_int_1 -= 1\n",
    "    mystery_int_2 -= 1\n",
    "    mystery_int_3 -= 1\n",
    "    print(mystery_int_1, mystery_int_2, mystery_int_3)"
   ]
  }
 ],
 "metadata": {
  "kernelspec": {
   "display_name": ".venv",
   "language": "python",
   "name": "python3"
  },
  "language_info": {
   "codemirror_mode": {
    "name": "ipython",
    "version": 3
   },
   "file_extension": ".py",
   "mimetype": "text/x-python",
   "name": "python",
   "nbconvert_exporter": "python",
   "pygments_lexer": "ipython3",
   "version": "3.11.1"
  },
  "orig_nbformat": 4,
  "vscode": {
   "interpreter": {
    "hash": "b8ed45f46ae93313bdeaf6b364e024d47ad211eeeeeeec96ed3b577ee8c481c6"
   }
  }
 },
 "nbformat": 4,
 "nbformat_minor": 2
}
