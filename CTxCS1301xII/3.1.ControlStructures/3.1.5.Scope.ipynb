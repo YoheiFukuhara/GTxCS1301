{
 "cells": [
  {
   "cell_type": "code",
   "execution_count": 1,
   "metadata": {},
   "outputs": [
    {
     "name": "stdout",
     "output_type": "stream",
     "text": [
      "mystery_value is less than 0.\n",
      "Boo :(\n"
     ]
    }
   ],
   "source": [
    "mystery_value = -1\n",
    "\n",
    "#You may modify the lines of code above, but don't move them!\n",
    "#When you Submit your code, we'll change these lines to\n",
    "#assign different values to the variables.\n",
    "\n",
    "#Notice that when you run this code, you encounter an error.\n",
    "#Instead of this error, we want this code to print \"Boo :(\"\n",
    "#(without the quotes) if mystery_value is not greater than 0.\n",
    "#\n",
    "#Fix this error WITHOUT modifying the existing code. You can\n",
    "#fix this error by only adding some code before the existing\n",
    "#code below.\n",
    "\n",
    "\n",
    "#Make any changes or additions here!\n",
    "result = \"Boo :(\"\n",
    "\n",
    "#Don't change any of the code below!\n",
    "if mystery_value > 0:\n",
    "    print(\"mystery_value is greater than 0.\")\n",
    "    result = \"Yay!\"\n",
    "else:\n",
    "    print(\"mystery_value is less than 0.\")\n",
    "\n",
    "print(result)"
   ]
  }
 ],
 "metadata": {
  "kernelspec": {
   "display_name": ".venv",
   "language": "python",
   "name": "python3"
  },
  "language_info": {
   "codemirror_mode": {
    "name": "ipython",
    "version": 3
   },
   "file_extension": ".py",
   "mimetype": "text/x-python",
   "name": "python",
   "nbconvert_exporter": "python",
   "pygments_lexer": "ipython3",
   "version": "3.11.1"
  },
  "orig_nbformat": 4,
  "vscode": {
   "interpreter": {
    "hash": "b8ed45f46ae93313bdeaf6b364e024d47ad211eeeeeeec96ed3b577ee8c481c6"
   }
  }
 },
 "nbformat": 4,
 "nbformat_minor": 2
}
