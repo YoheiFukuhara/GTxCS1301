{
 "cells": [
  {
   "cell_type": "code",
   "execution_count": 1,
   "metadata": {},
   "outputs": [
    {
     "name": "stdout",
     "output_type": "stream",
     "text": [
      "This line should only run if 'mystery_value' is GREATER than 0.\n",
      "This line should only be printed if the above line is printed.\n",
      "This line should always be printed.\n",
      "This line should always be printed.\n",
      "\n"
     ]
    }
   ],
   "source": [
    "mystery_value = 1\n",
    "\n",
    "#You may modify the lines of code above, but don't move them!\n",
    "#When you Submit your code, we'll change these lines to\n",
    "#assign different values to the variables.\n",
    "\n",
    "#All of the indentation has been removed from this program. \n",
    "#Fix the program by correcting the indentation levels. Note\n",
    "#that you should add indentation by adding FOUR SPACES to the\n",
    "#start of the lines you want to indent. If you use Tab, you\n",
    "#will receive an IndentationError in your output.\n",
    "#\n",
    "#Hint: you'll learn more about conditionals in the next\n",
    "#chapter, but for now, all you need to know is that if a line\n",
    "#is indented under another line, it's controlled by that line.\n",
    "\n",
    "if mystery_value > 0:\n",
    "    print(\"This line should only run if 'mystery_value' is GREATER than 0.\")\n",
    "    print(\"This line should only be printed if the above line is printed.\")\n",
    "print(\"This line should always be printed.\")\n",
    "if 0 > mystery_value:\n",
    "    print(\"This line should only run if 'mystery_value' is LESS than 0.\")\n",
    "print(\"This line should always be printed.\\n\")"
   ]
  }
 ],
 "metadata": {
  "kernelspec": {
   "display_name": ".venv",
   "language": "python",
   "name": "python3"
  },
  "language_info": {
   "codemirror_mode": {
    "name": "ipython",
    "version": 3
   },
   "file_extension": ".py",
   "mimetype": "text/x-python",
   "name": "python",
   "nbconvert_exporter": "python",
   "pygments_lexer": "ipython3",
   "version": "3.11.1"
  },
  "orig_nbformat": 4,
  "vscode": {
   "interpreter": {
    "hash": "b8ed45f46ae93313bdeaf6b364e024d47ad211eeeeeeec96ed3b577ee8c481c6"
   }
  }
 },
 "nbformat": 4,
 "nbformat_minor": 2
}
