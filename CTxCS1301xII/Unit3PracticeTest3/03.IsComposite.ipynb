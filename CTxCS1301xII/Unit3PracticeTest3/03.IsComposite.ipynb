{
 "cells": [
  {
   "cell_type": "code",
   "execution_count": 2,
   "metadata": {},
   "outputs": [
    {
     "name": "stdout",
     "output_type": "stream",
     "text": [
      "False\n",
      "True\n",
      "False\n",
      "True\n",
      "False\n",
      "True\n"
     ]
    }
   ],
   "source": [
    "#Write a function called is_composite. is_composite should\n",
    "#take as input one integer. It should return True if the\n",
    "#integer is composite, False if the integer is not not\n",
    "#composite. You may assume the integer will be greater than\n",
    "#2 and less than 1000.\n",
    "#\n",
    "#Remember, a composite number is one into which at least\n",
    "#one number is divisible besides 1 and the number itself.\n",
    "#For example, 6 is composite because it is divisible by 2\n",
    "#and 3. 7 is not composite because it is only divisible by 1\n",
    "#and itself.\n",
    "#\n",
    "#HINT: Remember, once you find a _single_ factor of the\n",
    "#number, you can return True: it only takes one factor\n",
    "#to make the number composite.\n",
    "\n",
    "\n",
    "#Add your code here!\n",
    "def is_composite(num):\n",
    "    for i in range(2, num):\n",
    "        if num % i == 0:\n",
    "            return True\n",
    "    return False\n",
    "\n",
    "#Below are some lines of code that will test your function.\n",
    "#You can change the value of the variable(s) to test your\n",
    "#function with different inputs.\n",
    "#\n",
    "#If your function works correctly, this will originally\n",
    "#print: False, True, False, True, False, True\n",
    "print(is_composite(5))\n",
    "print(is_composite(6))\n",
    "print(is_composite(97))\n",
    "print(is_composite(105))\n",
    "print(is_composite(997))\n",
    "print(is_composite(999))"
   ]
  }
 ],
 "metadata": {
  "kernelspec": {
   "display_name": ".venv",
   "language": "python",
   "name": "python3"
  },
  "language_info": {
   "codemirror_mode": {
    "name": "ipython",
    "version": 3
   },
   "file_extension": ".py",
   "mimetype": "text/x-python",
   "name": "python",
   "nbconvert_exporter": "python",
   "pygments_lexer": "ipython3",
   "version": "3.11.1"
  },
  "orig_nbformat": 4,
  "vscode": {
   "interpreter": {
    "hash": "b8ed45f46ae93313bdeaf6b364e024d47ad211eeeeeeec96ed3b577ee8c481c6"
   }
  }
 },
 "nbformat": 4,
 "nbformat_minor": 2
}
