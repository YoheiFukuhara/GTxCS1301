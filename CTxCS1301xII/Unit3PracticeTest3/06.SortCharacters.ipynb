{
 "cells": [
  {
   "cell_type": "code",
   "execution_count": 3,
   "metadata": {},
   "outputs": [
    {
     "name": "stdout",
     "output_type": "stream",
     "text": [
      "DJavidoyner\n",
      "GTeorgiaech\n",
      "TICShiss1301!\n",
      "OTTnewohree123.?!\n",
      "CS1301\n"
     ]
    }
   ],
   "source": [
    "#Write a function called sort_characters. sort_characters\n",
    "#should take as input one parameter, a string.\n",
    "#\n",
    "#sort_characters should return a string such that all the\n",
    "#characters in the original string are still present, but\n",
    "#in a different order. All the capital letters should appear\n",
    "#first, then all the lower-case letters, then all the\n",
    "#numerals, then all the punctuation marks. Within each\n",
    "#category, the letters should appear in the same order as\n",
    "#in the original string.\n",
    "#\n",
    "#For example, for the string \"DavidJoyner\", the function\n",
    "#would return \"DJavidoyner\": the capital letters (DJ) first,\n",
    "#then the lower case, all in the same order in which they\n",
    "#originally appeared.\n",
    "#\n",
    "#Some more examples:\n",
    "#\n",
    "# sort_characters(\"GeorgiaTech\") -> \"GTeorgiaech\"\n",
    "# sort_characters(\"ThisIsCS1301!\") -> \"TICShiss1301!\"\n",
    "# sort_characters(\"One1.Two2?Three3!\") -> \"OTTnewohree123.?!\"\n",
    "# sort_characters(\"CS1301\") -> \"CS1301\"\n",
    "#\n",
    "#You may use the ord() function to get a letter's ordinal\n",
    "#number. The ordinal numbers you might need to use are:\n",
    "#\n",
    "# - Capital letters: 65 (\"A\") through 90 (\"Z\").\n",
    "# - Lower-case letters: 97 (\"a\") through 122 (\"z\").\n",
    "# - Numerals: 48 (\"0\") through 57 (\"9\").\n",
    "# - Punctuation: Any other ordinals (for this problem).\n",
    "#\n",
    "#Hint: You don't have to use ordinal numbers; you can use the\n",
    "#in operator instead, e.g. \"a\" in \"abcde\".\n",
    "#\n",
    "#Hint 2: If you're stuck, think of this problem in two stages:\n",
    "#dividing the characters into their categories, and then\n",
    "#recombining them into their results!\n",
    "\n",
    "\n",
    "#Write your function here!\n",
    "def sort_characters(string):\n",
    "    classified = {\"capital\": \"\", \n",
    "                  \"lower\": \"\", \n",
    "                  \"numerals\": \"\", \n",
    "                  \"punctuation\": \"\"}\n",
    "    for char in string:\n",
    "        if 65 <= ord(char) <= 90:\n",
    "            classified[\"capital\"] += char\n",
    "        elif 97 <= ord(char) <= 122:\n",
    "            classified[\"lower\"] += char\n",
    "        elif 48 <= ord(char) <= 57:\n",
    "            classified[\"numerals\"] += char\n",
    "        else:\n",
    "            classified[\"punctuation\"] += char\n",
    "    return classified[\"capital\"] + classified[\"lower\"] + classified[\"numerals\"] + classified[\"punctuation\"]\n",
    "\n",
    "#Below are some lines of code that will test your function.\n",
    "#You can change the value of the variable(s) to test your\n",
    "#function with different inputs.\n",
    "#\n",
    "#If your function works correctly, this will originally\n",
    "#print:\n",
    "#DJavidoyner\n",
    "#GTeorgiaech\n",
    "#TICShiss1301\n",
    "#OTTnewohree123.?!\n",
    "#CS1301\n",
    "print(sort_characters(\"DavidJoyner\"))\n",
    "print(sort_characters(\"GeorgiaTech\"))\n",
    "print(sort_characters(\"ThisIsCS1301!\"))\n",
    "print(sort_characters(\"One1.Two2?Three3!\"))\n",
    "print(sort_characters(\"CS1301\"))"
   ]
  }
 ],
 "metadata": {
  "kernelspec": {
   "display_name": ".venv",
   "language": "python",
   "name": "python3"
  },
  "language_info": {
   "codemirror_mode": {
    "name": "ipython",
    "version": 3
   },
   "file_extension": ".py",
   "mimetype": "text/x-python",
   "name": "python",
   "nbconvert_exporter": "python",
   "pygments_lexer": "ipython3",
   "version": "3.11.1"
  },
  "orig_nbformat": 4,
  "vscode": {
   "interpreter": {
    "hash": "b8ed45f46ae93313bdeaf6b364e024d47ad211eeeeeeec96ed3b577ee8c481c6"
   }
  }
 },
 "nbformat": 4,
 "nbformat_minor": 2
}
