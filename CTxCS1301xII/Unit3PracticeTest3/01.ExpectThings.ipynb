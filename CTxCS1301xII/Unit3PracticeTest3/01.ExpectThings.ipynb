{
 "cells": [
  {
   "cell_type": "code",
   "execution_count": 1,
   "metadata": {},
   "outputs": [
    {
     "name": "stdout",
     "output_type": "stream",
     "text": [
      "$14.85\n"
     ]
    }
   ],
   "source": [
    "original_total = 20.0\n",
    "sales_tax_rate = 0.1\n",
    "is_member = True\n",
    "has_coupon = True\n",
    "\n",
    "#You may modify the lines of code above, but don't move them!\n",
    "#When you Submit your code, we'll change these lines to\n",
    "#assign different values to the variables.\n",
    "\n",
    "#Imagine you're writing the software for a cash register at a\n",
    "#retail vendor. The cash register is given a total by the\n",
    "#cashier (original_total), and must print the total cost for\n",
    "#the customer, under the following rules:\n",
    "#\n",
    "# - There is currently a \"$5 off $15\" coupon available. If their\n",
    "#   original total is more than $15 and they have the coupon\n",
    "#   (has_coupon), they can use this coupon. If their total is\n",
    "#   below $15, the value of has_coupon doesn't matter.\n",
    "# - If the customer is a member of the store's discount\n",
    "#   program (is_member), they receive a 10% discount.\n",
    "# - Sales tax should be added. Sales tax is the sales_tax_rate\n",
    "#   multiplied by the original total.\n",
    "#\n",
    "#Note that these changes should be applied in this order: first\n",
    "#the coupon (if available and eligible), then the customer\n",
    "#discount, then the sales tax.\n",
    "#\n",
    "#For example, if original_total is 20, sales tax is 0.10,\n",
    "#they have a coupon, and they are members, then their total\n",
    "#would be:\n",
    "#\n",
    "#  $20 - $5 = $15 (coupon)\n",
    "#  $15 - (0.1 * $15) = $13.50 (customer discount)\n",
    "#  $13.5 + (0.1 * 13.5) = $14.85 (sales tax)\n",
    "#\n",
    "#Write some code that prints the total the customer is expected\n",
    "#to pay, including the dollar sign, rounded to two decimal places\n",
    "#(don't worry about the trailing 0 for totals like $15.50).\n",
    "#\n",
    "#Hint: To round a number, use the round function. For example,\n",
    "#round(the_num, 2) will round the_num to two decimal places and\n",
    "#return the result. Round only on the last step; if you round\n",
    "#after each calculation, your final result may be off by a cent\n",
    "#or two.\n",
    "\n",
    "\n",
    "#Add your code here! Make sure to print the dollar sign, too.\n",
    "total = original_total - 5 if has_coupon and original_total > 15 else original_total\n",
    "total = total * 0.9 if is_member else total\n",
    "total *= (1 + sales_tax_rate)\n",
    "print(f\"${round(total, 2)}\")"
   ]
  }
 ],
 "metadata": {
  "kernelspec": {
   "display_name": ".venv",
   "language": "python",
   "name": "python3"
  },
  "language_info": {
   "codemirror_mode": {
    "name": "ipython",
    "version": 3
   },
   "file_extension": ".py",
   "mimetype": "text/x-python",
   "name": "python",
   "nbconvert_exporter": "python",
   "pygments_lexer": "ipython3",
   "version": "3.11.1"
  },
  "orig_nbformat": 4,
  "vscode": {
   "interpreter": {
    "hash": "b8ed45f46ae93313bdeaf6b364e024d47ad211eeeeeeec96ed3b577ee8c481c6"
   }
  }
 },
 "nbformat": 4,
 "nbformat_minor": 2
}
