{
 "cells": [
  {
   "cell_type": "code",
   "execution_count": 3,
   "metadata": {},
   "outputs": [
    {
     "name": "stdout",
     "output_type": "stream",
     "text": [
      "True\n",
      "False\n",
      "False\n",
      "False\n",
      "False\n",
      "False\n"
     ]
    }
   ],
   "source": [
    "#10th Street Trade School is a small university. It\n",
    "#currently offers 12 majors: Accounting, Architecture,\n",
    "#Astronomy, Business, Economics, History, Law, Medicine,\n",
    "#Neuroscience, Physics, Psychology, and Zoology.\n",
    "#\n",
    "#10th Street's class-numbering structure is the same as\n",
    "#Georgia Tech's: all classes have 4-digit numbers;\n",
    "#undergraduate classes have numbers in the 1000s, 2000s,\n",
    "#3000s, or 4000s, while graduate classes have numbers in\n",
    "#the 6000s, 7000s, or 8000s.\n",
    "#\n",
    "#For three majors, 10th Street offers only undergraduate\n",
    "#classes: Business, Architecture, and History. For three,\n",
    "#it offers only graduate classes: Law, Medicine, and\n",
    "#Neuroscience. For the other six, it offers both\n",
    "#undergraduate and graduate classes.\n",
    "#\n",
    "#However, four majors are not offered during the summer:\n",
    "#Business, Law, Architecture, and Accounting are only\n",
    "#offered in Spring and Fall semesters.\n",
    "#\n",
    "#Write a function called check_class. check_class should\n",
    "#require two positional arguments: a string for major\n",
    "#name (\"Astronomy\", \"Physics\", etc.) and an integer for\n",
    "#class number (1001, 6750, etc.). It should also have\n",
    "#one keyword parameter: is_summer. is_summer should be\n",
    "#False by default.\n",
    "#\n",
    "#check_class should return True if the class is valid,\n",
    "#or False if it is not. A class is valid if (a) its\n",
    "#major is one of the 12 majors listed above, (b) its\n",
    "#class number is appropriate for the major (6000\n",
    "#through 8999 for graduate-only majors, 1000 through\n",
    "#4999 for undergraduate-only majors, or either for\n",
    "#other majors, but nothing outside that range), and\n",
    "#(c) the class is offered during the given semester\n",
    "#(e.g. it's always offered, or it's not a summer\n",
    "#semester).\n",
    "\n",
    "\n",
    "#Write your function here!\n",
    "def check_class(major, class_num, is_summer=False):\n",
    "    majors = {\"undergraduate\": [\"Business\", \"Architecture\", \"History\"],\n",
    "              \"graduate\": [\"Law\", \"Medicine\", \"Neuroscience\"],\n",
    "              \"both\": [\"Accounting\", \"Astronomy\", \"Economics\", \n",
    "                       \"Neuroscience\", \"Physics\", \"Psychology\", \"Zoology\"],\n",
    "              \"non-summer\": [\"Business\", \"Law\", \"Architecture\", \"Accounting\"]}\n",
    "    if major in majors[\"non-summer\"] and is_summer:\n",
    "        return False\n",
    "    elif major in majors[\"undergraduate\"] and 1000 <= class_num < 5000:\n",
    "        return True\n",
    "    elif major in majors[\"graduate\"] and 6000 <= class_num < 9000:\n",
    "        return True\n",
    "    elif major in majors[\"both\"] \\\n",
    "        and (1000 <= class_num < 5000 or 6000 <= class_num < 9000):\n",
    "        return True\n",
    "    else:\n",
    "        return False\n",
    "\n",
    "#Below are some lines of code that will test your function.\n",
    "#You can change the value of the variable(s) to test your\n",
    "#function with different inputs.\n",
    "#\n",
    "#If your function works correctly, this will originally\n",
    "#print: True, False, False, False, False, False\n",
    "print(check_class(\"Accounting\", 1001))\n",
    "print(check_class(\"Accounting\", 1001, is_summer = True))\n",
    "print(check_class(\"Law\", 2001))\n",
    "print(check_class(\"History\", 6500))\n",
    "print(check_class(\"Basket-Weaving\", 3500))\n",
    "print(check_class(\"Astronomy\", 5500))"
   ]
  }
 ],
 "metadata": {
  "kernelspec": {
   "display_name": ".venv",
   "language": "python",
   "name": "python3"
  },
  "language_info": {
   "codemirror_mode": {
    "name": "ipython",
    "version": 3
   },
   "file_extension": ".py",
   "mimetype": "text/x-python",
   "name": "python",
   "nbconvert_exporter": "python",
   "pygments_lexer": "ipython3",
   "version": "3.11.1"
  },
  "orig_nbformat": 4,
  "vscode": {
   "interpreter": {
    "hash": "b8ed45f46ae93313bdeaf6b364e024d47ad211eeeeeeec96ed3b577ee8c481c6"
   }
  }
 },
 "nbformat": 4,
 "nbformat_minor": 2
}
