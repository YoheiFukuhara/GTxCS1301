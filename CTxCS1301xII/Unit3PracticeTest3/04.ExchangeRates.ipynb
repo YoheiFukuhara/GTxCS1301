{
 "cells": [
  {
   "cell_type": "code",
   "execution_count": 3,
   "metadata": {},
   "outputs": [
    {
     "name": "stdout",
     "output_type": "stream",
     "text": [
      "19.8\n",
      "21.76\n"
     ]
    }
   ],
   "source": [
    "#Imagine you're writing the software for a credit card\n",
    "#processor. This credit card offers 1% cashback to the\n",
    "#cardholder, which it calculates by deducting 1%\n",
    "#directly from the original purchase price. The software\n",
    "#also needs to account for charges made in different\n",
    "#currencies; these first need to be converted to the\n",
    "#account's local currency.\n",
    "#\n",
    "#Write a function called calculate_charge.\n",
    "#calculate_charge will have one positional parameter and\n",
    "#one keyword parameter. The positional parameter will\n",
    "#represent the original amount of the charge, in whatever\n",
    "#currency the charge was performed in. The keyword\n",
    "#parameter will represent the exchange rate between the\n",
    "#charge's currency and the account's currency; by default,\n",
    "#it should be 1.0, meaning that the charge took place in\n",
    "#the account's own currency.\n",
    "#\n",
    "#calculate_charge should return the actual charge that\n",
    "#should appear on the spender's credit card. This would\n",
    "#be the charge converted to the account's local currency\n",
    "#(by dividing the charge amount by the exchange rate) and\n",
    "#deducting 1%. The result should be rounded to two decimal\n",
    "#places, but not until after all other calculations are\n",
    "#made.\n",
    "#\n",
    "#For example, right now, 1 US Dollar is worth 0.91 Euros.\n",
    "#A 20 Euro purchase costs $21.98 because 20 / 0.91 = 21.98.\n",
    "#1% of 21.98 is 0.2198. So, if the function is called with\n",
    "#an original price of 20.0 and an exchange rate of 0.91,\n",
    "#it would return 21.76.\n",
    "#\n",
    "#Hint: Remember, you can round a number to two decimal\n",
    "#places by using the round function. round(the_num, 2) will\n",
    "#return the_num rounded to two decimal places.\n",
    "\n",
    "\n",
    "#Add your code here!\n",
    "def calculate_charge(original, exchange_rate=1.0):\n",
    "    return round(original / exchange_rate * .99, 2)\n",
    "\n",
    "#Below are some lines of code that will test your function.\n",
    "#You can change the value of the variable(s) to test your\n",
    "#function with different inputs.\n",
    "#\n",
    "#If your function works correctly, this will originally\n",
    "#print:\n",
    "#19.8\n",
    "#21.76\n",
    "print(calculate_charge(20.0))\n",
    "print(calculate_charge(20.0, exchange_rate = 0.91))"
   ]
  }
 ],
 "metadata": {
  "kernelspec": {
   "display_name": ".venv",
   "language": "python",
   "name": "python3"
  },
  "language_info": {
   "codemirror_mode": {
    "name": "ipython",
    "version": 3
   },
   "file_extension": ".py",
   "mimetype": "text/x-python",
   "name": "python",
   "nbconvert_exporter": "python",
   "pygments_lexer": "ipython3",
   "version": "3.11.1"
  },
  "orig_nbformat": 4,
  "vscode": {
   "interpreter": {
    "hash": "b8ed45f46ae93313bdeaf6b364e024d47ad211eeeeeeec96ed3b577ee8c481c6"
   }
  }
 },
 "nbformat": 4,
 "nbformat_minor": 2
}
