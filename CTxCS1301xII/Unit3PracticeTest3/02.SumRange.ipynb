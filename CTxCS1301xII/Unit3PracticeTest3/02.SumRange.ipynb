{
 "cells": [
  {
   "cell_type": "code",
   "execution_count": 1,
   "metadata": {},
   "outputs": [
    {
     "name": "stdout",
     "output_type": "stream",
     "text": [
      "5\n",
      "11\n",
      "18\n",
      "26\n",
      "35\n",
      "45\n"
     ]
    }
   ],
   "source": [
    "minimum = 5\n",
    "maximum = 10\n",
    "\n",
    "#You may modify the lines of code above, but don't move them!\n",
    "#When you Submit your code, we'll change these lines to\n",
    "#assign different values to the variables.\n",
    "\n",
    "#Write a loop (we suggest a for loop) that sums all the numbers\n",
    "#from minimum to maximum, including both minimum and maximum\n",
    "#themselves. You may assume minimum will always be less than\n",
    "#maximum.\n",
    "#\n",
    "#Your code should not only add the numbers; it should also\n",
    "#print the current sum after each number is added. So, for\n",
    "#minimum = 5 and maximum = 10, your code would print the results\n",
    "#of adding 5 + 6 + 7 + 8 + 9 + 10:\n",
    "#5\n",
    "#11\n",
    "#18\n",
    "#26\n",
    "#35\n",
    "#45\n",
    "\n",
    "\n",
    "#Add your code here!\n",
    "total = 0\n",
    "for i in range(minimum, maximum+1):\n",
    "    total += i\n",
    "    print(total)"
   ]
  }
 ],
 "metadata": {
  "kernelspec": {
   "display_name": ".venv",
   "language": "python",
   "name": "python3"
  },
  "language_info": {
   "codemirror_mode": {
    "name": "ipython",
    "version": 3
   },
   "file_extension": ".py",
   "mimetype": "text/x-python",
   "name": "python",
   "nbconvert_exporter": "python",
   "pygments_lexer": "ipython3",
   "version": "3.11.1"
  },
  "orig_nbformat": 4,
  "vscode": {
   "interpreter": {
    "hash": "b8ed45f46ae93313bdeaf6b364e024d47ad211eeeeeeec96ed3b577ee8c481c6"
   }
  }
 },
 "nbformat": 4,
 "nbformat_minor": 2
}
