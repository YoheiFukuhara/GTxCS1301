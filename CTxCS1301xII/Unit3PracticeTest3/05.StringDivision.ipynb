{
 "cells": [
  {
   "cell_type": "code",
   "execution_count": 5,
   "metadata": {},
   "outputs": [
    {
     "name": "stdout",
     "output_type": "stream",
     "text": [
      "0.04\n",
      "Done!\n"
     ]
    }
   ],
   "source": [
    "x = 10\n",
    "y = 5\n",
    "z = 2\n",
    "\n",
    "#You may modify the lines of code above, but don't move them!\n",
    "#When you Submit your code, we'll change these lines to\n",
    "#assign different values to the variables.\n",
    "#\n",
    "#Implement and print out the results of the formula below,\n",
    "#rounded to two decimal places:\n",
    "#\n",
    "# z / (x * y)\n",
    "#\n",
    "#When x, y, and z are all numbers, this should work just\n",
    "#fine: for example, for x = 10, y = 5, and z = 2, this would\n",
    "#print out 0.04: 2 / (10 * 5) = 0.04.\n",
    "#\n",
    "#However, some things might go wrong. The product of x and y\n",
    "#could be 0, or one of the values could be a string instead of\n",
    "#a number.\n",
    "#\n",
    "#If a divide-by-zero error occurs instead, print the message:\n",
    "#\"Can't divide by zero!\" (without the quotation marks).\n",
    "#\n",
    "#If one of the values ends up being a string, print the message:\n",
    "#\"Can't divide by a string!\" (without the quotation marks).\n",
    "#\n",
    "#No matter what happens, your code should print \"Done!\" (without\n",
    "#quotation marks) at the end.\n",
    "#\n",
    "#Note that you may not use any conditionals in your answer.\n",
    "#Note also that you should not assume that every error that\n",
    "#occurs is a divide-by-zero error: any other errors should\n",
    "#not be caught.\n",
    "\n",
    "\n",
    "#Add your code here!\n",
    "try:\n",
    "    print(round(z / (x * y), 2))\n",
    "except ZeroDivisionError:\n",
    "    print(\"Can't divide by zero!\")\n",
    "except TypeError:\n",
    "    print(\"Can't divide by a string!\")\n",
    "finally:\n",
    "    print(\"Done!\")    "
   ]
  }
 ],
 "metadata": {
  "kernelspec": {
   "display_name": ".venv",
   "language": "python",
   "name": "python3"
  },
  "language_info": {
   "codemirror_mode": {
    "name": "ipython",
    "version": 3
   },
   "file_extension": ".py",
   "mimetype": "text/x-python",
   "name": "python",
   "nbconvert_exporter": "python",
   "pygments_lexer": "ipython3",
   "version": "3.11.1"
  },
  "orig_nbformat": 4,
  "vscode": {
   "interpreter": {
    "hash": "b8ed45f46ae93313bdeaf6b364e024d47ad211eeeeeeec96ed3b577ee8c481c6"
   }
  }
 },
 "nbformat": 4,
 "nbformat_minor": 2
}
