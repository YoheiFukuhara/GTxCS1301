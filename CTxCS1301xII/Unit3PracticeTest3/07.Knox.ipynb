{
 "cells": [
  {
   "cell_type": "code",
   "execution_count": 1,
   "metadata": {},
   "outputs": [
    {
     "name": "stdout",
     "output_type": "stream",
     "text": [
      "9\n",
      "5\n",
      "8\n"
     ]
    }
   ],
   "source": [
    "#Write a function that will calculate the Knox index of a\n",
    "#number. The Knox Index is a thing I made up for this\n",
    "#problem, and it is defined as follows:\n",
    "#\n",
    "#Start with the number. If the number is even, divide it by\n",
    "#2. If the number is odd, add one. Repeat. Eventually, no\n",
    "#matter what number you begin with, this sequence will\n",
    "#converge on 1. If you continue repeating it, you'll repeat\n",
    "#1-2-1-2 indefinitely.\n",
    "#\n",
    "#For example, imagine we started with the number 50:\n",
    "#50 is even, so 50 / 2 = 25\n",
    "#25 is odd, so 25 + 1 = 26\n",
    "#26 is even, so 26 / 2 = 13\n",
    "#13 is odd, so 13 + 1 = 14\n",
    "#14 is even, so 14 / 2 = 7\n",
    "#7 is odd, so 7 + 1 = 8\n",
    "#8 is even, so 8 / 2 = 4\n",
    "#4 is even, so 4 / 2 = 2\n",
    "#2 is even, so 2 / 2 = 1\n",
    "#\n",
    "#Starting with 50, this sequence converges on 1 in 9\n",
    "#iterations: 50 to 25, 25 to 26, 26 to 13, 13 to 14, 14 to\n",
    "#7, 7 to 8, 8 to 4, 4 to 2, and 2 to 1.\n",
    "#\n",
    "#Implement a function called knox. knox should take as\n",
    "#input an integer, and return the integer's Knox index;\n",
    "#that is, the number of iterations it takes for the\n",
    "#number to reach 1 following those rules. For example,\n",
    "#knox(50) would return 9 because it took 9 iterations to\n",
    "#converge on 1.\n",
    "\n",
    "\n",
    "#Add your code here!\n",
    "def knox(num):\n",
    "    iteration = 0\n",
    "    while num > 1:\n",
    "        num = num / 2 if num % 2 == 0 else num +1\n",
    "        iteration += 1\n",
    "    return iteration\n",
    "\n",
    "#Below are some lines of code that will test your function.\n",
    "#You can change the value of the variable(s) to test your\n",
    "#function with different inputs.\n",
    "#\n",
    "#If your function works correctly, this will originally\n",
    "#print: 9, 5, and 8, each on their own lines.\n",
    "print(knox(50))\n",
    "print(knox(15))\n",
    "print(knox(25))"
   ]
  }
 ],
 "metadata": {
  "kernelspec": {
   "display_name": ".venv",
   "language": "python",
   "name": "python3"
  },
  "language_info": {
   "codemirror_mode": {
    "name": "ipython",
    "version": 3
   },
   "file_extension": ".py",
   "mimetype": "text/x-python",
   "name": "python",
   "nbconvert_exporter": "python",
   "pygments_lexer": "ipython3",
   "version": "3.11.1"
  },
  "orig_nbformat": 4,
  "vscode": {
   "interpreter": {
    "hash": "b8ed45f46ae93313bdeaf6b364e024d47ad211eeeeeeec96ed3b577ee8c481c6"
   }
  }
 },
 "nbformat": 4,
 "nbformat_minor": 2
}
